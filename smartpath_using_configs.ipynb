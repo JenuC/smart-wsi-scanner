{
 "cells": [
  {
   "cell_type": "code",
   "execution_count": 1,
   "id": "e105e28a-881d-4b6a-b8a2-0f2a74f513df",
   "metadata": {},
   "outputs": [],
   "source": [
    "import smartpath_configloader as sp_cfg\n",
    "camm = sp_cfg.load_config(\"./smartpath_configurations/config_CAMM.yml\")\n",
    "#ppm = sp_cfg.load_config(\"./config/config_PPM.yml\")\n",
    "#rsc = sp_cfg.load_config(\"./config/resources_LOCI.yml\")"
   ]
  },
  {
   "cell_type": "code",
   "execution_count": 4,
   "id": "0fa75e2b-2878-44a8-af18-e5a5a907409d",
   "metadata": {},
   "outputs": [],
   "source": [
    "from pycromanager import Core, Studio\n",
    "def init_pycromanager():\n",
    "    from pycromanager import Core, Studio\n",
    "    core = Core()\n",
    "    studio = Studio()\n",
    "    core.set_timeout_ms(20000)\n",
    "    return core, studio\n",
    "core,studio = init_pycromanager()"
   ]
  },
  {
   "cell_type": "code",
   "execution_count": 4,
   "id": "1258c7cf-f410-41fb-a5d0-e2cafa02d541",
   "metadata": {},
   "outputs": [
    {
     "data": {
      "text/plain": [
       "False"
      ]
     },
     "execution_count": 4,
     "metadata": {},
     "output_type": "execute_result"
    }
   ],
   "source": [
    "camm.imagingMode.BF_20x.LSM"
   ]
  },
  {
   "cell_type": "code",
   "execution_count": null,
   "id": "26a523e6-fba9-42ba-9ebb-c5eddaa794d2",
   "metadata": {},
   "outputs": [],
   "source": []
  },
  {
   "cell_type": "code",
   "execution_count": null,
   "id": "11837d20-6507-4736-80b5-ad8fbec1e923",
   "metadata": {},
   "outputs": [],
   "source": []
  },
  {
   "cell_type": "code",
   "execution_count": null,
   "id": "e5c085f7-ec1f-498a-9639-9b8beb9a2996",
   "metadata": {},
   "outputs": [],
   "source": []
  },
  {
   "cell_type": "code",
   "execution_count": null,
   "id": "727e845c-3402-4d90-be12-d951c55e1066",
   "metadata": {},
   "outputs": [],
   "source": []
  },
  {
   "cell_type": "code",
   "execution_count": 13,
   "id": "d173d9e2-9e2c-4daf-ad0e-15e11b157cfa",
   "metadata": {},
   "outputs": [
    {
     "data": {
      "text/plain": [
       "-10600"
      ]
     },
     "execution_count": 13,
     "metadata": {},
     "output_type": "execute_result"
    }
   ],
   "source": [
    "camm_stage.stage.zlimit.low"
   ]
  },
  {
   "cell_type": "code",
   "execution_count": null,
   "id": "ed5526b4-20ae-4bd2-b387-3f0c392fb772",
   "metadata": {},
   "outputs": [],
   "source": [
    "camm_stage.stage.zlimit.low"
   ]
  }
 ],
 "metadata": {
  "kernelspec": {
   "display_name": "Python 3 (ipykernel)",
   "language": "python",
   "name": "python3"
  },
  "language_info": {
   "codemirror_mode": {
    "name": "ipython",
    "version": 3
   },
   "file_extension": ".py",
   "mimetype": "text/x-python",
   "name": "python",
   "nbconvert_exporter": "python",
   "pygments_lexer": "ipython3",
   "version": "3.8.17"
  }
 },
 "nbformat": 4,
 "nbformat_minor": 5
}
