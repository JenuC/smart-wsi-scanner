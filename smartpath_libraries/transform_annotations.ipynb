{
 "cells": [
  {
   "cell_type": "code",
   "execution_count": 55,
   "id": "regular-thumb",
   "metadata": {},
   "outputs": [],
   "source": [
    "from glob import glob\n",
    "from os.path import join\n",
    "from annotation_translator import AnnotationTranslator\n",
    "import os"
   ]
  },
  {
   "cell_type": "code",
   "execution_count": 66,
   "id": "magnetic-definition",
   "metadata": {},
   "outputs": [],
   "source": [
    "aperios = glob(join('datasets', 'aperio', '*.svs'))\n",
    "camms = glob(join('datasets', 'camm', '*.tif'))\n",
    "annotations = glob(join('annotations', '*'))"
   ]
  },
  {
   "cell_type": "code",
   "execution_count": 67,
   "id": "filled-means",
   "metadata": {},
   "outputs": [],
   "source": [
    "translator = AnnotationTranslator(aperios, camms, annotations, down_factor=32)"
   ]
  },
  {
   "cell_type": "code",
   "execution_count": 68,
   "id": "chinese-attribute",
   "metadata": {},
   "outputs": [
    {
     "data": {
      "text/plain": [
       "['datasets\\\\camm\\\\PDAC_MetroHealth_063-4x-bf.ome.tif']"
      ]
     },
     "execution_count": 68,
     "metadata": {},
     "output_type": "execute_result"
    }
   ],
   "source": [
    "camms"
   ]
  },
  {
   "cell_type": "code",
   "execution_count": 69,
   "id": "frequent-alaska",
   "metadata": {},
   "outputs": [],
   "source": [
    "translator.generate_thumbnails()"
   ]
  },
  {
   "cell_type": "code",
   "execution_count": 70,
   "id": "needed-coral",
   "metadata": {},
   "outputs": [],
   "source": [
    "aperios = glob(join('datasets', 'aperio', '*.png'))\n",
    "camms = glob(join('datasets', 'camm', '*.png'))"
   ]
  },
  {
   "cell_type": "code",
   "execution_count": 71,
   "id": "applicable-concern",
   "metadata": {},
   "outputs": [],
   "source": [
    "aperios.sort()\n",
    "camms.sort()"
   ]
  },
  {
   "cell_type": "code",
   "execution_count": 72,
   "id": "extra-theory",
   "metadata": {
    "tags": []
   },
   "outputs": [
    {
     "data": {
      "text/plain": [
       "['datasets\\\\camm\\\\PDAC_MetroHealth_063-4x-bf.ome.png']"
      ]
     },
     "execution_count": 72,
     "metadata": {},
     "output_type": "execute_result"
    }
   ],
   "source": [
    "camms"
   ]
  },
  {
   "cell_type": "code",
   "execution_count": 73,
   "id": "celtic-happiness",
   "metadata": {},
   "outputs": [
    {
     "data": {
      "text/plain": [
       "['datasets\\\\aperio\\\\Copy of 63.png']"
      ]
     },
     "execution_count": 73,
     "metadata": {},
     "output_type": "execute_result"
    }
   ],
   "source": [
    "aperios"
   ]
  },
  {
   "cell_type": "code",
   "execution_count": 74,
   "id": "civilian-proposal",
   "metadata": {},
   "outputs": [],
   "source": [
    "translator.update_aperios(aperios)\n",
    "translator.update_camms(camms)"
   ]
  },
  {
   "cell_type": "code",
   "execution_count": 75,
   "id": "palestinian-sapphire",
   "metadata": {},
   "outputs": [
    {
     "name": "stderr",
     "output_type": "stream",
     "text": [
      "100%|████████████████████████████████████████████████████████████████████████████████████| 1/1 [00:00<00:00,  2.18it/s]\n"
     ]
    }
   ],
   "source": [
    "translator.translate(trust_order=True)"
   ]
  },
  {
   "cell_type": "code",
   "execution_count": null,
   "id": "76001969-f861-4a0d-91f7-abb657d2895d",
   "metadata": {},
   "outputs": [],
   "source": []
  }
 ],
 "metadata": {
  "kernelspec": {
   "display_name": "Python 3 (ipykernel)",
   "language": "python",
   "name": "python3"
  },
  "language_info": {
   "codemirror_mode": {
    "name": "ipython",
    "version": 3
   },
   "file_extension": ".py",
   "mimetype": "text/x-python",
   "name": "python",
   "nbconvert_exporter": "python",
   "pygments_lexer": "ipython3",
   "version": "3.8.12"
  }
 },
 "nbformat": 4,
 "nbformat_minor": 5
}
