{
 "cells": [
  {
   "cell_type": "code",
   "execution_count": 22,
   "metadata": {},
   "outputs": [],
   "source": [
    "from shapely.geometry import Point\n",
    "from shapely.geometry.polygon import Polygon\n",
    "import xml.etree.ElementTree as ET\n",
    "\n",
    "from glob import glob\n",
    "import os\n",
    "from os.path import join\n",
    "import numpy as np\n",
    "import shutil\n",
    "from tqdm import tqdm"
   ]
  },
  {
   "cell_type": "code",
   "execution_count": 2,
   "metadata": {},
   "outputs": [],
   "source": [
    "def check_tumor(point, polygons, physical_size=224):\n",
    "    points = ((point[0]+physical_size, point[1]), \n",
    "              (point[0], point[1]+physical_size), \n",
    "              (point[0]+physical_size, point[1]+physical_size), \n",
    "              (point[0]+physical_size/2, point[1]+physical_size/2), \n",
    "              (point[0], point[1]))\n",
    "    inside = False\n",
    "    for polygon in polygons:\n",
    "        try:\n",
    "            polygon = Polygon(polygon)\n",
    "            for p in points:\n",
    "                p = Point(p)\n",
    "                if polygon.contains(p):\n",
    "                    inside = True\n",
    "        except:\n",
    "            continue\n",
    "    return inside\n",
    "\n",
    "def get_polygons(xml_path, annotation_tool='Aperio'):\n",
    "    tree = ET.parse(xml_path)\n",
    "    root = tree.getroot()\n",
    "    if annotation_tool == 'Aperio':\n",
    "        annotations = root.findall('Annotation/Regions/Region')\n",
    "    else:\n",
    "        annotations = root.findall('Annotations/Annotation')\n",
    "    polygons = []\n",
    "    for annotation in annotations:\n",
    "        if annotation_tool == 'Aperio':\n",
    "            coords = annotation.findall('Vertices/Vertex')\n",
    "        else:\n",
    "            coords = annotation.findall('Coordinates/Coordinate')\n",
    "        polygon = []\n",
    "        for coord in coords:\n",
    "            x = float(coord.attrib['X'])\n",
    "            y = float(coord.attrib['Y'])\n",
    "            polygon.append((int(np.round(x)), int(np.round(y))))\n",
    "        polygons.append(polygon)\n",
    "    return polygons"
   ]
  },
  {
   "cell_type": "markdown",
   "metadata": {},
   "source": [
    "positive and negative need to be changed in 2 places in the code below if changing folder names\n",
    "'_PDAC' in hte save_name is used to identify labels for later validation, and should be changed per class"
   ]
  },
  {
   "cell_type": "code",
   "execution_count": 18,
   "metadata": {},
   "outputs": [],
   "source": [
    "def group_patches(out_path, tumor_bags, tumor_annotations, pixel_size=1, patch_size=224, ext='jpeg'):\n",
    "    \"\"\"This function takes in a list of bags of patches and annotation xmls and group patches into `tumor` or `normal` folder.\n",
    "        Args: out_path (string): output folder. tumor_bags (list): list of folders of bags. tumor_annotations (list): list of file paths of xml (names must match).\n",
    "            pixel_size (flot): pixel size in um, use `1` if annotations using pixel unit. patch_size (int): image patch size. ext (string): image patch extension.\n",
    "    \"\"\"\n",
    "    for tumor_bag, tumor_annotation in tqdm(zip(tumor_bags, tumor_annotations), total=len(tumor_bags)):\n",
    "        polygons = get_polygons(tumor_annotation)\n",
    "#         return polygons\n",
    "        imgs = glob(join(tumor_bag, '*.'+ext))\n",
    "        imgs.sort()\n",
    "        slide_name = tumor_bag.split(os.sep)[-1]\n",
    "        os.makedirs(os.path.join(out_path, slide_name, 'positive'), exist_ok=True)\n",
    "        os.makedirs(os.path.join(out_path, slide_name, 'negative'), exist_ok=True)\n",
    "        #must adjust image name handling\n",
    "        for img in imgs:\n",
    "            img_name = os.path.splitext(os.path.basename(img))[0]\n",
    "            y = int(img_name.split('_')[1]) * patch_size * pixel_size\n",
    "            x = int(img_name.split('_')[0]) * patch_size * pixel_size\n",
    "            if check_tumor((x, y), polygons, physical_size=patch_size*pixel_size):\n",
    "                save_name = os.path.join(out_path, slide_name, 'positive', img_name+'_CP.'+ext)\n",
    "                shutil.copyfile(img, save_name)\n",
    "            else:\n",
    "                save_name = os.path.join(out_path, slide_name, 'negative', img_name+'.'+ext)\n",
    "                shutil.copyfile(img, save_name)"
   ]
  },
  {
   "cell_type": "markdown",
   "metadata": {},
   "source": [
    "change both paths below per class\n",
    "**pixel_size** is not the actual pixel size of the image, it is the downsample. Leave this as 1 if the image patches are not downsampled."
   ]
  },
  {
   "cell_type": "code",
   "execution_count": 20,
   "metadata": {},
   "outputs": [],
   "source": [
    "tumor_bags = glob('d:/bin_DL_project/dsmil-wsi/WSI/CP_PDAC/single/CP/*') # folder containing folders of patches\n",
    "tumor_annotations = glob('d:/bin_DL_project/dsmil-wsi/annotations/CP/*') # folder containing the annotations (xml)"
   ]
  },
  {
   "cell_type": "code",
   "execution_count": 21,
   "metadata": {
    "scrolled": true
   },
   "outputs": [
    {
     "name": "stderr",
     "output_type": "stream",
     "text": [
      "100%|████████████████████████████████████████████████████████████████████████████████████| 6/6 [03:02<00:00, 30.48s/it]\n"
     ]
    }
   ],
   "source": [
    "group_patches('d:/bin_DL_project/dsmil-wsi/WSI/CP_PDAC/annotated_bags/CP', tumor_bags, tumor_annotations, pixel_size=1)"
   ]
  },
  {
   "cell_type": "code",
   "execution_count": null,
   "metadata": {},
   "outputs": [],
   "source": []
  }
 ],
 "metadata": {
  "kernelspec": {
   "display_name": "Python 3",
   "language": "python",
   "name": "python3"
  },
  "language_info": {
   "codemirror_mode": {
    "name": "ipython",
    "version": 3
   },
   "file_extension": ".py",
   "mimetype": "text/x-python",
   "name": "python",
   "nbconvert_exporter": "python",
   "pygments_lexer": "ipython3",
   "version": "3.7.6"
  }
 },
 "nbformat": 4,
 "nbformat_minor": 5
}
