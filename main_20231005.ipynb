{
 "cells": [
  {
   "cell_type": "code",
   "execution_count": 2,
   "id": "d6dd1956-c12c-4f95-b1e9-b36d372ce3eb",
   "metadata": {},
   "outputs": [],
   "source": [
    "import os"
   ]
  },
  {
   "cell_type": "code",
   "execution_count": 3,
   "id": "4e5e5edc-11ac-4a15-9769-11083d6059d1",
   "metadata": {},
   "outputs": [],
   "source": [
    "working_directory = os.getcwd()"
   ]
  },
  {
   "cell_type": "code",
   "execution_count": 4,
   "id": "6b008acc-80bd-4b77-8739-a8265e04d9ed",
   "metadata": {},
   "outputs": [
    {
     "name": "stdout",
     "output_type": "stream",
     "text": [
      "ImageJ version: 2.1.0/1.53c\n",
      "QuPath-0.4.3\\QuPath-0.4.3.exe\n"
     ]
    }
   ],
   "source": [
    "def init_pyimageJ():\n",
    "    import imagej\n",
    "    import scyjava       \n",
    "    scyjava.config.add_option('-Xmx16g') # 16 GB\n",
    "    os.environ['JAVA_HOME'] = r\"C:\\Users\\lociuser\\miniconda3\\envs\\spath\\Library\"\n",
    "    ij = imagej.init('fiji\\\\Fiji.app')#,mode = 'gui')\n",
    "    print(f\"ImageJ version: {ij.getVersion()}\")\n",
    "    return ij\n",
    "ij = init_pyimageJ()\n",
    "os.chdir(working_directory)"
   ]
  },
  {
   "cell_type": "code",
   "execution_count": 5,
   "id": "d294a6f8-a456-4c34-8cfe-02667509ef94",
   "metadata": {},
   "outputs": [],
   "source": [
    "def init_pycromanager():\n",
    "    from pycromanager import Core, Studio\n",
    "    core = Core()\n",
    "    studio = Studio()\n",
    "    core.set_timeout_ms(20000)\n",
    "    return core, studio\n",
    "core,studio = init_pycromanager()"
   ]
  },
  {
   "cell_type": "code",
   "execution_count": 6,
   "id": "ba7ee0d1-1e58-4429-9257-20cb6f50fbde",
   "metadata": {},
   "outputs": [],
   "source": [
    "assert os.getcwd() == working_directory"
   ]
  },
  {
   "cell_type": "code",
   "execution_count": 7,
   "id": "c03ccdf6-d6b5-4e1b-89eb-263e52fc5b16",
   "metadata": {},
   "outputs": [],
   "source": [
    "def init_qupath():\n",
    "    qupath_folder = os.path.join('QuPath-0.4.3','QuPath-0.4.3.exe')\n",
    "    if os.path.exists(qupath_folder):\n",
    "        return qupath_folder\n",
    "    else:\n",
    "        raise OSError(2, 'Qupath exe not found at', qupath_folder)\n",
    "        \n",
    "qupath_fname = init_qupath()\n",
    "print(qupath_fname)\n",
    "\n",
    "\n",
    "\n",
    "\n"
   ]
  },
  {
   "cell_type": "code",
   "execution_count": null,
   "id": "d5559087-a68f-4aac-a421-b3bdf7724121",
   "metadata": {},
   "outputs": [],
   "source": []
  },
  {
   "cell_type": "code",
   "execution_count": 8,
   "id": "a8748ccf-3330-4d49-bce1-59719d22f1f6",
   "metadata": {},
   "outputs": [
    {
     "ename": "NameError",
     "evalue": "name 'stdout' is not defined",
     "output_type": "error",
     "traceback": [
      "\u001b[1;31m---------------------------------------------------------------------------\u001b[0m",
      "\u001b[1;31mNameError\u001b[0m                                 Traceback (most recent call last)",
      "Cell \u001b[1;32mIn[8], line 1\u001b[0m\n\u001b[1;32m----> 1\u001b[0m sys\u001b[38;5;241m.\u001b[39mstdout \u001b[38;5;241m=\u001b[39m \u001b[43mstdout\u001b[49m\n\u001b[0;32m      2\u001b[0m \u001b[38;5;28mprint\u001b[39m(\u001b[38;5;124m\"\u001b[39m\u001b[38;5;124mtest\u001b[39m\u001b[38;5;124m\"\u001b[39m)\n",
      "\u001b[1;31mNameError\u001b[0m: name 'stdout' is not defined"
     ]
    }
   ],
   "source": [
    "#def create_qp_project():\n",
    "#Create a default QuPath project based on a project and image name\n",
    "\n",
    "#def open_qp_project():\n",
    "#Open a qupath project with a particular image open in the viewer (or none/null)\n",
    "\n",
    "#def add_image_qp_project():\n",
    "#add high resolution images into an active QuPath project\n",
    "\n",
    "#def modify_qpdata_file():\n",
    "#Add tiles into the active image\n",
    "\n",
    "#trigger update to QuPath interface when qpdata file is changed? Or use an import script and save\n",
    "\n",
    "#scripting through eclipse https://github.com/arjvik/QuPath-Scripting-Tools\n",
    "\n",
    "# creating QuPath projects "
   ]
  },
  {
   "cell_type": "code",
   "execution_count": null,
   "id": "cc427dff-165b-48c3-8846-40da83d233a7",
   "metadata": {},
   "outputs": [],
   "source": [
    "config = yaml.load(open(\"config.yaml\", \"r\"), Loader=yaml.FullLoader)\n",
    "config = {**config['user_config'], **config['model_config'], **config['hard_config']}\n",
    "lsm_pixel_size_base = config['pixel-size-shg-base']\n",
    "bf_4x_pixel_size_base = config['pixel-size-bf-4x']\n",
    "bf_20x_pixel_size_base = config['pixel-size-bf-20x']\n",
    "camera_resolution_base = config['camera-resolution']\n",
    "save_path = 'data/acquisition' # do not change\n",
    "acq_name = 'priya_test2' # current session name No Spaces in name! Use - or _ No `ome` in name!\n",
    "#slide_box = [5000, 9000, 9000, 14000] # [bottom left corner, and top right corner]\n",
    "slide_box = [5000, 9000, 6000, 14000] # [bottom left corner, and top right corner]\n",
    "\n"
   ]
  },
  {
   "cell_type": "code",
   "execution_count": null,
   "id": "fa04f7f1-eca7-4c2c-af02-cb9ba0584995",
   "metadata": {},
   "outputs": [],
   "source": [
    "brightfield_4x_background_fname = 'data/presets/BG_4x.tiff' # give a default 4x background image\n",
    "brightfield_20x_background_fname = 'data/presets/BG_20x.tiff' # give a default 20x background image\n",
    "bfbg_4x = skio.imread(brightfield_4x_background_fname)\n",
    "bfbg_20x = skio.imread(brightfield_20x_background_fname)"
   ]
  },
  {
   "cell_type": "code",
   "execution_count": null,
   "id": "ea5dcba9-d84f-44aa-a49a-250a0795cf1d",
   "metadata": {},
   "outputs": [],
   "source": [
    "\n",
    "sp_acq = SPAcquisition(\n",
    "    config=config,\n",
    "    mmcore=core, \n",
    "    mmstudio=studio,\n",
    "    bf_4x_bg=skio.imread(brightfield_4x_background_fname), \n",
    "    bf_20x_bg=skio.imread(brightfield_20x_background_fname), \n",
    "    )\n",
    "\n",
    "sp_sti = SPStitcher(\n",
    "    config=config, \n",
    "    ij=ij,\n",
    "    working_dir=save_path,\n",
    "    qupath_dir=qupath_fname, \n",
    "    )\n",
    "\n",
    "sp_acq.update_slide_box(slide_box)\n",
    "position_list_4x = sp_acq.generate_grid(mag='4x', overlap=50)\n",
    "sp_acq.position_list_4x = position_list_4x\n",
    "\n",
    "_, ax = plt.subplots(1, 2, figsize=(10, 10))\n",
    "ax[0].imshow(bfbg_4x, label='4x background'), ax[1].imshow(bfbg_20x), ax[0].axis('off'), ax[1].axis('off')\n",
    "plt.show()\n"
   ]
  },
  {
   "cell_type": "code",
   "execution_count": null,
   "id": "f136db33-e70a-4cfa-b08b-0af0eb91bea1",
   "metadata": {},
   "outputs": [],
   "source": []
  },
  {
   "cell_type": "code",
   "execution_count": null,
   "id": "f16ae4e9-47b2-4860-a6c6-c734d8068ee1",
   "metadata": {},
   "outputs": [],
   "source": []
  },
  {
   "cell_type": "code",
   "execution_count": null,
   "id": "986316a9-f790-498a-a7da-31a180ce0233",
   "metadata": {},
   "outputs": [],
   "source": []
  },
  {
   "cell_type": "code",
   "execution_count": null,
   "id": "3c991764-e8ea-4a8c-a706-9e8f422e0f64",
   "metadata": {},
   "outputs": [],
   "source": []
  },
  {
   "cell_type": "code",
   "execution_count": null,
   "id": "bc520874-b36a-4a20-b8b3-bd5772343d52",
   "metadata": {},
   "outputs": [],
   "source": []
  },
  {
   "cell_type": "code",
   "execution_count": null,
   "id": "29c444d6-73d0-415d-9a71-3e041a673d0c",
   "metadata": {},
   "outputs": [],
   "source": []
  },
  {
   "cell_type": "code",
   "execution_count": null,
   "id": "510dc5dc-7777-4b5d-8df9-70a48101be5c",
   "metadata": {},
   "outputs": [],
   "source": []
  },
  {
   "cell_type": "code",
   "execution_count": null,
   "id": "66717f85-095f-4784-8cf1-0eb0db277e4d",
   "metadata": {},
   "outputs": [],
   "source": [
    "\n",
    "import pickle\n",
    "import os.path as path\n",
    "import os\n",
    "import matplotlib.pyplot as plt\n",
    "import numpy as np\n",
    "from tqdm.notebook import tqdm\n",
    "\n",
    "from IPython.utils import io as ipio"
   ]
  },
  {
   "cell_type": "code",
   "execution_count": null,
   "id": "ad6c482b-58f3-4350-95fa-65ef7176d23e",
   "metadata": {},
   "outputs": [],
   "source": [
    "import yaml"
   ]
  },
  {
   "cell_type": "code",
   "execution_count": null,
   "id": "43db6b00-24a7-45d4-99dc-5d57ba374ea9",
   "metadata": {},
   "outputs": [],
   "source": [
    "from skimage import io as skio\n"
   ]
  },
  {
   "cell_type": "code",
   "execution_count": null,
   "id": "d09d27fb-ed4c-4c84-9a88-13a116a18ec3",
   "metadata": {},
   "outputs": [],
   "source": [
    "from smartpath_libraries.sp_stitcher import SPStitcher\n",
    "from smartpath_libraries.sp_acquisition import SPAcquisition"
   ]
  },
  {
   "cell_type": "code",
   "execution_count": null,
   "id": "56ed96b4-6082-4d13-9c42-056433ad5e49",
   "metadata": {},
   "outputs": [],
   "source": []
  }
 ],
 "metadata": {
  "kernelspec": {
   "display_name": "Python 3 (ipykernel)",
   "language": "python",
   "name": "python3"
  },
  "language_info": {
   "codemirror_mode": {
    "name": "ipython",
    "version": 3
   },
   "file_extension": ".py",
   "mimetype": "text/x-python",
   "name": "python",
   "nbconvert_exporter": "python",
   "pygments_lexer": "ipython3",
   "version": "3.8.17"
  }
 },
 "nbformat": 4,
 "nbformat_minor": 5
}
