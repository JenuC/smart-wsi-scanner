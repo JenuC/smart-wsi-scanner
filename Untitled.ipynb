{
 "cells": [
  {
   "cell_type": "code",
   "execution_count": 5,
   "metadata": {},
   "outputs": [],
   "source": [
    "import os, glob\n",
    "import subprocess\n",
    "import time\n",
    "script = os.path.join('qupath-scripts', 'export-ometif-metadata-shg.groovy')  \n",
    "qupath = os.path.join('QuPath-0.2.3', 'QuPath-0.2.3 (console).exe')\n",
    "imageDirectory = os.path.join('data', 'slides', 'mp')\n",
    "outputDirectory = os.path.join('data', 'slides')\n",
    "\n",
    "fileList = os.listdir(imageDirectory)\n",
    "for file in fileList:\n",
    "    if (file.endswith('.tif') and not file.endswith('.ome.tif')):\n",
    "        imageFile = imageDirectory + file\n",
    "        outputImage = outputDirectory + file\n",
    "        subprocess.run([qupath, \"script\", script, \"-i\", imageFile], shell=True)\n",
    "        #subprocess.run([qupath, \"convert-ome\", imageFile, outputImage, \"-y=4\", \"-p\"], shell=True)\n",
    "#         os.rename(imageFile, outputImage)"
   ]
  },
  {
   "cell_type": "code",
   "execution_count": null,
   "metadata": {},
   "outputs": [],
   "source": []
  }
 ],
 "metadata": {
  "kernelspec": {
   "display_name": "Python 3",
   "language": "python",
   "name": "python3"
  },
  "language_info": {
   "codemirror_mode": {
    "name": "ipython",
    "version": 3
   },
   "file_extension": ".py",
   "mimetype": "text/x-python",
   "name": "python",
   "nbconvert_exporter": "python",
   "pygments_lexer": "ipython3",
   "version": "3.6.12"
  }
 },
 "nbformat": 4,
 "nbformat_minor": 4
}
