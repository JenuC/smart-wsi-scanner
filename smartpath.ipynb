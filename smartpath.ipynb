{
 "cells": [
  {
   "cell_type": "code",
   "execution_count": null,
   "id": "abca0dfa-7b11-4c50-a46b-a16f4669cbc8",
   "metadata": {},
   "outputs": [],
   "source": []
  },
  {
   "cell_type": "markdown",
   "id": "220c0e88-47e4-44e9-8dbc-5b134ad618dc",
   "metadata": {},
   "source": [
    "# import pycromanager"
   ]
  },
  {
   "cell_type": "code",
   "execution_count": 1,
   "id": "a2f41187-ae2b-4ad5-86fd-436a72a2c44f",
   "metadata": {},
   "outputs": [],
   "source": [
    "from pycromanager import Core, Studio\n",
    "from smartpath_libraries.sp_acquisition import SPAcquisition"
   ]
  },
  {
   "cell_type": "code",
   "execution_count": 2,
   "id": "34186f4a-7398-4593-af4a-eaac7ff95832",
   "metadata": {},
   "outputs": [],
   "source": [
    "def init_pycromanager():\n",
    "    from pycromanager import Core, Studio\n",
    "    core = Core()\n",
    "    studio = Studio()\n",
    "    core.set_timeout_ms(20000)\n",
    "    return core, studio\n",
    "core,studio = init_pycromanager()"
   ]
  },
  {
   "cell_type": "markdown",
   "id": "31c5a3b5-2c61-4280-bdb9-f0e0cbc451fa",
   "metadata": {},
   "source": [
    "# core functions"
   ]
  },
  {
   "cell_type": "code",
   "execution_count": 3,
   "id": "3ef16bbf-5224-4b63-bcb2-5232d720a8c8",
   "metadata": {},
   "outputs": [],
   "source": [
    "core.set_auto_shutter(True)"
   ]
  },
  {
   "cell_type": "markdown",
   "id": "72098179-05f6-4aaf-bcbf-d562270150ef",
   "metadata": {},
   "source": [
    "## get stage position"
   ]
  },
  {
   "cell_type": "code",
   "execution_count": 5,
   "id": "8054f9bc-5b18-41df-9e66-b891c3fa2e23",
   "metadata": {},
   "outputs": [
    {
     "data": {
      "text/plain": [
       "('XYStage:XY:31', 18944.77, 13749.01)"
      ]
     },
     "execution_count": 5,
     "metadata": {},
     "output_type": "execute_result"
    }
   ],
   "source": [
    "stage_name = core.get_xy_stage_device()\n",
    "xy = core.get_xy_stage_position()\n",
    "stage_name, xy.x, xy.y"
   ]
  },
  {
   "cell_type": "markdown",
   "id": "08da03a7-ae2d-4533-a000-fb8252365a3e",
   "metadata": {},
   "source": [
    "## check if live mode on"
   ]
  },
  {
   "cell_type": "code",
   "execution_count": null,
   "id": "e5c9a902-e378-4b85-ad43-eab2d8b426fb",
   "metadata": {},
   "outputs": [],
   "source": [
    "if core.is_sequence_running():\n",
    "    studio.live().set_live_mode(False)"
   ]
  },
  {
   "cell_type": "code",
   "execution_count": null,
   "id": "8a91c676-04b7-443a-8aea-01848dc22f99",
   "metadata": {},
   "outputs": [],
   "source": []
  },
  {
   "cell_type": "markdown",
   "id": "90794cff-4939-4475-92bd-767582a423d4",
   "metadata": {},
   "source": [
    "## yaml loader"
   ]
  },
  {
   "cell_type": "code",
   "execution_count": 7,
   "id": "6008346d-b8ba-4fd5-ba2f-737b09ff0615",
   "metadata": {},
   "outputs": [
    {
     "data": {
      "text/plain": [
       "{'exposure-level': 'high',\n",
       " 'snr-level': 'low',\n",
       " 'autofocus-speed': 3,\n",
       " 'lsm-resolution': 256,\n",
       " 'lsm-bin-factor': 15,\n",
       " 'lsm-scan-rate': '250000.0000',\n",
       " 'lsm-pc-power': 0.4,\n",
       " 'lsm-pmt-gain': 0.4,\n",
       " 'slide-box': [-100, 600, 25500.0, 17000.0],\n",
       " 'lsm-enhancer': None,\n",
       " 'bf-enhancer': None,\n",
       " 'classifier': None,\n",
       " 'adv-interval': 3,\n",
       " 'average-factor': 50,\n",
       " 'batch-size': 8,\n",
       " 'blindspot-rate': 0.05,\n",
       " 'cnn-base-channel': 8,\n",
       " 'dataset': 'datasets/PA_2081b',\n",
       " 'gan-lambda': 5,\n",
       " 'gpu': True,\n",
       " 'image-channel': 1,\n",
       " 'image-extension': 'tif',\n",
       " 'iter-per-epoch': 200,\n",
       " 'iterations': 200000,\n",
       " 'learning-rate': 0.0001,\n",
       " 'load-weights': 'supervised2022-08-07_13-02-52',\n",
       " 'loss-gain': 1000,\n",
       " 'norm-range': [5420, 44017],\n",
       " 'norm-range-target': [6265, 38567],\n",
       " 'only-pixel-loss': False,\n",
       " 'percep-lambda': 0.5,\n",
       " 'resolution': 512,\n",
       " 'test-interval': 5,\n",
       " 'threads': 0,\n",
       " 'up-scale-factor': 2,\n",
       " 'pixel-size-bf-20x': 0.222,\n",
       " 'pixel-size-bf-4x': 1.105,\n",
       " 'pixel-size-shg-base': 0.509,\n",
       " 'pixel-size-shg': 0.509,\n",
       " 'camera-resolution': [1392, 1040],\n",
       " 'lsm-resolution-base': [512, 512],\n",
       " 'slide-size': [40000.0, 20000.0],\n",
       " 'Z-stage-20x': -6980,\n",
       " 'Z-stage-laser': -6640,\n",
       " 'Z-stage-4x': 3570,\n",
       " 'F-stage-20x': -15800,\n",
       " 'F-stage-laser': -18500,\n",
       " 'F-stage-4x': -1000,\n",
       " 'Z-bf-offset': -10560,\n",
       " 'Z-laser-offset': 290,\n",
       " 'hard-limit-z': [-8500.0, 17000.0],\n",
       " 'hard-limit-x': [-5000.0, 40000.0],\n",
       " 'hard-limit-y': [-4200, 25000.0],\n",
       " 'hard-limit-f': [-19000, 0],\n",
       " '20x-bf-offset': [-600, 10],\n",
       " 'shg-offset': [-580, -280],\n",
       " 'led-4x': 4,\n",
       " 'led-20x': 5,\n",
       " 'focus-device': 'ZStage:Z:32',\n",
       " 'condensor-device': 'ZStage:F:32',\n",
       " 'led-device': ['LED-Dev1ao0', 'Voltage'],\n",
       " 'obj-device': ['Turret:O:35', 'Label']}"
      ]
     },
     "execution_count": 7,
     "metadata": {},
     "output_type": "execute_result"
    }
   ],
   "source": [
    "import yaml\n",
    "config = yaml.load(open(\"config.yaml\", \"r\"), Loader=yaml.FullLoader)\n",
    "config = {**config[\"user_config\"], **config[\"model_config\"], **config[\"hard_config\"]}\n",
    "config"
   ]
  },
  {
   "cell_type": "markdown",
   "id": "2c8e1044-fc62-4596-b6c5-5adef5410587",
   "metadata": {},
   "source": [
    "## background images"
   ]
  },
  {
   "cell_type": "code",
   "execution_count": 8,
   "id": "c992493c-d165-46a3-83cb-b71b505f288e",
   "metadata": {},
   "outputs": [],
   "source": [
    "brightfield_4x_background_fname = (\n",
    "    \"data/presets/BG_4x.tiff\"  # give a default 4x background image\n",
    ")\n",
    "brightfield_20x_background_fname = (\n",
    "    \"data/presets/BG_20x.tiff\"  # give a default 20x background image\n",
    ")\n"
   ]
  },
  {
   "cell_type": "markdown",
   "id": "61755058-844f-4729-a01d-b958528ad96f",
   "metadata": {},
   "source": [
    "## check coordinates within limits"
   ]
  },
  {
   "cell_type": "code",
   "execution_count": 57,
   "id": "0f21e3d2-db13-48ce-adb8-9a235e93359f",
   "metadata": {},
   "outputs": [
    {
     "data": {
      "text/plain": [
       "sp_microscope_settings(x_range=[0, 40000.0], y_range=[0, 30000.0], z_range=None, f_range=None, focus_device='ZStage:Z:32')"
      ]
     },
     "execution_count": 57,
     "metadata": {},
     "output_type": "execute_result"
    }
   ],
   "source": [
    "from dataclasses import dataclass, field\n",
    "\n",
    "@dataclass\n",
    "class sp_microscope_settings:\n",
    "    x_range : list\n",
    "    y_range : list\n",
    "    z_range: list = field(default=None)\n",
    "    f_range: list = field(default=None)\n",
    "    \n",
    "    focus_device: str = field(default = 'ZStage:Z:32')\n",
    "    \n",
    "camm = sp_microscope_settings([0, 40000.0],[0, 30000.0])\n",
    "camm"
   ]
  },
  {
   "cell_type": "code",
   "execution_count": 86,
   "id": "4cb1e1aa-5666-4315-baf4-5a9ecb3bb689",
   "metadata": {},
   "outputs": [],
   "source": [
    "#smartpath.mm_object_to_list(core.get_loaded_devices())\n"
   ]
  },
  {
   "cell_type": "code",
   "execution_count": 77,
   "id": "bdbc6ae4-4fbd-40a3-8574-f379ac3fffbf",
   "metadata": {},
   "outputs": [
    {
     "data": {
      "text/plain": [
       "sp_position(x=50, y=100, z=20, f=None, o=None)"
      ]
     },
     "execution_count": 77,
     "metadata": {},
     "output_type": "execute_result"
    }
   ],
   "source": [
    "@dataclass\n",
    "class sp_position:\n",
    "    x: float\n",
    "    y: float\n",
    "    z: float = field(default=None)\n",
    "    f: float = field(default=None)\n",
    "    o: float = field(default=None)\n",
    "    \n",
    "\n",
    "coordinate1 = sp_position(50,100,20)\n",
    "coordinate1"
   ]
  },
  {
   "cell_type": "code",
   "execution_count": null,
   "id": "9f534b3b-be12-4f5c-94c2-5d0738804d0c",
   "metadata": {},
   "outputs": [],
   "source": []
  },
  {
   "cell_type": "code",
   "execution_count": 78,
   "id": "a427ccb4-779b-4173-80ae-c06ebb7cdd16",
   "metadata": {},
   "outputs": [
    {
     "data": {
      "text/plain": [
       "sp_position(x=18944.77, y=13749.01, z=-10511.99, f=None, o=None)"
      ]
     },
     "execution_count": 78,
     "metadata": {},
     "output_type": "execute_result"
    }
   ],
   "source": []
  },
  {
   "cell_type": "code",
   "execution_count": 36,
   "id": "c6e8a3a4-4c3c-400c-a03e-a1f46cbe4856",
   "metadata": {},
   "outputs": [],
   "source": [
    "import numpy as np"
   ]
  },
  {
   "cell_type": "code",
   "execution_count": 128,
   "id": "0678d03f-ab4f-4d1f-beed-a75174fd9ce7",
   "metadata": {},
   "outputs": [
    {
     "name": "stderr",
     "output_type": "stream",
     "text": [
      "C:\\Users\\lociuser\\AppData\\Local\\Temp\\ipykernel_15132\\1245587835.py:31: UserWarning:  Z range undefined : None\n",
      "  warnings.warn(f\" Z range undefined : {settings.z_range}\")\n"
     ]
    },
    {
     "data": {
      "text/plain": [
       "False"
      ]
     },
     "execution_count": 128,
     "metadata": {},
     "output_type": "execute_result"
    }
   ],
   "source": [
    "import warnings\n",
    "\n",
    "class smartpath:\n",
    "\n",
    "    def __init__(self,core):\n",
    "        self.core = core\n",
    "\n",
    "    @staticmethod\n",
    "    def is_coordinate_in_range(settings, position) -> bool:\n",
    "        \n",
    "        _within_ylimit = _within_xlimit = False\n",
    "        if settings.x_range[0] < position.x < settings.x_range[1]:\n",
    "            _within_xlimit = True\n",
    "        else:\n",
    "            warnings.warn(f\" {position.x} out of range X {settings.x_range}\")\n",
    "        if settings.y_range[0] < position.y < settings.y_range[1]:\n",
    "            _within_ylimit = True\n",
    "        else:\n",
    "            warnings.warn(f\" {position.y} out of range Y {settings.y_range}\")\n",
    "\n",
    "        if not position.z:\n",
    "            return _within_xlimit and _within_ylimit\n",
    "        if settings.z_range:      \n",
    "            _within_zlimit = False    \n",
    "            if settings.z_range[0] < position.z < settings.z_range[1]:\n",
    "                _within_zlimit = True\n",
    "            else:\n",
    "                warnings.warn(f\" {position.z} out of range Y {settings.z_range}\")            \n",
    "            return _within_xlimit and _within_ylimit and _within_zlimit\n",
    "        else:\n",
    "            warnings.warn(f\" Z range undefined : {settings.z_range}\") \n",
    "            return False\n",
    "            \n",
    "    @staticmethod\n",
    "    def mm_object_to_list(name):\n",
    "        name = [name.get(i) for i in range(name.size())]\n",
    "        return name\n",
    "\n",
    "    \n",
    "    def print_mm_status(self):\n",
    "        status_str=\"\"\n",
    "        for device_name in smartpath.mm_object_to_list(self.core.get_loaded_devices()):\n",
    "            \n",
    "            device_property_names = self.core.get_device_property_names(device_name) \n",
    "            status_str = status_str + device_name +\"\\n\"\n",
    "            #+\"::\"+' '.join(smartpath.mm_object_to_list(device_property_names)) +\"\\n\"\n",
    "            \n",
    "            property_names = smartpath.mm_object_to_list(device_property_names) \n",
    "            for prop in property_names: \n",
    "                val = self.core.get_property(device_name, prop) \n",
    "                status_str = status_str + prop+\":\"+ val +\"\\n\"\n",
    "            status_str = status_str +\"----------------------------\\n\"\n",
    "        return status_str\n",
    "\n",
    "    @staticmethod\n",
    "    def get_current_position(core):\n",
    "        current_pos = sp_position(core.get_x_position(), core.get_y_position(), core.get_position())\n",
    "        return current_pos\n",
    "    \n",
    "            \n",
    "coordinate1.z = 100\n",
    "smartpath.is_coordinate_in_range(camm,coordinate1)"
   ]
  },
  {
   "cell_type": "code",
   "execution_count": 126,
   "id": "a24a87dd-2ea7-42e8-b009-75ed949ccb39",
   "metadata": {},
   "outputs": [],
   "source": [
    "#sp = smartpath(core)\n",
    "#print(sp.print_mm_status())"
   ]
  },
  {
   "cell_type": "code",
   "execution_count": 52,
   "id": "856234a4-8a12-494a-909e-c0e9092f690e",
   "metadata": {},
   "outputs": [],
   "source": [
    "if  camm.z_range:\n",
    "    print(camm)"
   ]
  },
  {
   "cell_type": "code",
   "execution_count": 41,
   "id": "d8391f15-0e55-46a6-a1b4-2a9e01dfafe9",
   "metadata": {},
   "outputs": [],
   "source": [
    "camm.z_range= [0,10]"
   ]
  },
  {
   "cell_type": "code",
   "execution_count": null,
   "id": "ed6fed47-0f3b-4274-abc9-19c30f68c130",
   "metadata": {},
   "outputs": [],
   "source": [
    "\n",
    "## Bins utils"
   ]
  },
  {
   "cell_type": "code",
   "execution_count": 31,
   "id": "9bce2908-88ee-43e6-bd7f-1f4aac9cfee6",
   "metadata": {},
   "outputs": [],
   "source": [
    "from skimage import img_as_float, exposure\n",
    "\n",
    "class binli_utils:\n",
    "\n",
    "    def __init__(self):\n",
    "        pass\n",
    "\n",
    "    @staticmethod\n",
    "    def white_balance(img, bg, gain=1.0):\n",
    "        img = img_as_float(img)\n",
    "        bg = img_as_float(bg)\n",
    "        r = np.mean(bg[:, :, 0])\n",
    "        g = np.mean(bg[:, :, 1])\n",
    "        b = np.mean(bg[:, :, 2])\n",
    "        mm = max(r, g, b)\n",
    "        img[:, :, 0] = np.clip(img[:, :, 0] * mm / r * gain, 0, 1)\n",
    "        img[:, :, 1] = np.clip(img[:, :, 1] * mm / g * gain, 0, 1)\n",
    "        img[:, :, 2] = np.clip(img[:, :, 2] * mm / b * gain, 0, 1)\n",
    "        return img\n",
    "\n",
    "    @staticmethod\n",
    "    def flat_field(img, bg, gain=1):\n",
    "        img = img_as_float(img)\n",
    "        bg = img_as_float(bg)\n",
    "        r = np.mean(bg[:, :, 0])\n",
    "        g = np.mean(bg[:, :, 1])\n",
    "        b = np.mean(bg[:, :, 2])\n",
    "        img[:, :, 0] = 1 * exposure.rescale_intensity(np.clip(np.divide(img[:, :, 0], bg[:, :, 0] + 0.00) * r * gain, 0, 1), in_range=(0, 0.95), out_range=(0, 1))\n",
    "        img[:, :, 1] = 1 * exposure.rescale_intensity(np.clip(np.divide(img[:, :, 1], bg[:, :, 1] + 0.00) * g * gain, 0, 1), in_range=(0, 0.95), out_range=(0, 1))\n",
    "        img[:, :, 2] = 1 * exposure.rescale_intensity(np.clip(np.divide(img[:, :, 2], bg[:, :, 2] + 0.00) * b * gain, 0, 1), in_range=(0, 0.95), out_range=(0, 1))\n",
    "        return img\n",
    "\n",
    "    @staticmethod\n",
    "    def is_background(img, t=0.3, tt=0.32):\n",
    "        patch_h = int(img.shape[0]/8)\n",
    "        patch_w = int(img.shape[1]/8)\n",
    "        img = color.rgb2hsv(img)\n",
    "        img_windows = np.squeeze(view_as_windows(img, (patch_h, patch_w, 3), step=(patch_h, patch_w, 3)))\n",
    "        img_windows = np.reshape(img_windows, (img_windows.shape[0]*img_windows.shape[1], patch_h, patch_w, 3)) # nxm, 256, 256, 3\n",
    "        img_max = np.max(img_windows, axis=0) # 256x256x3\n",
    "        img_min = np.min(img_windows, axis=0) # 256x256x3\n",
    "        sat_img = img_max[:, :, 1]\n",
    "        bright_img = 1-img_min[:, :, 2]\n",
    "        ave_sat = np.sum(sat_img)/(patch_h*patch_w)\n",
    "        ave_bright = np.sum(bright_img)/(patch_h*patch_w)\n",
    "        return ave_sat < t and ave_bright < tt\n",
    "\n",
    "\n",
    "pixels = binli_utils.white_balance(pixels, background_image)\n",
    "pixels = binli_utils.flat_field(pixels, bg_img)"
   ]
  },
  {
   "cell_type": "code",
   "execution_count": null,
   "id": "b58dc072-7a04-4a14-9c67-5ba879f57ecd",
   "metadata": {},
   "outputs": [],
   "source": []
  },
  {
   "cell_type": "code",
   "execution_count": 60,
   "id": "f417df91-a5ce-46f9-a771-d0c15fe92c27",
   "metadata": {},
   "outputs": [],
   "source": [
    "position = coordinate1\n",
    "settings = camm"
   ]
  },
  {
   "cell_type": "code",
   "execution_count": 71,
   "id": "7316c707-c918-458a-9292-71bbf44abab7",
   "metadata": {},
   "outputs": [
    {
     "data": {
      "text/plain": [
       "(18944.77, 13749.01, -10511.99)"
      ]
     },
     "execution_count": 71,
     "metadata": {},
     "output_type": "execute_result"
    }
   ],
   "source": [
    "core.get_x_position(), core.get_y_position(), core.get_position()"
   ]
  },
  {
   "cell_type": "code",
   "execution_count": null,
   "id": "16f8803a-d54c-45db-90bb-73b9e50b8039",
   "metadata": {},
   "outputs": [],
   "source": []
  },
  {
   "cell_type": "code",
   "execution_count": 61,
   "id": "1e073e4c-a29f-467d-a6a4-28ddafdbd508",
   "metadata": {},
   "outputs": [
    {
     "data": {
      "text/plain": [
       "(sp_position(x=50, y=100, z=100, f=30, o=None),\n",
       " sp_microscope_settings(x_range=[0, 40000.0], y_range=[0, 30000.0], z_range=None, f_range=None, focus_device='ZStage:Z:32'))"
      ]
     },
     "execution_count": 61,
     "metadata": {},
     "output_type": "execute_result"
    }
   ],
   "source": [
    "position, settings"
   ]
  },
  {
   "cell_type": "code",
   "execution_count": 131,
   "id": "ebdf35ea-bf19-4396-9251-92c556036fe8",
   "metadata": {},
   "outputs": [
    {
     "data": {
      "text/plain": [
       "sp_position(x=18944.77, y=13749.01, z=-10511.99, f=None, o=None)"
      ]
     },
     "execution_count": 131,
     "metadata": {},
     "output_type": "execute_result"
    }
   ],
   "source": [
    "current_pos = smartpath.get_current_position(core)\n",
    "current_pos"
   ]
  },
  {
   "cell_type": "code",
   "execution_count": 137,
   "id": "64372ba0-98fe-4665-ae86-849115a2e393",
   "metadata": {},
   "outputs": [
    {
     "name": "stdout",
     "output_type": "stream",
     "text": [
      "sp_position(x=19044.77, y=13849.01, z=-10501.99, f=None, o=None)\n",
      "sp_position(x=19044.879, y=13848.95, z=-10502, f=None, o=None)\n"
     ]
    }
   ],
   "source": [
    "\n",
    "def move_to_position(position,settings):\n",
    "    # check position in range\n",
    "    if smartpath.is_coordinate_in_range(settings,position):\n",
    "        # verify focus device: bcs user can change it to F mode\n",
    "        if core.get_focus_device() != settings.focus_device:\n",
    "            warnings.warn(f\" Changing focus device {core.get_focus_device()}\")    \n",
    "            core.set_focus_device(settings.focus_device)          \n",
    "        # movement\n",
    "        core.set_position(position.z)\n",
    "        core.set_xy_position(position.x, position.y)\n",
    "        core.wait_for_device(core.get_xy_stage_device())\n",
    "        core.wait_for_device(core.get_focus_device())\n",
    "    else:\n",
    "        warnings.warn(\" Move Cancelled\")\n",
    "        \n",
    "new_pos = sp_position(current_pos.x+100,current_pos.y+100,current_pos.z+10)\n",
    "move_to_position(new_pos,camm)\n",
    "print(new_pos)\n",
    "print(smartpath.get_current_position(core))"
   ]
  },
  {
   "cell_type": "code",
   "execution_count": 136,
   "id": "3735dc1e-dc77-4ad9-afb1-f03de299610c",
   "metadata": {},
   "outputs": [],
   "source": [
    "camm.z_range= [-10600,-10400]"
   ]
  },
  {
   "cell_type": "code",
   "execution_count": null,
   "id": "4d732823-bd6a-4fb2-a5a8-c0b0f4d365f8",
   "metadata": {},
   "outputs": [],
   "source": []
  },
  {
   "cell_type": "code",
   "execution_count": null,
   "id": "bd6e757f-46f4-41dc-91f6-5fae073b259b",
   "metadata": {},
   "outputs": [],
   "source": []
  },
  {
   "cell_type": "code",
   "execution_count": null,
   "id": "a1d5ea49-4228-479a-a9ad-98ecad4e363e",
   "metadata": {},
   "outputs": [],
   "source": []
  },
  {
   "cell_type": "code",
   "execution_count": null,
   "id": "deeebb3c-3d8e-487f-ab71-42bfde93b595",
   "metadata": {},
   "outputs": [],
   "source": []
  },
  {
   "cell_type": "code",
   "execution_count": null,
   "id": "0dab16e7-8ff0-4f2c-8cd1-0349aacac5c2",
   "metadata": {},
   "outputs": [],
   "source": [
    "acq_id = len(glob.glob(os.path.join(save_path, acq_name+\"*\")))\n",
    "acq_path = os.path.join(save_path, acq_name+\"_{}\".format(acq_id+1))\n",
    "os.makedirs(acq_path, exist_ok=True)\n",
    "\n",
    "bg_flag = False\n",
    "sp_flag = False\n",
    "bg_t = 0.28\n",
    "bg_tt = 0.28\n",
    "\n",
    "returns = {}\n",
    "background_image = brightfield_20x_background_fname, brightfield_4x_background_fname\n",
    "\n",
    "set_z_position\n",
    "        \n",
    "support_points = [(99999999, 99999999)] # dummy support point\n",
    "support_focus = [pos_z]\n",
    "\n",
    "if position_list.shape[1] == 3:\n",
    "    tile_count = 0\n",
    "    z_positions=np.ones(position_list.shape[0]) * core.get_position()\n",
    "    \n",
    "    for pos in range(position_list.shape[0]):\n",
    "        sp_flag = False\n",
    "                \n",
    "                if focus_dive and mag=='4x':\n",
    "                    support_distance = config['pixel-size-bf-4x'] * config['camera-resolution'][1] * config['autofocus-speed']\n",
    "                    idx, min_distance = distance((x_pos, y_pos), support_points)\n",
    "                    if min_distance <= support_distance:\n",
    "                        pos_z = support_focus[idx]\n",
    "                        pos_z = limit_stage(pos_z, (config['hard-limit-z'][0], config['hard-limit-z'][1]), default=config['Z-stage-4x'])\n",
    "                        core.set_position(pos_z)\n",
    "                        core.wait_for_device(z_device)\n",
    "                        pixels = self.snap_image(rgb=True, flip_channel=True)\n",
    "                        bg_flag = is_background(pixels, t=bg_t, tt=bg_tt)\n",
    "                    else:\n",
    "                        pos_z, pixels, bg_flag = self.autofocus(mag='4x', rgb=True, search_range=160, steps=5, snap=True, preset=z_pos) # snap at top but return center z\n",
    "                        if bg_flag:\n",
    "                            if len(support_points)>=2:\n",
    "                                pos_z = limit_stage(pos_z, (config['hard-limit-z'][0], config['hard-limit-z'][1]), default=config[\"Z-stage-4x\"])\n",
    "                                core.set_position(pos_z)\n",
    "                            else:\n",
    "                                pos_z = z_pos\n",
    "                            core.wait_for_device(z_device)\n",
    "                            pixels = self.snap_image(rgb=True, flip_channel=True)\n",
    "                        else:\n",
    "                            support_points.append((x_pos, y_pos))\n",
    "                            support_focus.append(pos_z)\n",
    "                            sp_flag = True\n",
    "                    z_positions[pos] = pos_z\n",
    "                           \n",
    "                if focus_dive and mag=='20x':\n",
    "                    support_distance = config['pixel-size-bf-20x'] * config['camera-resolution'][1] * config['autofocus-speed']\n",
    "                    idx, min_distance = distance((x_pos, y_pos), support_points)\n",
    "                    if min_distance <= support_distance:\n",
    "                        pos_z = support_focus[idx]\n",
    "                        pos_z = limit_stage(pos_z, (config['hard-limit-z'][0], config['hard-limit-z'][1]), default=config[\"Z-stage-20x\"])\n",
    "                        core.set_position(pos_z)\n",
    "                        core.wait_for_device(z_device)\n",
    "                        pixels = self.snap_image(rgb=True, flip_channel=True)\n",
    "                        bg_flag = is_background(pixels, t=bg_t, tt=bg_tt)\n",
    "                    else:\n",
    "                        pos_z, pixels, bg_flag = self.autofocus(mag='20x', rgb=True, search_range=120, steps=4, snap=True, preset=z_pos) # snap at top but return center z\n",
    "                        if bg_flag:\n",
    "                            if len(support_points)>=2:\n",
    "                                pos_z = limit_stage(pos_z, (config['hard-limit-z'][0], config['hard-limit-z'][1]), default=config[\"Z-stage-20x\"])\n",
    "                                core.set_position(pos_z)\n",
    "                            else:\n",
    "                                pos_z = z_pos\n",
    "                            core.wait_for_device(z_device)\n",
    "                            pixels = self.snap_image(rgb=True, flip_channel=True)\n",
    "                        else:\n",
    "                            pos_z, pixels, _ = self.autofocus(mag='20x', rgb=True, search_range=42, steps=7, snap=True, check_background=False, preset=z_pos) \n",
    "                            support_points.append((x_pos, y_pos))\n",
    "                            support_focus.append(pos_z)\n",
    "                            sp_flag = True\n",
    "                    z_positions[pos] = pos_z \n",
    "                    \n",
    "                pixels = img_as_float(pixels)   \n",
    "                \n",
    "                if estimate_background:\n",
    "                    if focus_dive:\n",
    "                        bg_flag = bg_flag\n",
    "                    else:\n",
    "                        bg_flag = is_background(pixels, t=0.28, tt=0.28)\n",
    "                        print('hard check')\n",
    "                    if bg_flag:\n",
    "                        print(' (background tile)')\n",
    "                        redive_flag=True\n",
    "                        bg_stack.append(pixels)\n",
    "                    else:\n",
    "                        redive_flag=False                \n",
    "                if background_image is not None and not estimate_background:\n",
    "                    pixels = white_balance(pixels, background_image)\n",
    "                    pixels = flat_field(pixels, bg_img)\n",
    "                    \n",
    "                if plot_on:\n",
    "                    show.set_data(pixels)\n",
    "                    display.display(plt.gcf())\n",
    "                    display.clear_output(wait=True)\n",
    "                ### Use tifile to write out a tile with metadata?\n",
    "                io.imsave(f'{acq_path}/{pos}-{bg_flag}-{sp_flag}.tif', img_as_ubyte(pixels), check_contrast=False)\n",
    "                tile_count = tile_count + 1\n",
    "                #sys.stdout.write('\\r {}/{} tiles done'.format(tile_count, position_list.shape[0]))\n",
    "                print(f\"QuPath: {tile_count}/{position_list.shape[0]} tiles done\")\n",
    "                #plt.close('all')\n",
    "            \n",
    "        if position_list.shape[1] == 2:\n",
    "            tile_count = 0\n",
    "            core.set_focus_device(config['focus-device'])\n",
    "            z_positions=np.ones(position_list.shape[0]) * core.get_position()\n",
    "            for pos in range(position_list.shape[0]):\n",
    "                x_pos = position_list[pos, 0]\n",
    "                y_pos = position_list[pos, 1]\n",
    "                \n",
    "                x_pos = limit_stage(x_pos, (config['hard-limit-x'][0], config['hard-limit-x'][1]), default=None)\n",
    "                y_pos = limit_stage(y_pos, (config['hard-limit-y'][0], config['hard-limit-y'][1]), default=None)\n",
    "                    \n",
    "                xy_device = core.get_xy_stage_device()\n",
    "                z_device = core.get_focus_device()\n",
    "                core.set_xy_position(x_pos, y_pos)\n",
    "                core.wait_for_device(xy_device)\n",
    "                sp_flag = False\n",
    "                    \n",
    "                if focus_dive and mag=='4x':\n",
    "                    support_distance = config['pixel-size-bf-4x'] * config['camera-resolution'][1] * config['autofocus-speed']\n",
    "                    idx, min_distance = distance((x_pos, y_pos), support_points)\n",
    "                    if min_distance <= support_distance:\n",
    "                        pos_z = support_focus[idx]\n",
    "                        pos_z = limit_stage(pos_z, (config['hard-limit-z'][0], config['hard-limit-z'][1]), default=config['Z-stage-4x'])\n",
    "                        core.set_position(pos_z)\n",
    "                        core.wait_for_device(z_device)\n",
    "                        pixels = self.snap_image(rgb=True, flip_channel=True)\n",
    "                        bg_flag = is_background(pixels, t=bg_t, tt=bg_tt)\n",
    "                    else:\n",
    "                        pos_z, pixels, bg_flag = self.autofocus(mag='4x', rgb=True, search_range=100, steps=3, snap=True) # snap at top but return center z\n",
    "                        if not bg_flag:\n",
    "                            support_points.append((x_pos, y_pos))\n",
    "                            support_focus.append(pos_z)\n",
    "                            sp_flag = True\n",
    "                    z_positions[pos] = pos_z\n",
    "                    \n",
    "                if focus_dive and mag=='20x':\n",
    "                    support_distance = config[\"pixel-size-bf-20x\"] * config[\"camera-resolution\"][1] * config[\"autofocus-speed\"]\n",
    "                    idx, min_distance = distance((x_pos, y_pos), support_points)\n",
    "                    if min_distance <= support_distance:\n",
    "                        pos_z = support_focus[idx]\n",
    "                        pos_z = limit_stage(pos_z, (config['hard-limit-z'][0], config['hard-limit-z'][1]), default=config['Z-stage-20x'])\n",
    "                        core.set_position(pos_z)\n",
    "                        core.wait_for_device(z_device)\n",
    "                        pixels = self.snap_image(rgb=True, flip_channel=True)\n",
    "                        bg_flag = is_background(pixels, t=bg_t, tt=bg_tt)\n",
    "                    else:\n",
    "                        pos_z, pixels, bg_flag = self.autofocus(mag='20x', rgb=True, search_range=50, steps=3, snap=False) # snap at top but return center z\n",
    "                        pos_z, pixels, bg_flag = self.autofocus(mag='20x', rgb=True, search_range=10, steps=3, snap=True) # snap at top but return center z\n",
    "                        if not bg_flag:\n",
    "                            support_points.append((x_pos, y_pos))\n",
    "                            support_focus.append(pos_z)\n",
    "                            sp_flag = True\n",
    "                    z_positions[pos] = pos_z    \n",
    "                    \n",
    "                pixels = img_as_float(pixels)                   \n",
    "                \n",
    "                if estimate_background:\n",
    "                    if focus_dive:\n",
    "                        bg_flag = bg_flag\n",
    "                    else:\n",
    "                        bg_flag = is_background(pixels, t=bg_t, tt=bg_tt)\n",
    "                        print('hard check')\n",
    "                    if bg_flag:\n",
    "                        print(' (background tile)')\n",
    "                        redive_flag=True\n",
    "                        bg_stack.append(pixels)\n",
    "                    else:\n",
    "                        redive_flag=False    \n",
    "                                    \n",
    "                if background_image is not None and not estimate_background:\n",
    "                    pixels = white_balance(pixels, background_image)\n",
    "                    pixels = flat_field(pixels, bg_img)\n",
    "                    \n",
    "                if plot_on:\n",
    "                    show.set_data(pixels)\n",
    "                    display.display(plt.gcf())\n",
    "                    display.clear_output(wait=True)\n",
    "                ### Use tifile to create tile with metadata?\n",
    "                io.imsave(acq_path+'/{}-{}-{}.tif'.format(pos, bg_flag, sp_flag), img_as_ubyte(pixels), check_contrast=False)\n",
    "                tile_count = tile_count + 1\n",
    "                #sys.stdout.write('\\r {}/{} tiles done'.format(tile_count, position_list.shape[0]))\n",
    "                print(f\"QuPath: {tile_count}/{position_list.shape[0]} tiles done\")\n",
    "                if plot_on:\n",
    "                    plt.close('all')\n",
    "        if estimate_background:\n",
    "            if len(bg_stack)==0:\n",
    "                if mag=='4x':\n",
    "                    background_image = self.bf_4x_bg\n",
    "                    if self.bf_process_fn is not None: background_image = self.bf_process_fn(background_image)\n",
    "                elif mag=='20x':\n",
    "                    background_image = self.bf_20x_bg\n",
    "                    if self.bf_process_fn is not None: background_image = self.bf_process_fn(background_image)\n",
    "                returns['Background image'] = background_image\n",
    "                # io.imsave(acq_path+'/bg_img.tif', img_as_ubyte(background_image))\n",
    "            else:\n",
    "                bg_stack= np.stack(bg_stack)\n",
    "                median = np.median(bg_stack, axis=0)\n",
    "                median = img_as_float(median)\n",
    "                returns['Background image'] = median\n",
    "                # io.imsave(acq_path+'/bg_img.tif', img_as_ubyte(median))\n",
    "        else:\n",
    "            returns['Background image'] = background_image\n",
    "        if focus_dive:\n",
    "            z_positions = z_positions.reshape(position_list.shape[0], 1)\n",
    "            returns['Z positions'] = z_positions\n",
    "        return returns"
   ]
  },
  {
   "cell_type": "code",
   "execution_count": null,
   "id": "d0087afc-238a-45b7-9c1b-395cbfcf9c8c",
   "metadata": {},
   "outputs": [],
   "source": []
  },
  {
   "cell_type": "code",
   "execution_count": null,
   "id": "83da44b3-64e2-462a-b2e8-91bedc8e13de",
   "metadata": {},
   "outputs": [],
   "source": []
  },
  {
   "cell_type": "code",
   "execution_count": null,
   "id": "1c435975-daf2-443e-bd28-b96162ad9f91",
   "metadata": {},
   "outputs": [],
   "source": []
  },
  {
   "cell_type": "code",
   "execution_count": null,
   "id": "a6fb68ad-5f76-4429-87d1-10929976ba71",
   "metadata": {},
   "outputs": [],
   "source": [
    "acq_name = sampleLabel + \"-4x-bf\""
   ]
  },
  {
   "cell_type": "code",
   "execution_count": null,
   "id": "3529a182-03c6-4b9e-8d12-350d19268365",
   "metadata": {},
   "outputs": [],
   "source": []
  },
  {
   "cell_type": "code",
   "execution_count": null,
   "id": "9369a1d8-5e21-4550-9fb7-4e105db47844",
   "metadata": {},
   "outputs": [],
   "source": []
  },
  {
   "cell_type": "code",
   "execution_count": null,
   "id": "d8701c59-c71b-4ccd-a6b9-ba135f701e19",
   "metadata": {},
   "outputs": [],
   "source": []
  }
 ],
 "metadata": {
  "kernelspec": {
   "display_name": "Python 3 (ipykernel)",
   "language": "python",
   "name": "python3"
  },
  "language_info": {
   "codemirror_mode": {
    "name": "ipython",
    "version": 3
   },
   "file_extension": ".py",
   "mimetype": "text/x-python",
   "name": "python",
   "nbconvert_exporter": "python",
   "pygments_lexer": "ipython3",
   "version": "3.8.17"
  }
 },
 "nbformat": 4,
 "nbformat_minor": 5
}
