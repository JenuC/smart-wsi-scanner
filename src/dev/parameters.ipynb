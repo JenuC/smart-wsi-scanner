{
 "cells": [
  {
   "cell_type": "code",
   "execution_count": 1,
   "id": "1833cab1",
   "metadata": {},
   "outputs": [],
   "source": [
    "import pycromanager"
   ]
  },
  {
   "cell_type": "code",
   "execution_count": 2,
   "id": "6bbdd628",
   "metadata": {},
   "outputs": [],
   "source": [
    "from pycromanager import Core, Studio"
   ]
  },
  {
   "cell_type": "code",
   "execution_count": 3,
   "id": "bf206d64",
   "metadata": {},
   "outputs": [
    {
     "name": "stderr",
     "output_type": "stream",
     "text": [
      "C:\\Users\\lociuser\\Codes\\smartpath\\smart-wsi-scanner\\.venv\\Lib\\site-packages\\pyjavaz\\bridge.py:346: UserWarning: Version mistmatch between Java ZMQ server and Python client. \n",
      "Java ZMQ server version: 4.2.0\n",
      "Python client expected version: 5.1.0\n",
      " To fix, update to BOTH Java and Python sides of bridge\n",
      "  warnings.warn(\n"
     ]
    }
   ],
   "source": [
    "core = Core()\n",
    "studio = Studio()"
   ]
  },
  {
   "cell_type": "code",
   "execution_count": 4,
   "id": "c5465aac",
   "metadata": {},
   "outputs": [],
   "source": [
    "from smart_wsi_scanner.smartpath import smartpath"
   ]
  },
  {
   "cell_type": "code",
   "execution_count": 5,
   "id": "95264e29",
   "metadata": {},
   "outputs": [
    {
     "data": {
      "text/plain": [
       "['COM1',\n",
       " 'COM3',\n",
       " 'MicroPublisher6',\n",
       " 'XYStage',\n",
       " 'ZStage',\n",
       " 'DHub',\n",
       " 'DObjective',\n",
       " 'ThorlabsKinesisDDR25',\n",
       " 'KBD101_Thor_Rotation',\n",
       " 'Core']"
      ]
     },
     "execution_count": 5,
     "metadata": {},
     "output_type": "execute_result"
    }
   ],
   "source": [
    "smartpath.obj_2_list(core.get_loaded_devices())"
   ]
  },
  {
   "cell_type": "code",
   "execution_count": 6,
   "id": "e25a2d28",
   "metadata": {},
   "outputs": [
    {
     "name": "stdout",
     "output_type": "stream",
     "text": [
      "Device: COM1\n",
      "  Property: AnswerTimeout Value: 500.0000 Allowed values: [] False\n",
      "  Property: BaudRate Value: 9600 Allowed values: ['1000000', '110', '115200', '1200', '128000', '14400', '19200', '2000000', '230400', '2400', '300', '38400', '460800', '4800', '500000', '57600', '600', '921600', '9600'] False\n",
      "  Property: DTR Value: Disable Allowed values: ['Disable', 'Enable'] False\n",
      "  Property: DataBits Value: 8 Allowed values: ['7', '8'] False\n",
      "  Property: DelayBetweenCharsMs Value: 0.0000 Allowed values: [] False\n",
      "  Property: Description Value: Serial port driver (boost:asio) Allowed values: [] True\n",
      "  Property: Fast USB to Serial Value: Disable Allowed values: ['Disable', 'Enable'] False\n",
      "  Property: Handshaking Value: Off Allowed values: ['Hardware', 'Off', 'Software'] False\n",
      "  Property: Name Value: COM1 Allowed values: [] True\n",
      "  Property: Parity Value: None Allowed values: ['Even', 'None', 'Odd'] False\n",
      "  Property: StopBits Value: 1 Allowed values: ['1', '1.5', '2'] False\n",
      "  Property: Verbose Value: 1 Allowed values: ['0', '1'] False\n",
      "Device: COM3\n",
      "  Property: AnswerTimeout Value: 500.0000 Allowed values: [] False\n",
      "  Property: BaudRate Value: 9600 Allowed values: ['1000000', '110', '115200', '1200', '128000', '14400', '19200', '2000000', '230400', '2400', '300', '38400', '460800', '4800', '500000', '57600', '600', '921600', '9600'] False\n",
      "  Property: DTR Value: Disable Allowed values: ['Disable', 'Enable'] False\n",
      "  Property: DataBits Value: 8 Allowed values: ['7', '8'] False\n",
      "  Property: DelayBetweenCharsMs Value: 0.0000 Allowed values: [] False\n",
      "  Property: Description Value: Serial port driver (boost:asio) Allowed values: [] True\n",
      "  Property: Fast USB to Serial Value: Disable Allowed values: ['Disable', 'Enable'] False\n",
      "  Property: Handshaking Value: Off Allowed values: ['Hardware', 'Off', 'Software'] False\n",
      "  Property: Name Value: COM3 Allowed values: [] True\n",
      "  Property: Parity Value: None Allowed values: ['Even', 'None', 'Odd'] False\n",
      "  Property: StopBits Value: 1 Allowed values: ['1', '1.5', '2'] False\n",
      "  Property: Verbose Value: 1 Allowed values: ['0', '1'] False\n",
      "Device: MicroPublisher6\n",
      "  Property: AcquisitionMethod Value: Callbacks Allowed values: ['Callbacks', 'Polling'] False\n",
      "  Property: ActualInterval-ms Value: 170.0700 Allowed values: [] False\n",
      "  Property: Binning Value: 1x1 Allowed values: ['1x1', '2x2', '4x4'] False\n",
      "  Property: CCDTemperature Value: -11.6000 Allowed values: [] True\n",
      "  Property: CCDTemperatureSetPoint Value: -12.0000 Allowed values: [] False\n",
      "  Property: ChipName Value: ICX695 Allowed values: [] True\n",
      "  Property: CircularBufferAutoSize Value: ON Allowed values: ['OFF', 'ON'] False\n",
      "  Property: CircularBufferEnabled Value: ON Allowed values: ['OFF', 'ON'] False\n",
      "  Property: CircularBufferFrameCount Value: 8 Allowed values: [] True\n",
      "  Property: CircularBufferFrameRecovery Value: OFF Allowed values: ['OFF', 'ON'] False\n",
      "  Property: ClearCycles Value: 2 Allowed values: [] False\n",
      "  Property: ClearMode Value: Pre-Exposure Allowed values: ['Never', 'Post-Sequence', 'Pre- and Post-Sequence', 'Pre-Exposure', 'Pre-Exposure and Post-Sequence', 'Pre-Sequence'] False\n",
      "  Property: Color Value: ON Allowed values: ['OFF', 'ON'] False\n",
      "  Property: Color - Algorithm CFA Value: G-B-R-G Allowed values: ['B-G-G-R', 'G-B-R-G', 'G-R-B-G', 'R-G-G-B'] True\n",
      "  Property: Color - Algorithm CFA Auto Value: ON Allowed values: ['OFF', 'ON'] False\n",
      "  Property: Color - Algorithm Interpolation Value: Nearest Neighbor Replication Allowed values: ['Adaptive Smooth Hue (edge detecting)', 'Bilinear', 'Nearest Neighbor Replication', 'Smooth Hue'] False\n",
      "  Property: Color - Blue scale Value: 1.0000 Allowed values: [] False\n",
      "  Property: Color - Green scale Value: 1.0000 Allowed values: [] False\n",
      "  Property: Color - Red scale Value: 1.0000 Allowed values: [] False\n",
      "  Property: Color - Sensor CFA Value: Color (GRBG) Allowed values: [] True\n",
      "  Property: Description Value: PVCAM API device adapter Allowed values: [] True\n",
      "  Property: DiskStreamingCoreSkipRatio Value: 1:100 Allowed values: ['1:1', '1:10', '1:100', '1:1000', '1:10000'] False\n",
      "  Property: DiskStreamingEnabled Value: No Allowed values: ['No', 'Yes'] False\n",
      "  Property: DiskStreamingPath Value:  Allowed values: [] False\n",
      "  Property: Exposure Value: 10.0000 Allowed values: [] False\n",
      "  Property: FTCapable Value: No Allowed values: [] True\n",
      "  Property: FirmwareVersion Value: 14.39 Allowed values: [] True\n",
      "  Property: FullWellCapacity Value: 240000 Allowed values: [] True\n",
      "  Property: Gain Value: 1 Allowed values: ['1', '2', '3'] False\n",
      "  Property: MaskLines Value: 19 Allowed values: ['19'] False\n",
      "  Property: Name Value: PMUSBCam00 Allowed values: [] True\n",
      "  Property: Offset Value: 100 Allowed values: [] False\n",
      "  Property: PMode Value: Normal Allowed values: ['Alternate Normal', 'Normal'] False\n",
      "  Property: PVCAM Adapter Version Value: 1.3.65 Allowed values: [] True\n",
      "  Property: PVCAM Version Value: 3.9.10 Allowed values: [] True\n",
      "  Property: PixelType Value: 14bit Allowed values: [] True\n",
      "  Property: Port Value: Normal Allowed values: [] True\n",
      "  Property: PostscanPixels Value: 75 Allowed values: ['75'] False\n",
      "  Property: PreampDelay Value: 5 Allowed values: [] True\n",
      "  Property: PreampOffLimit Value: 10000 Allowed values: [] False\n",
      "  Property: PrescanPixels Value: 75 Allowed values: ['75'] False\n",
      "  Property: ReadoutRate Value: 50MHz 14bit Allowed values: ['50MHz 14bit'] False\n",
      "  Property: SerialNumber Value: Q54862 Allowed values: [] True\n",
      "  Property: ShutterCloseDelay Value: 0 Allowed values: [] False\n",
      "  Property: ShutterMode Value: Pre-Exposure Allowed values: ['Do Not Change', 'Never', 'Pre-Exposure', 'Pre-Sequence', 'Pre-Trigger'] False\n",
      "  Property: ShutterOpenDelay Value: 0 Allowed values: [] False\n",
      "  Property: Timing-ExposureTimeNs Value: 10000000.0000 Allowed values: [] True\n",
      "  Property: Timing-ReadoutTimeNs Value: 142662000.0000 Allowed values: [] True\n",
      "  Property: TransposeCorrection Value: 0 Allowed values: ['0', '1'] False\n",
      "  Property: TransposeMirrorX Value: 0 Allowed values: ['0', '1'] False\n",
      "  Property: TransposeMirrorY Value: 0 Allowed values: ['0', '1'] False\n",
      "  Property: TransposeXY Value: 0 Allowed values: ['0', '1'] False\n",
      "  Property: Trigger Timeout (secs) Value: 10 Allowed values: [] False\n",
      "  Property: TriggerMode Value: Timed Allowed values: ['Bulb', 'Strobed', 'Timed', 'Trigger First', 'Variable Timed'] False\n",
      "  Property: X-dimension Value: 2688 Allowed values: [] True\n",
      "  Property: Y-dimension Value: 2200 Allowed values: [] True\n",
      "Device: XYStage\n",
      "  Property: Acceleration Value: 100 Allowed values: [] False\n",
      "  Property: Description Value: Prior XY stage driver adapter Allowed values: [] True\n",
      "  Property: MaxSpeed Value: 100 Allowed values: [] False\n",
      "  Property: Port Value: COM1 Allowed values: [] False\n",
      "  Property: SCurve Value: 100 Allowed values: [] False\n",
      "  Property: StepSizeX_um Value: 1.0000 Allowed values: [] True\n",
      "  Property: StepSizeY_um Value: 1.0000 Allowed values: [] True\n",
      "  Property: TransposeMirrorX Value: 0 Allowed values: ['0', '1'] False\n",
      "  Property: TransposeMirrorY Value: 0 Allowed values: ['0', '1'] False\n",
      "Device: ZStage\n",
      "  Property: Acceleration Value: 100 Allowed values: [] False\n",
      "  Property: Description Value: Prior Z-stage driver adapter Allowed values: [] True\n",
      "  Property: MaxSpeed Value: 100 Allowed values: [] False\n",
      "  Property: Name Value: ZStage Allowed values: [] True\n",
      "  Property: Port Value: COM1 Allowed values: [] False\n",
      "  Property: SCurve Value: 100 Allowed values: [] False\n",
      "Device: DHub\n",
      "Device: DObjective\n",
      "  Property: Description Value: Demo objective turret driver Allowed values: [] True\n",
      "  Property: HubID Value:  Allowed values: [] True\n",
      "  Property: Label Value: 10x 0.3 Allowed values: ['10x 0.3', '20x 0.5', '20x 0.5 red Pol', '40x 0.5 red Pol', '40x 0.75', '40xAdapter0.5'] False\n",
      "  Property: Name Value: DObjective Allowed values: [] True\n",
      "  Property: State Value: 0 Allowed values: [] False\n",
      "  Property: Trigger Value: - Allowed values: ['+', '-'] False\n",
      "Device: ThorlabsKinesisDDR25\n",
      "  Property: EnableSimulatedDevices Value: Yes Allowed values: ['No', 'Yes'] False\n",
      "Device: KBD101_Thor_Rotation\n",
      "  Property: DeviceUnitsPerMillimeter Value: 1.0000 Allowed values: [] False\n",
      "  Property: DeviceUnitsPerRevolution Value: 1440000.0000 Allowed values: [] False\n",
      "  Property: StageType Value: Rotational Allowed values: ['Linear', 'Rotational'] False\n",
      "Device: Core\n",
      "  Property: AutoFocus Value:  Allowed values: [''] False\n",
      "  Property: AutoShutter Value: 1 Allowed values: ['0', '1'] False\n",
      "  Property: Camera Value: MicroPublisher6 Allowed values: ['', 'MicroPublisher6'] False\n",
      "  Property: ChannelGroup Value:  Allowed values: ['', 'ColorCam', 'ObjectiveLens', 'System'] False\n",
      "  Property: Focus Value: ZStage Allowed values: ['', 'KBD101_Thor_Rotation', 'ZStage'] False\n",
      "  Property: Galvo Value:  Allowed values: [''] False\n",
      "  Property: ImageProcessor Value:  Allowed values: [''] False\n",
      "  Property: Initialize Value: 1 Allowed values: ['0', '1'] False\n",
      "  Property: SLM Value:  Allowed values: [''] False\n",
      "  Property: Shutter Value:  Allowed values: [''] False\n",
      "  Property: TimeoutMs Value: 5000 Allowed values: [] False\n",
      "  Property: XYStage Value: XYStage Allowed values: ['', 'XYStage'] False\n"
     ]
    }
   ],
   "source": [
    "for loaded_device in smartpath.obj_2_list(core.get_loaded_devices()):\n",
    "    print(f\"Device: {loaded_device}\")\n",
    "    for property_name in smartpath.obj_2_list(core.get_device_property_names(loaded_device)):\n",
    "        print(f\"  Property: {property_name}\", \n",
    "              f\"Value: {core.get_property(loaded_device, property_name)}\",\n",
    "              f\"Allowed values: {smartpath.obj_2_list(core.get_allowed_property_values(loaded_device, property_name))}\",\n",
    "              f\"{core.is_property_read_only(loaded_device, property_name)}\")\n",
    "        "
   ]
  },
  {
   "cell_type": "code",
   "execution_count": 8,
   "id": "e359c5d2",
   "metadata": {},
   "outputs": [
    {
     "data": {
      "text/plain": [
       "'Device API version 71, Module API version 10'"
      ]
     },
     "execution_count": 8,
     "metadata": {},
     "output_type": "execute_result"
    }
   ],
   "source": [
    "core.get_api_version_info()"
   ]
  },
  {
   "cell_type": "code",
   "execution_count": 9,
   "id": "2d7ac7dc",
   "metadata": {},
   "outputs": [],
   "source": [
    "from smart_wsi_scanner.config import ConfigManager, sp_position"
   ]
  },
  {
   "cell_type": "code",
   "execution_count": 25,
   "id": "0cf01fb8-5d0e-45ea-8c5e-4b189981757d",
   "metadata": {},
   "outputs": [],
   "source": [
    "config_manager = ConfigManager()\n",
    "ppm_settings1 = config_manager.get_config(\"config_PPM\")"
   ]
  },
  {
   "cell_type": "code",
   "execution_count": 26,
   "id": "2c57ec63-c8f4-451b-a07c-579aac7a796d",
   "metadata": {},
   "outputs": [
    {
     "data": {
      "text/plain": [
       "DataClass(microscope=Microscope(name='PPM', type='UprightBrightfield', camera='LOCI_CAMERA_002'), stage=Stage(z_stage='ZStage', x_limit=X_limit(low=-21000.0, high=33000.0), y_limit=Y_limit(low=-12000.0, high=13000.0), z_limit=Z_limit(low=-400, high=100), vendor='Prior', id='LOCI_Stage_002'), imaging_mode=Imaging_mode(bf_4x=Bf_4x(objective_lens='LOCI_4x_002', pixel_size_um=1.1389), bf_10x=Bf_10x(objective_lens='LOCI_10x_001', pixel_size_um=0.4537), bf_20x=Bf_20x(objective_lens='LOCI_20x_003', pixel_size_um=0.2271), bf_40x=Bf_40x(pixel_size_um=0.1142, objective_lens='LOCI_40x_001'), ppm_10x=Ppm_10x(objective_lens='LOCI_10x_001', pixel_size_um=0.4537), ppm_20x=Ppm_20x(objective_lens='LOCI_20x_003', pixel_size_um=0.2271), ppm_40x=Ppm_40x(objective_lens='LOCI_40x_001', pixel_size_um=0.1142)), white_balance=White_balance(ppm=Ppm(crossed=[1.0, 1.0, 1.116], uncrossed=[1.0, 1.0, 1.0], positive=[1.0, 1.0, 1.116], negative=[1.0, 1.0, 1.0])), slide_size=Slide_size(x=40000, y=20000), autofocus=Autofocus(n_steps=5, search_range=45, interp_strength=100, interp_kind='quadratic', score_metric='sobel', pop_a_plot=False, move_stage_to_estimate=True))"
      ]
     },
     "execution_count": 26,
     "metadata": {},
     "output_type": "execute_result"
    }
   ],
   "source": [
    "ppm_settings1"
   ]
  },
  {
   "cell_type": "code",
   "execution_count": 27,
   "id": "8491a658-7efa-43f1-9c5a-6518ac26ac83",
   "metadata": {},
   "outputs": [
    {
     "data": {
      "text/plain": [
       "DataClass(microscope=Microscope(name='PPM', type='UprightBrightfield', camera='LOCI_CAMERA_002'), stage=Stage(z_stage='ZStage', x_limit=X_limit(low=-21000.0, high=33000.0), y_limit=Y_limit(low=-12000.0, high=13000.0), z_limit=Z_limit(low=-400, high=100), vendor='Prior', id='LOCI_Stage_002'), imaging_mode=Imaging_mode(bf_4x=Bf_4x(objective_lens='LOCI_4x_002', pixel_size_um=1.1389), bf_10x=Bf_10x(objective_lens='LOCI_10x_001', pixel_size_um=0.4537), bf_20x=Bf_20x(objective_lens='LOCI_20x_003', pixel_size_um=0.2271), bf_40x=Bf_40x(pixel_size_um=0.1142, objective_lens='LOCI_40x_001'), ppm_10x=Ppm_10x(objective_lens='LOCI_10x_001', pixel_size_um=0.4537), ppm_20x=Ppm_20x(objective_lens='LOCI_20x_003', pixel_size_um=0.2271), ppm_40x=Ppm_40x(objective_lens='LOCI_40x_001', pixel_size_um=0.1142)), white_balance=White_balance(ppm=Ppm(crossed=[1.0, 1.0, 1.116], uncrossed=[1.0, 1.0, 1.0], positive=[1.0, 1.0, 1.116], negative=[1.0, 1.0, 1.0])), slide_size=Slide_size(x=40000, y=20000), autofocus=Autofocus(n_steps=5, search_range=45, interp_strength=100, interp_kind='quadratic', score_metric='sobel', pop_a_plot=False, move_stage_to_estimate=True))"
      ]
     },
     "execution_count": 27,
     "metadata": {},
     "output_type": "execute_result"
    }
   ],
   "source": [
    "ppm_settings2= config_manager.load_config(\"D:\\\\2025QPSC\\\\smartpath_configurations\\\\config_PPM.yml\")\n",
    "ppm_settings2"
   ]
  },
  {
   "cell_type": "code",
   "execution_count": 28,
   "id": "6cd29a48-13ea-4db6-a5b1-80d098269621",
   "metadata": {},
   "outputs": [],
   "source": [
    "from smart_wsi_scanner.smartpath_qpscope import smartpath_qpscope as qpscopex"
   ]
  },
  {
   "cell_type": "code",
   "execution_count": 30,
   "id": "83b54734-5578-41b2-b750-daa6602e8f4b",
   "metadata": {},
   "outputs": [
    {
     "data": {
      "text/plain": [
       "Imaging_mode(bf_4x=Bf_4x(objective_lens='LOCI_4x_002', pixel_size_um=1.1389), bf_10x=Bf_10x(objective_lens='LOCI_10x_001', pixel_size_um=0.4537), bf_20x=Bf_20x(objective_lens='LOCI_20x_003', pixel_size_um=0.2271), bf_40x=Bf_40x(pixel_size_um=0.1142, objective_lens='LOCI_40x_001'), ppm_10x=Ppm_10x(objective_lens='LOCI_10x_001', pixel_size_um=0.4537), ppm_20x=Ppm_20x(objective_lens='LOCI_20x_003', pixel_size_um=0.2271), ppm_40x=Ppm_40x(objective_lens='LOCI_40x_001', pixel_size_um=0.1142))"
      ]
     },
     "execution_count": 30,
     "metadata": {},
     "output_type": "execute_result"
    }
   ],
   "source": [
    "ppm_settings2.imaging_mode"
   ]
  },
  {
   "cell_type": "code",
   "execution_count": 31,
   "id": "161534be-174c-4086-9154-2e8efdffc63c",
   "metadata": {},
   "outputs": [
    {
     "ename": "AttributeError",
     "evalue": "'Imaging_mode' object has no attribute 'pixelsize'",
     "output_type": "error",
     "traceback": [
      "\u001b[31m---------------------------------------------------------------------------\u001b[39m",
      "\u001b[31mAttributeError\u001b[39m                            Traceback (most recent call last)",
      "\u001b[36mCell\u001b[39m\u001b[36m \u001b[39m\u001b[32mIn[31]\u001b[39m\u001b[32m, line 1\u001b[39m\n\u001b[32m----> \u001b[39m\u001b[32m1\u001b[39m \u001b[43mqpscopex\u001b[49m\u001b[43m.\u001b[49m\u001b[43mget_fov\u001b[49m\u001b[43m(\u001b[49m\u001b[43mppm_settings2\u001b[49m\u001b[43m)\u001b[49m\n",
      "\u001b[36mFile \u001b[39m\u001b[32m~\\Codes\\smartpath\\smart-wsi-scanner\\src\\smart_wsi_scanner\\smartpath_qpscope.py:65\u001b[39m, in \u001b[36msmartpath_qpscope.get_fov\u001b[39m\u001b[34m(camm)\u001b[39m\n\u001b[32m     61\u001b[39m \u001b[38;5;129m@staticmethod\u001b[39m\n\u001b[32m     62\u001b[39m \u001b[38;5;28;01mdef\u001b[39;00m\u001b[38;5;250m \u001b[39m\u001b[34mget_fov\u001b[39m(camm: sp_microscope_settings) -> (\u001b[38;5;28mfloat\u001b[39m, \u001b[38;5;28mfloat\u001b[39m):\n\u001b[32m     63\u001b[39m \u001b[38;5;250m    \u001b[39m\u001b[33;03m\"\"\"returns field of view in settings.pixelsize units\u001b[39;00m\n\u001b[32m     64\u001b[39m \u001b[33;03m    fov_x, fov_y\"\"\"\u001b[39;00m\n\u001b[32m---> \u001b[39m\u001b[32m65\u001b[39m     fov_y = \u001b[43mcamm\u001b[49m\u001b[43m.\u001b[49m\u001b[43mimaging_mode\u001b[49m\u001b[43m.\u001b[49m\u001b[43mpixelsize\u001b[49m * camm.detector.height\n\u001b[32m     66\u001b[39m     fov_x = camm.imaging_mode.pixelsize * camm.detector.width\n\u001b[32m     67\u001b[39m     \u001b[38;5;28;01mreturn\u001b[39;00m fov_x, fov_y\n",
      "\u001b[31mAttributeError\u001b[39m: 'Imaging_mode' object has no attribute 'pixelsize'"
     ]
    }
   ],
   "source": [
    "qpscopex.get_fov(ppm_settings2)"
   ]
  },
  {
   "cell_type": "code",
   "execution_count": null,
   "id": "46028e6f-7c72-4f76-8662-2e2dcd2f433c",
   "metadata": {},
   "outputs": [],
   "source": []
  },
  {
   "cell_type": "code",
   "execution_count": null,
   "id": "f4e87370-dc9b-47d3-857e-141b5250c089",
   "metadata": {},
   "outputs": [],
   "source": []
  },
  {
   "cell_type": "code",
   "execution_count": null,
   "id": "9defdfd6",
   "metadata": {},
   "outputs": [],
   "source": []
  }
 ],
 "metadata": {
  "kernelspec": {
   "display_name": "Python 3 (ipykernel)",
   "language": "python",
   "name": "python3"
  },
  "language_info": {
   "codemirror_mode": {
    "name": "ipython",
    "version": 3
   },
   "file_extension": ".py",
   "mimetype": "text/x-python",
   "name": "python",
   "nbconvert_exporter": "python",
   "pygments_lexer": "ipython3",
   "version": "3.12.10"
  }
 },
 "nbformat": 4,
 "nbformat_minor": 5
}
