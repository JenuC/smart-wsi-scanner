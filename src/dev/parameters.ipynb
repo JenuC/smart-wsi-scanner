{
 "cells": [
  {
   "cell_type": "code",
   "execution_count": 1,
   "id": "1833cab1",
   "metadata": {},
   "outputs": [],
   "source": [
    "import pycromanager"
   ]
  },
  {
   "cell_type": "code",
   "execution_count": 2,
   "id": "6bbdd628",
   "metadata": {},
   "outputs": [],
   "source": [
    "from pycromanager import Core, Studio"
   ]
  },
  {
   "cell_type": "code",
   "execution_count": 3,
   "id": "bf206d64",
   "metadata": {},
   "outputs": [],
   "source": [
    "core = Core()\n",
    "studio = Studio()"
   ]
  },
  {
   "cell_type": "code",
   "execution_count": 4,
   "id": "c5465aac",
   "metadata": {},
   "outputs": [],
   "source": [
    "from smart_wsi_scanner.smartpath import smartpath"
   ]
  },
  {
   "cell_type": "code",
   "execution_count": 10,
   "id": "95264e29",
   "metadata": {},
   "outputs": [
    {
     "data": {
      "text/plain": [
       "['COM1',\n",
       " 'COM3',\n",
       " 'MicroPublisher6',\n",
       " 'XYStage',\n",
       " 'ZStage',\n",
       " 'DHub',\n",
       " 'DObjective',\n",
       " 'ThorlabsKinesisDDR25',\n",
       " 'KBD101_Thor_Rotation',\n",
       " 'Core']"
      ]
     },
     "execution_count": 10,
     "metadata": {},
     "output_type": "execute_result"
    }
   ],
   "source": [
    "smartpath.obj_2_list(core.get_loaded_devices())"
   ]
  },
  {
   "cell_type": "code",
   "execution_count": 21,
   "id": "e25a2d28",
   "metadata": {},
   "outputs": [
    {
     "name": "stdout",
     "output_type": "stream",
     "text": [
      "Device: COM1\n",
      "  Property: AnswerTimeout Value: 500.0000 Allowed values: [] False\n",
      "  Property: BaudRate Value: 9600 Allowed values: ['1000000', '110', '115200', '1200', '128000', '14400', '19200', '2000000', '230400', '2400', '300', '38400', '460800', '4800', '500000', '57600', '600', '921600', '9600'] False\n",
      "  Property: DTR Value: Disable Allowed values: ['Disable', 'Enable'] False\n",
      "  Property: DataBits Value: 8 Allowed values: ['7', '8'] False\n",
      "  Property: DelayBetweenCharsMs Value: 0.0000 Allowed values: [] False\n",
      "  Property: Description Value: Serial port driver (boost:asio) Allowed values: [] True\n",
      "  Property: Fast USB to Serial Value: Disable Allowed values: ['Disable', 'Enable'] False\n",
      "  Property: Handshaking Value: Off Allowed values: ['Hardware', 'Off', 'Software'] False\n",
      "  Property: Name Value: COM1 Allowed values: [] True\n",
      "  Property: Parity Value: None Allowed values: ['Even', 'None', 'Odd'] False\n",
      "  Property: StopBits Value: 1 Allowed values: ['1', '1.5', '2'] False\n",
      "  Property: Verbose Value: 1 Allowed values: ['0', '1'] False\n",
      "Device: COM3\n",
      "  Property: AnswerTimeout Value: 500.0000 Allowed values: [] False\n",
      "  Property: BaudRate Value: 9600 Allowed values: ['1000000', '110', '115200', '1200', '128000', '14400', '19200', '2000000', '230400', '2400', '300', '38400', '460800', '4800', '500000', '57600', '600', '921600', '9600'] False\n",
      "  Property: DTR Value: Disable Allowed values: ['Disable', 'Enable'] False\n",
      "  Property: DataBits Value: 8 Allowed values: ['7', '8'] False\n",
      "  Property: DelayBetweenCharsMs Value: 0.0000 Allowed values: [] False\n",
      "  Property: Description Value: Serial port driver (boost:asio) Allowed values: [] True\n",
      "  Property: Fast USB to Serial Value: Disable Allowed values: ['Disable', 'Enable'] False\n",
      "  Property: Handshaking Value: Off Allowed values: ['Hardware', 'Off', 'Software'] False\n",
      "  Property: Name Value: COM3 Allowed values: [] True\n",
      "  Property: Parity Value: None Allowed values: ['Even', 'None', 'Odd'] False\n",
      "  Property: StopBits Value: 1 Allowed values: ['1', '1.5', '2'] False\n",
      "  Property: Verbose Value: 1 Allowed values: ['0', '1'] False\n",
      "Device: MicroPublisher6\n",
      "  Property: AcquisitionMethod Value: Polling Allowed values: ['Callbacks', 'Polling'] False\n",
      "  Property: ActualInterval-ms Value: 276.6100 Allowed values: [] False\n",
      "  Property: Binning Value: 1x1 Allowed values: ['1x1', '2x2', '4x4'] False\n",
      "  Property: CCDTemperature Value: -11.5500 Allowed values: [] True\n",
      "  Property: CCDTemperatureSetPoint Value: -12.0000 Allowed values: [] False\n",
      "  Property: ChipName Value: ICX695 Allowed values: [] True\n",
      "  Property: CircularBufferAutoSize Value: ON Allowed values: ['OFF', 'ON'] False\n",
      "  Property: CircularBufferEnabled Value: ON Allowed values: ['OFF', 'ON'] False\n",
      "  Property: CircularBufferFrameCount Value: 8 Allowed values: [] True\n",
      "  Property: CircularBufferFrameRecovery Value: OFF Allowed values: ['OFF', 'ON'] False\n",
      "  Property: ClearCycles Value: 2 Allowed values: [] False\n",
      "  Property: ClearMode Value: Pre-Exposure Allowed values: ['Never', 'Post-Sequence', 'Pre- and Post-Sequence', 'Pre-Exposure', 'Pre-Exposure and Post-Sequence', 'Pre-Sequence'] False\n",
      "  Property: Color Value: ON Allowed values: ['OFF', 'ON'] False\n",
      "  Property: Color - Algorithm CFA Value: G-B-R-G Allowed values: ['B-G-G-R', 'G-B-R-G', 'G-R-B-G', 'R-G-G-B'] False\n",
      "  Property: Color - Algorithm CFA Auto Value: OFF Allowed values: ['OFF', 'ON'] False\n",
      "  Property: Color - Algorithm Interpolation Value: Nearest Neighbor Replication Allowed values: ['Adaptive Smooth Hue (edge detecting)', 'Bilinear', 'Nearest Neighbor Replication', 'Smooth Hue'] False\n",
      "  Property: Color - Blue scale Value: 1.0000 Allowed values: [] False\n",
      "  Property: Color - Green scale Value: 1.0000 Allowed values: [] False\n",
      "  Property: Color - Red scale Value: 1.0000 Allowed values: [] False\n",
      "  Property: Color - Sensor CFA Value: Color (GRBG) Allowed values: [] True\n",
      "  Property: Description Value: PVCAM API device adapter Allowed values: [] True\n",
      "  Property: DiskStreamingCoreSkipRatio Value: 1:100 Allowed values: ['1:1', '1:10', '1:100', '1:1000', '1:10000'] False\n",
      "  Property: DiskStreamingEnabled Value: No Allowed values: ['No', 'Yes'] False\n",
      "  Property: DiskStreamingPath Value:  Allowed values: [] False\n",
      "  Property: Exposure Value: 100.0000 Allowed values: [] False\n",
      "  Property: FTCapable Value: No Allowed values: [] True\n",
      "  Property: FirmwareVersion Value: 14.39 Allowed values: [] True\n",
      "  Property: FullWellCapacity Value: 240000 Allowed values: [] True\n",
      "  Property: Gain Value: 1 Allowed values: ['1', '2', '3'] False\n",
      "  Property: MaskLines Value: 19 Allowed values: ['19'] False\n",
      "  Property: Name Value: PMUSBCam00 Allowed values: [] True\n",
      "  Property: Offset Value: 100 Allowed values: [] False\n",
      "  Property: PMode Value: Normal Allowed values: ['Alternate Normal', 'Normal'] False\n",
      "  Property: PVCAM Adapter Version Value: 1.3.75 Allowed values: [] True\n",
      "  Property: PVCAM Version Value: 3.9.10 Allowed values: [] True\n",
      "  Property: PixelType Value: 14bit Allowed values: [] True\n",
      "  Property: Port Value: Normal Allowed values: [] True\n",
      "  Property: PostscanPixels Value: 75 Allowed values: ['75'] False\n",
      "  Property: PreampDelay Value: 5 Allowed values: [] True\n",
      "  Property: PreampOffLimit Value: 10000 Allowed values: [] False\n",
      "  Property: PrescanPixels Value: 75 Allowed values: ['75'] False\n",
      "  Property: ReadoutRate Value: 50MHz 14bit Allowed values: ['50MHz 14bit'] False\n",
      "  Property: SerialNumber Value: Q54862 Allowed values: [] True\n",
      "  Property: ShutterCloseDelay Value: 0 Allowed values: [] False\n",
      "  Property: ShutterMode Value: Pre-Exposure Allowed values: ['Do Not Change', 'Never', 'Pre-Exposure', 'Pre-Sequence', 'Pre-Trigger'] False\n",
      "  Property: ShutterOpenDelay Value: 0 Allowed values: [] False\n",
      "  Property: Timing-ExposureTimeNs Value: 100000000.0000 Allowed values: [] True\n",
      "  Property: Timing-ReadoutTimeNs Value: 142662000.0000 Allowed values: [] True\n",
      "  Property: TransposeCorrection Value: 0 Allowed values: ['0', '1'] False\n",
      "  Property: TransposeMirrorX Value: 0 Allowed values: ['0', '1'] False\n",
      "  Property: TransposeMirrorY Value: 0 Allowed values: ['0', '1'] False\n",
      "  Property: TransposeXY Value: 0 Allowed values: ['0', '1'] False\n",
      "  Property: Trigger Timeout (secs) Value: 10 Allowed values: [] False\n",
      "  Property: TriggerMode Value: Timed Allowed values: ['Bulb', 'Strobed', 'Timed', 'Trigger First', 'Variable Timed'] False\n",
      "  Property: X-dimension Value: 2688 Allowed values: [] True\n",
      "  Property: Y-dimension Value: 2200 Allowed values: [] True\n",
      "Device: XYStage\n",
      "  Property: Acceleration Value: 100 Allowed values: [] False\n",
      "  Property: Description Value: Prior XY stage driver adapter Allowed values: [] True\n",
      "  Property: MaxSpeed Value: 100 Allowed values: [] False\n",
      "  Property: Port Value: COM1 Allowed values: [] False\n",
      "  Property: SCurve Value: 100 Allowed values: [] False\n",
      "  Property: StepSizeX_um Value: 1.0000 Allowed values: [] True\n",
      "  Property: StepSizeY_um Value: 1.0000 Allowed values: [] True\n",
      "  Property: TransposeMirrorX Value: 0 Allowed values: ['0', '1'] False\n",
      "  Property: TransposeMirrorY Value: 0 Allowed values: ['0', '1'] False\n",
      "Device: ZStage\n",
      "  Property: Acceleration Value: 100 Allowed values: [] False\n",
      "  Property: Description Value: Prior Z-stage driver adapter Allowed values: [] True\n",
      "  Property: MaxSpeed Value: 100 Allowed values: [] False\n",
      "  Property: Name Value: ZStage Allowed values: [] True\n",
      "  Property: Port Value: COM1 Allowed values: [] False\n",
      "  Property: SCurve Value: 100 Allowed values: [] False\n",
      "Device: DHub\n",
      "Device: DObjective\n",
      "  Property: Description Value: Demo objective turret driver Allowed values: [] True\n",
      "  Property: HubID Value:  Allowed values: [] True\n",
      "  Property: Label Value: 10x 0.3 Allowed values: ['10x 0.3', '20x 0.5', '20x 0.5 red Pol', '40x 0.5 red Pol', '40x 0.75', '40xAdapter0.5'] False\n",
      "  Property: Name Value: DObjective Allowed values: [] True\n",
      "  Property: State Value: 0 Allowed values: [] False\n",
      "  Property: Trigger Value: - Allowed values: ['+', '-'] False\n",
      "Device: ThorlabsKinesisDDR25\n",
      "  Property: EnableSimulatedDevices Value: Yes Allowed values: ['No', 'Yes'] False\n",
      "Device: KBD101_Thor_Rotation\n",
      "  Property: DeviceUnitsPerMillimeter Value: 1.0000 Allowed values: [] False\n",
      "  Property: DeviceUnitsPerRevolution Value: 1440000.0000 Allowed values: [] False\n",
      "  Property: StageType Value: Rotational Allowed values: ['Linear', 'Rotational'] False\n",
      "Device: Core\n",
      "  Property: AutoFocus Value:  Allowed values: [''] False\n",
      "  Property: AutoShutter Value: 1 Allowed values: ['0', '1'] False\n",
      "  Property: Camera Value: MicroPublisher6 Allowed values: ['', 'MicroPublisher6'] False\n",
      "  Property: ChannelGroup Value:  Allowed values: ['', 'ColorCam', 'ObjectiveLens', 'System'] False\n",
      "  Property: Focus Value: ZStage Allowed values: ['', 'KBD101_Thor_Rotation', 'ZStage'] False\n",
      "  Property: Galvo Value:  Allowed values: [''] False\n",
      "  Property: ImageProcessor Value:  Allowed values: [''] False\n",
      "  Property: Initialize Value: 1 Allowed values: ['0', '1'] False\n",
      "  Property: SLM Value:  Allowed values: [''] False\n",
      "  Property: Shutter Value:  Allowed values: [''] False\n",
      "  Property: TimeoutMs Value: 5000 Allowed values: [] False\n",
      "  Property: XYStage Value: XYStage Allowed values: ['', 'XYStage'] False\n"
     ]
    }
   ],
   "source": [
    "for loaded_device in smartpath.obj_2_list(core.get_loaded_devices()):\n",
    "    print(f\"Device: {loaded_device}\")\n",
    "    for property_name in smartpath.obj_2_list(core.get_device_property_names(loaded_device)):\n",
    "        print(f\"  Property: {property_name}\", \n",
    "              f\"Value: {core.get_property(loaded_device, property_name)}\",\n",
    "              f\"Allowed values: {smartpath.obj_2_list(core.get_allowed_property_values(loaded_device, property_name))}\",\n",
    "              f\"{core.is_property_read_only(loaded_device, property_name)}\")\n",
    "        "
   ]
  },
  {
   "cell_type": "code",
   "execution_count": 20,
   "id": "e359c5d2",
   "metadata": {},
   "outputs": [
    {
     "ename": "Exception",
     "evalue": "Incorrect arguments. \nExpected java.lang.String, java.lang.String \nGot ",
     "output_type": "error",
     "traceback": [
      "\u001b[31m---------------------------------------------------------------------------\u001b[39m",
      "\u001b[31mException\u001b[39m                                 Traceback (most recent call last)",
      "\u001b[36mCell\u001b[39m\u001b[36m \u001b[39m\u001b[32mIn[20]\u001b[39m\u001b[32m, line 1\u001b[39m\n\u001b[32m----> \u001b[39m\u001b[32m1\u001b[39m \u001b[43mcore\u001b[49m\u001b[43m.\u001b[49m\u001b[43mget_allowed_property_values\u001b[49m\u001b[43m(\u001b[49m\u001b[43m)\u001b[49m\n",
      "\u001b[36mFile \u001b[39m\u001b[32mc:\\Users\\lociuser\\Codes\\smartpath\\smart-wsi-scanner\\.venv\\Lib\\site-packages\\pyjavaz\\bridge.py:615\u001b[39m, in \u001b[36m_JavaClassFactory.create.<locals>.<lambda>\u001b[39m\u001b[34m(instance, signatures_list, *args)\u001b[39m\n\u001b[32m    609\u001b[39m params, methods_with_name, method_name_modified = _parse_arg_names(\n\u001b[32m    610\u001b[39m     methodSpecs, method_name, convert_camel_case\n\u001b[32m    611\u001b[39m )\n\u001b[32m    612\u001b[39m return_type = methods_with_name[\u001b[32m0\u001b[39m][\u001b[33m\"\u001b[39m\u001b[33mreturn-type\u001b[39m\u001b[33m\"\u001b[39m]\n\u001b[32m    613\u001b[39m fn = \u001b[38;5;28;01mlambda\u001b[39;00m instance, *args, signatures_list=\u001b[38;5;28mtuple\u001b[39m(\n\u001b[32m    614\u001b[39m     methods_with_name\n\u001b[32m--> \u001b[39m\u001b[32m615\u001b[39m ): \u001b[43minstance\u001b[49m\u001b[43m.\u001b[49m\u001b[43m_translate_call\u001b[49m\u001b[43m(\u001b[49m\n\u001b[32m    616\u001b[39m \u001b[43m    \u001b[49m\u001b[43msignatures_list\u001b[49m\u001b[43m,\u001b[49m\u001b[43m \u001b[49m\u001b[43margs\u001b[49m\u001b[43m,\u001b[49m\u001b[43m \u001b[49m\u001b[43mstatic\u001b[49m\u001b[43m=\u001b[49m\u001b[43m_java_class\u001b[49m\u001b[43m \u001b[49m\u001b[43m==\u001b[49m\u001b[43m \u001b[49m\u001b[33;43m\"\u001b[39;49m\u001b[33;43mjava.lang.Class\u001b[39;49m\u001b[33;43m\"\u001b[39;49m\n\u001b[32m    617\u001b[39m \u001b[43m\u001b[49m\u001b[43m)\u001b[49m\n\u001b[32m    618\u001b[39m fn.\u001b[34m__name__\u001b[39m = method_name_modified\n\u001b[32m    619\u001b[39m fn.\u001b[34m__doc__\u001b[39m = \u001b[33m\"\u001b[39m\u001b[38;5;132;01m{}\u001b[39;00m\u001b[33m.\u001b[39m\u001b[38;5;132;01m{}\u001b[39;00m\u001b[33m: A dynamically generated Java method.\u001b[39m\u001b[33m\"\u001b[39m.format(\n\u001b[32m    620\u001b[39m     _java_class, method_name_modified\n\u001b[32m    621\u001b[39m )\n",
      "\u001b[36mFile \u001b[39m\u001b[32mc:\\Users\\lociuser\\Codes\\smartpath\\smart-wsi-scanner\\.venv\\Lib\\site-packages\\pyjavaz\\bridge.py:773\u001b[39m, in \u001b[36m_JavaObjectShadow._translate_call\u001b[39m\u001b[34m(self, method_specs, fn_args, static)\u001b[39m\n\u001b[32m    761\u001b[39m \u001b[38;5;250m\u001b[39m\u001b[33;03m\"\"\"\u001b[39;00m\n\u001b[32m    762\u001b[39m \u001b[33;03mTranslate to appropriate Java method, call it, and return converted python version of its result\u001b[39;00m\n\u001b[32m    763\u001b[39m \u001b[33;03mParameters\u001b[39;00m\n\u001b[32m   (...)\u001b[39m\u001b[32m    768\u001b[39m \u001b[33;03m     hold possible polymorphic args, or none\u001b[39;00m\n\u001b[32m    769\u001b[39m \u001b[33;03m\"\"\"\u001b[39;00m\n\u001b[32m    771\u001b[39m \u001b[38;5;66;03m# args that are none are placeholders to allow for polymorphism and not considered part of the spec\u001b[39;00m\n\u001b[32m    772\u001b[39m \u001b[38;5;66;03m# fn_args = [a for a in fn_args if a is not None]\u001b[39;00m\n\u001b[32m--> \u001b[39m\u001b[32m773\u001b[39m valid_method_spec, deserialize_types = \u001b[43m_check_method_args\u001b[49m\u001b[43m(\u001b[49m\u001b[43mmethod_specs\u001b[49m\u001b[43m,\u001b[49m\u001b[43m \u001b[49m\u001b[43mfn_args\u001b[49m\u001b[43m)\u001b[49m\n\u001b[32m    774\u001b[39m \u001b[38;5;66;03m# args are good, make call through socket, casting the correct type if needed (e.g. int to float)\u001b[39;00m\n\u001b[32m    775\u001b[39m message = {\u001b[33m\"\u001b[39m\u001b[33mcommand\u001b[39m\u001b[33m\"\u001b[39m: \u001b[33m\"\u001b[39m\u001b[33mrun-method\u001b[39m\u001b[33m\"\u001b[39m, \u001b[33m\"\u001b[39m\u001b[33mstatic\u001b[39m\u001b[33m\"\u001b[39m: static, \u001b[33m\"\u001b[39m\u001b[33mhash-code\u001b[39m\u001b[33m\"\u001b[39m: \u001b[38;5;28mself\u001b[39m._hash_code,\n\u001b[32m    776\u001b[39m            \u001b[33m\"\u001b[39m\u001b[33mjava_class_name\u001b[39m\u001b[33m\"\u001b[39m: \u001b[38;5;28mself\u001b[39m._java_class, \u001b[33m\"\u001b[39m\u001b[33mname\u001b[39m\u001b[33m\"\u001b[39m: valid_method_spec[\u001b[33m\"\u001b[39m\u001b[33mname\u001b[39m\u001b[33m\"\u001b[39m],\n\u001b[32m    777\u001b[39m            \u001b[33m\"\u001b[39m\u001b[33margument-types\u001b[39m\u001b[33m\"\u001b[39m: valid_method_spec[\u001b[33m\"\u001b[39m\u001b[33marguments\u001b[39m\u001b[33m\"\u001b[39m],\n\u001b[32m    778\u001b[39m            \u001b[33m\"\u001b[39m\u001b[33margument-deserialization-types\u001b[39m\u001b[33m\"\u001b[39m: deserialize_types,\n\u001b[32m    779\u001b[39m            \u001b[33m\"\u001b[39m\u001b[33marguments\u001b[39m\u001b[33m\"\u001b[39m: _package_arguments(valid_method_spec, fn_args)}\n",
      "\u001b[36mFile \u001b[39m\u001b[32mc:\\Users\\lociuser\\Codes\\smartpath\\smart-wsi-scanner\\.venv\\Lib\\site-packages\\pyjavaz\\bridge.py:945\u001b[39m, in \u001b[36m_check_method_args\u001b[39m\u001b[34m(method_specs, fn_args)\u001b[39m\n\u001b[32m    942\u001b[39m         \u001b[38;5;28;01mbreak\u001b[39;00m\n\u001b[32m    944\u001b[39m \u001b[38;5;28;01mif\u001b[39;00m valid_method_spec \u001b[38;5;129;01mis\u001b[39;00m \u001b[38;5;28;01mNone\u001b[39;00m:\n\u001b[32m--> \u001b[39m\u001b[32m945\u001b[39m     \u001b[38;5;28;01mraise\u001b[39;00m \u001b[38;5;167;01mException\u001b[39;00m(\n\u001b[32m    946\u001b[39m         \u001b[33m\"\u001b[39m\u001b[33mIncorrect arguments. \u001b[39m\u001b[38;5;130;01m\\n\u001b[39;00m\u001b[33mExpected \u001b[39m\u001b[38;5;132;01m{}\u001b[39;00m\u001b[33m \u001b[39m\u001b[38;5;130;01m\\n\u001b[39;00m\u001b[33mGot \u001b[39m\u001b[38;5;132;01m{}\u001b[39;00m\u001b[33m\"\u001b[39m.format(\n\u001b[32m    947\u001b[39m             \u001b[33m\"\u001b[39m\u001b[33m or \u001b[39m\u001b[33m\"\u001b[39m.join(\n\u001b[32m    948\u001b[39m                 [\n\u001b[32m    949\u001b[39m                     \u001b[33m\"\u001b[39m\u001b[33m, \u001b[39m\u001b[33m\"\u001b[39m.join(method_spec[\u001b[33m\"\u001b[39m\u001b[33marguments\u001b[39m\u001b[33m\"\u001b[39m])\n\u001b[32m    950\u001b[39m                     \u001b[38;5;28;01mfor\u001b[39;00m method_spec \u001b[38;5;129;01min\u001b[39;00m method_specs\n\u001b[32m    951\u001b[39m                 ]\n\u001b[32m    952\u001b[39m             ),\n\u001b[32m    953\u001b[39m             \u001b[33m\"\u001b[39m\u001b[33m, \u001b[39m\u001b[33m\"\u001b[39m.join([\u001b[38;5;28mstr\u001b[39m(\u001b[38;5;28mtype\u001b[39m(a)) \u001b[38;5;28;01mfor\u001b[39;00m a \u001b[38;5;129;01min\u001b[39;00m fn_args]),\n\u001b[32m    954\u001b[39m         )\n\u001b[32m    955\u001b[39m     )\n\u001b[32m    957\u001b[39m \u001b[38;5;66;03m# subclass NDArrays to the appropriate data type so they dont get incorrectly reconstructed as objects\u001b[39;00m\n\u001b[32m    958\u001b[39m valid_method_spec = copy.deepcopy(valid_method_spec)\n",
      "\u001b[31mException\u001b[39m: Incorrect arguments. \nExpected java.lang.String, java.lang.String \nGot "
     ]
    }
   ],
   "source": [
    "core.get_allowed_property_values()"
   ]
  },
  {
   "cell_type": "code",
   "execution_count": 17,
   "id": "2d7ac7dc",
   "metadata": {},
   "outputs": [
    {
     "data": {
      "text/plain": [
       "0.24266200000000002"
      ]
     },
     "execution_count": 17,
     "metadata": {},
     "output_type": "execute_result"
    }
   ],
   "source": [
    "(100000000.0000+ 142662000.0000)*1E-9"
   ]
  },
  {
   "cell_type": "code",
   "execution_count": 18,
   "id": "fad1a823",
   "metadata": {},
   "outputs": [
    {
     "data": {
      "text/plain": [
       "4.132231404958678"
      ]
     },
     "execution_count": 18,
     "metadata": {},
     "output_type": "execute_result"
    }
   ],
   "source": [
    "1/0.242"
   ]
  },
  {
   "cell_type": "code",
   "execution_count": null,
   "id": "9defdfd6",
   "metadata": {},
   "outputs": [],
   "source": []
  }
 ],
 "metadata": {
  "kernelspec": {
   "display_name": "smart-wsi-scanner2",
   "language": "python",
   "name": "python3"
  },
  "language_info": {
   "codemirror_mode": {
    "name": "ipython",
    "version": 3
   },
   "file_extension": ".py",
   "mimetype": "text/x-python",
   "name": "python",
   "nbconvert_exporter": "python",
   "pygments_lexer": "ipython3",
   "version": "3.12.10"
  }
 },
 "nbformat": 4,
 "nbformat_minor": 5
}
