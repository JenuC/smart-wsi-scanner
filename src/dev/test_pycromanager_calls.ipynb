{
 "cells": [
  {
   "cell_type": "code",
   "execution_count": 2,
   "id": "05c5ee84",
   "metadata": {},
   "outputs": [
    {
     "name": "stdout",
     "output_type": "stream",
     "text": [
      "Microscope(name='PPM', type='UprightBrightfield', camera='LOCI_CAMERA_002')\n"
     ]
    }
   ],
   "source": [
    "import smart_wsi_scanner as sws\n",
    "import numpy as np\n",
    "%matplotlib inline\n",
    "import matplotlib.pyplot as plt\n",
    "config = sws.ConfigManager()\n",
    "ppm_settings = config.get_config('config_PPM')\n",
    "core,studio = sws.init_pycromanager()\n",
    "microscope_hardware = sws.PycromanagerHardware(core,studio,ppm_settings)"
   ]
  },
  {
   "cell_type": "code",
   "execution_count": 6,
   "id": "3ec73c3f",
   "metadata": {},
   "outputs": [],
   "source": [
    "\n",
    "def obj_2_list(name):\n",
    "    return [name.get(i) for i in range(name.size())]"
   ]
  },
  {
   "cell_type": "code",
   "execution_count": 11,
   "id": "41d1fff9",
   "metadata": {},
   "outputs": [],
   "source": [
    "acq = studio.get_acquisition_manager()"
   ]
  },
  {
   "cell_type": "code",
   "execution_count": 4,
   "id": "abfb1067",
   "metadata": {},
   "outputs": [
    {
     "data": {
      "text/plain": [
       "False"
      ]
     },
     "execution_count": 4,
     "metadata": {},
     "output_type": "execute_result"
    }
   ],
   "source": [
    "acq.is_acquisition_running()"
   ]
  },
  {
   "cell_type": "code",
   "execution_count": 19,
   "id": "0bcf169c",
   "metadata": {},
   "outputs": [
    {
     "data": {
      "text/plain": [
       "[]"
      ]
     },
     "execution_count": 19,
     "metadata": {},
     "output_type": "execute_result"
    }
   ],
   "source": [
    "acq_engine = acq.generate_summary_metadata()\n",
    "obj_2_list(acq_engine.get_stage_position_list())"
   ]
  },
  {
   "cell_type": "code",
   "execution_count": null,
   "id": "86045636",
   "metadata": {},
   "outputs": [
    {
     "data": {
      "text/plain": [
       "<pyjavaz.bridge.org_micromanager_acquisition_SequenceSettings at 0x29cd10375c0>"
      ]
     },
     "execution_count": 12,
     "metadata": {},
     "output_type": "execute_result"
    }
   ],
   "source": [
    "acq_settings = acq.get_acquisition_settings()\n",
    "acq_settings"
   ]
  },
  {
   "cell_type": "code",
   "execution_count": 20,
   "id": "f1c82c4c",
   "metadata": {},
   "outputs": [],
   "source": [
    "pos_manager = studio.get_position_list_manager()"
   ]
  },
  {
   "cell_type": "code",
   "execution_count": 23,
   "id": "467b715d",
   "metadata": {},
   "outputs": [],
   "source": [
    "pos_list = pos_manager.get_position_list()"
   ]
  },
  {
   "cell_type": "code",
   "execution_count": 30,
   "id": "8933e926",
   "metadata": {},
   "outputs": [
    {
     "data": {
      "text/plain": [
       "<pyjavaz.bridge.[Lorg_micromanager_MultiStagePosition; at 0x29cd1041a00>"
      ]
     },
     "execution_count": 30,
     "metadata": {},
     "output_type": "execute_result"
    }
   ],
   "source": [
    "poss =pos_list.get_positions()\n",
    "poss"
   ]
  },
  {
   "cell_type": "code",
   "execution_count": null,
   "id": "94235a70",
   "metadata": {},
   "outputs": [
    {
     "data": {
      "text/plain": [
       "9"
      ]
     },
     "execution_count": 31,
     "metadata": {},
     "output_type": "execute_result"
    }
   ],
   "source": []
  },
  {
   "cell_type": "code",
   "execution_count": 44,
   "id": "0f935df9",
   "metadata": {},
   "outputs": [
    {
     "name": "stdout",
     "output_type": "stream",
     "text": [
      "7733.4544000000005 2063.8599999999997 0\n"
     ]
    }
   ],
   "source": [
    "for k1 in range(pos_list.get_number_of_positions()):\n",
    "    p1 = pos_list.get_position(k1)\n",
    "    for k in obj_2_list(p1):\n",
    "        print(k.x, k.y,k.z)\n",
    "        break\n",
    "    break"
   ]
  },
  {
   "cell_type": "code",
   "execution_count": 46,
   "id": "0e4a073a",
   "metadata": {},
   "outputs": [
    {
     "data": {
      "text/plain": [
       "(7733.4544000000005, 2063.8599999999997)"
      ]
     },
     "execution_count": 46,
     "metadata": {},
     "output_type": "execute_result"
    }
   ],
   "source": [
    "k.get2_d_position_x(), k.get2_d_position_y()"
   ]
  },
  {
   "cell_type": "code",
   "execution_count": 47,
   "id": "2bea4323",
   "metadata": {},
   "outputs": [
    {
     "data": {
      "text/plain": [
       "7733.4544000000005"
      ]
     },
     "execution_count": 47,
     "metadata": {},
     "output_type": "execute_result"
    }
   ],
   "source": [
    "k.get1_d_position()"
   ]
  },
  {
   "cell_type": "code",
   "execution_count": 48,
   "id": "f0b1dd6b",
   "metadata": {},
   "outputs": [
    {
     "data": {
      "text/plain": [
       "2"
      ]
     },
     "execution_count": 48,
     "metadata": {},
     "output_type": "execute_result"
    }
   ],
   "source": [
    "k.get_number_of_stage_axes()"
   ]
  },
  {
   "cell_type": "code",
   "execution_count": 50,
   "id": "c707b95f",
   "metadata": {},
   "outputs": [
    {
     "data": {
      "text/plain": [
       "'XYStage(7,733.4544,2,063.86)'"
      ]
     },
     "execution_count": 50,
     "metadata": {},
     "output_type": "execute_result"
    }
   ],
   "source": [
    "k.to_string()"
   ]
  },
  {
   "cell_type": "code",
   "execution_count": 54,
   "id": "b5beafe3",
   "metadata": {},
   "outputs": [],
   "source": [
    "import re\n",
    "\n",
    "def parse_stage_string(stage_string):\n",
    "    \"\"\"Parse stage string to extract name, X and Y positions.\"\"\"\n",
    "    match = re.match(r'(\\w+)\\(([\\d,]+\\.?\\d*),([\\d,]+\\.?\\d*)\\)', stage_string)\n",
    "    if match:\n",
    "        stage_name = match.group(1)\n",
    "        x = float(match.group(2).replace(',', ''))\n",
    "        y = float(match.group(3).replace(',', ''))\n",
    "        return stage_name, x, y\n",
    "    else:\n",
    "        return(stage_string)\n",
    "    return None, None, None"
   ]
  },
  {
   "cell_type": "code",
   "execution_count": null,
   "id": "80b74495",
   "metadata": {},
   "outputs": [
    {
     "name": "stdout",
     "output_type": "stream",
     "text": [
      "('XYStage', 7733.4544, 2063.86)\n",
      "ZStage(-71)\n",
      "KBD101_Thor_Rotation(0)\n",
      "('XYStage', 89532.0, 63.86)\n",
      "ZStage(-71)\n",
      "KBD101_Thor_Rotation(0)\n",
      "('XYStage', 10172.5456, 2063.86)\n",
      "ZStage(-71)\n",
      "KBD101_Thor_Rotation(0)\n",
      "('XYStage', 10172.5456, 3062.0)\n",
      "ZStage(-71)\n",
      "KBD101_Thor_Rotation(0)\n",
      "('XYStage', 89533.0, 62.0)\n",
      "ZStage(-71)\n",
      "KBD101_Thor_Rotation(0)\n",
      "('XYStage', 7733.4544, 3062.0)\n",
      "ZStage(-71)\n",
      "KBD101_Thor_Rotation(0)\n",
      "('XYStage', 7733.4544, 4060.14)\n",
      "ZStage(-71)\n",
      "KBD101_Thor_Rotation(0)\n",
      "('XYStage', 89534.0, 60.14)\n",
      "ZStage(-71)\n",
      "KBD101_Thor_Rotation(0)\n",
      "('XYStage', 10172.5456, 4060.14)\n",
      "ZStage(-71)\n",
      "KBD101_Thor_Rotation(0)\n"
     ]
    }
   ],
   "source": [
    "for k1 in range(pos_list.get_number_of_positions()):\n",
    "    p1 = pos_list.get_position(k1)\n",
    "    for k in obj_2_list(p1):\n",
    "        print(parse_stage_string(k.to_string()))\n",
    "    "
   ]
  },
  {
   "cell_type": "code",
   "execution_count": null,
   "id": "fcae77a5",
   "metadata": {},
   "outputs": [],
   "source": [
    "\n",
    "def parse_stage_string(stage_string):\n",
    "    \"\"\"Parse stage string to extract name and parameters.\"\"\"\n",
    "    match = re.match(r'(\\w+)\\(([-\\d,\\.]+(?:,[-\\d,\\.]+)*)\\)', stage_string)\n",
    "    if match:\n",
    "        stage_name = match.group(1)\n",
    "        params_str = match.group(2)\n",
    "        \n",
    "        # Split parameters and convert to floats\n",
    "        params = []\n",
    "        for param in params_str.split(','):\n",
    "            params.append(float(param.replace(',', '')))\n",
    "        \n",
    "        return stage_name, params\n",
    "    return None, []\n",
    "\n",
    "def parse_multiple_stages(stages_string):\n",
    "    \"\"\"Parse multiple stage strings separated by spaces.\"\"\"\n",
    "    results = []\n",
    "    for stage in stages_string.split():\n",
    "        name, params = parse_stage_string(stage)\n",
    "        if name:\n",
    "            results.append((name, params))\n",
    "    return results"
   ]
  },
  {
   "cell_type": "code",
   "execution_count": null,
   "id": "f9f926c8",
   "metadata": {},
   "outputs": [],
   "source": []
  }
 ],
 "metadata": {
  "kernelspec": {
   "display_name": "smart-wsi-scanner2",
   "language": "python",
   "name": "python3"
  },
  "language_info": {
   "codemirror_mode": {
    "name": "ipython",
    "version": 3
   },
   "file_extension": ".py",
   "mimetype": "text/x-python",
   "name": "python",
   "nbconvert_exporter": "python",
   "pygments_lexer": "ipython3",
   "version": "3.12.10"
  }
 },
 "nbformat": 4,
 "nbformat_minor": 5
}
