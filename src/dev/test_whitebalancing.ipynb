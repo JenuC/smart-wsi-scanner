{
 "cells": [
  {
   "cell_type": "code",
   "execution_count": 1,
   "id": "3d9a3796",
   "metadata": {},
   "outputs": [],
   "source": [
    "import imageio"
   ]
  },
  {
   "cell_type": "code",
   "execution_count": 2,
   "id": "71aa443f",
   "metadata": {},
   "outputs": [],
   "source": [
    "import glob"
   ]
  },
  {
   "cell_type": "code",
   "execution_count": 8,
   "id": "7e4a5f16",
   "metadata": {},
   "outputs": [],
   "source": [
    "from matplotlib.pyplot import *\n",
    "import tifffile as tf"
   ]
  },
  {
   "cell_type": "code",
   "execution_count": 4,
   "id": "8dcc4df6",
   "metadata": {},
   "outputs": [
    {
     "ename": "NameError",
     "evalue": "name 'data' is not defined",
     "output_type": "error",
     "traceback": [
      "\u001b[1;31m---------------------------------------------------------------------------\u001b[0m",
      "\u001b[1;31mNameError\u001b[0m                                 Traceback (most recent call last)",
      "\u001b[1;32m~\\AppData\\Local\\Temp/ipykernel_89316/3993293784.py\u001b[0m in \u001b[0;36m<module>\u001b[1;34m\u001b[0m\n\u001b[1;32m----> 1\u001b[1;33m \u001b[0mdata\u001b[0m\u001b[1;33m.\u001b[0m\u001b[0mshape\u001b[0m\u001b[1;33m\u001b[0m\u001b[1;33m\u001b[0m\u001b[0m\n\u001b[0m",
      "\u001b[1;31mNameError\u001b[0m: name 'data' is not defined"
     ]
    }
   ],
   "source": [
    "data.shape"
   ]
  },
  {
   "cell_type": "code",
   "execution_count": 6,
   "id": "5c9f5c3a",
   "metadata": {},
   "outputs": [],
   "source": [
    "import scipy.stats as stats"
   ]
  },
  {
   "cell_type": "code",
   "execution_count": 15,
   "id": "56d9e2b0",
   "metadata": {
    "scrolled": false
   },
   "outputs": [
    {
     "name": "stdout",
     "output_type": "stream",
     "text": [
      "ModeResult(mode=array([164], dtype=uint8), count=array([104332]))\n",
      "ModeResult(mode=array([167], dtype=uint8), count=array([105741]))\n",
      "ModeResult(mode=array([187], dtype=uint8), count=array([114381]))\n",
      "ModeResult(mode=array([198], dtype=uint8), count=array([273811]))\n",
      "ModeResult(mode=array([167], dtype=uint8), count=array([99633]))\n",
      "ModeResult(mode=array([173], dtype=uint8), count=array([104450]))\n",
      "ModeResult(mode=array([175], dtype=uint8), count=array([102880]))\n",
      "ModeResult(mode=array([195], dtype=uint8), count=array([235801]))\n",
      "ModeResult(mode=array([173], dtype=uint8), count=array([99338]))\n",
      "ModeResult(mode=array([184], dtype=uint8), count=array([99369]))\n",
      "ModeResult(mode=array([181], dtype=uint8), count=array([104081]))\n",
      "ModeResult(mode=array([195], dtype=uint8), count=array([203838]))\n",
      "ModeResult(mode=array([189], dtype=uint8), count=array([99858]))\n",
      "ModeResult(mode=array([182], dtype=uint8), count=array([99214]))\n",
      "ModeResult(mode=array([182], dtype=uint8), count=array([118044]))\n",
      "ModeResult(mode=array([196], dtype=uint8), count=array([296835]))\n"
     ]
    },
    {
     "data": {
      "image/png": "[encoded data removed]",
      "text/plain": [
       "<Figure size 432x288 with 1 Axes>"
      ]
     },
     "metadata": {
      "needs_background": "light"
     },
     "output_type": "display_data"
    }
   ],
   "source": [
    "arr = []\n",
    "for k in glob.glob(r'D:\\2025QPSC\\data\\to_del\\_2\\*.tif'):\n",
    "    data = imread(k)\n",
    "#    figure()\n",
    "    #imshow(data)\n",
    "    hist(data.ravel(),bins=256)\n",
    "    print(stats.mode(data.ravel()))\n",
    "    "
   ]
  },
  {
   "cell_type": "code",
   "execution_count": 18,
   "id": "5b70a9b8",
   "metadata": {},
   "outputs": [
    {
     "name": "stdout",
     "output_type": "stream",
     "text": [
      "0 ModeResult(mode=array([178], dtype=uint8), count=array([44001])) [169.54610652 117.57418251 168.30478164]\n",
      "1 ModeResult(mode=array([117], dtype=uint8), count=array([52029])) [169.54610652 117.57418251 168.30478164]\n",
      "2 ModeResult(mode=array([168], dtype=uint8), count=array([55296])) [169.54610652 117.57418251 168.30478164]\n",
      "\n",
      "0 ModeResult(mode=array([176], dtype=uint8), count=array([44550])) [171.55723456 115.5746943  168.11056145]\n",
      "1 ModeResult(mode=array([112], dtype=uint8), count=array([51908])) [171.55723456 115.5746943  168.11056145]\n",
      "2 ModeResult(mode=array([168], dtype=uint8), count=array([57004])) [171.55723456 115.5746943  168.11056145]\n",
      "\n",
      "0 ModeResult(mode=array([187], dtype=uint8), count=array([61605])) [182.60278912 119.75885869 169.40976887]\n",
      "1 ModeResult(mode=array([112], dtype=uint8), count=array([51965])) [182.60278912 119.75885869 169.40976887]\n",
      "2 ModeResult(mode=array([164], dtype=uint8), count=array([52259])) [182.60278912 119.75885869 169.40976887]\n",
      "\n",
      "0 ModeResult(mode=array([200], dtype=uint8), count=array([182081])) [199.56511358 158.7906892  194.90069022]\n",
      "1 ModeResult(mode=array([156], dtype=uint8), count=array([163625])) [199.56511358 158.7906892  194.90069022]\n",
      "2 ModeResult(mode=array([190], dtype=uint8), count=array([158518])) [199.56511358 158.7906892  194.90069022]\n",
      "\n",
      "0 ModeResult(mode=array([255], dtype=uint8), count=array([41771])) [175.79470763 114.8372774  166.00601227]\n",
      "1 ModeResult(mode=array([111], dtype=uint8), count=array([52252])) [175.79470763 114.8372774  166.00601227]\n",
      "2 ModeResult(mode=array([165], dtype=uint8), count=array([55972])) [175.79470763 114.8372774  166.00601227]\n",
      "\n",
      "0 ModeResult(mode=array([255], dtype=uint8), count=array([49430])) [177.97680287 114.75340842 172.55912359]\n",
      "1 ModeResult(mode=array([109], dtype=uint8), count=array([57045])) [177.97680287 114.75340842 172.55912359]\n",
      "2 ModeResult(mode=array([171], dtype=uint8), count=array([58399])) [177.97680287 114.75340842 172.55912359]\n",
      "\n",
      "0 ModeResult(mode=array([255], dtype=uint8), count=array([57353])) [186.44067339 117.53182958 173.06794525]\n",
      "1 ModeResult(mode=array([111], dtype=uint8), count=array([62463])) [186.44067339 117.53182958 173.06794525]\n",
      "2 ModeResult(mode=array([171], dtype=uint8), count=array([62153])) [186.44067339 117.53182958 173.06794525]\n",
      "\n",
      "0 ModeResult(mode=array([200], dtype=uint8), count=array([125751])) [197.53699335 152.01333745 191.30702588]\n",
      "1 ModeResult(mode=array([158], dtype=uint8), count=array([109958])) [197.53699335 152.01333745 191.30702588]\n",
      "2 ModeResult(mode=array([192], dtype=uint8), count=array([131879])) [197.53699335 152.01333745 191.30702588]\n",
      "\n",
      "0 ModeResult(mode=array([255], dtype=uint8), count=array([52349])) [176.47253654 113.76689241 170.11336268]\n",
      "1 ModeResult(mode=array([114], dtype=uint8), count=array([51765])) [176.47253654 113.76689241 170.11336268]\n",
      "2 ModeResult(mode=array([170], dtype=uint8), count=array([55302])) [176.47253654 113.76689241 170.11336268]\n",
      "\n",
      "0 ModeResult(mode=array([255], dtype=uint8), count=array([71228])) [180.35752394 116.26757365 177.65875093]\n",
      "1 ModeResult(mode=array([111], dtype=uint8), count=array([50244])) [180.35752394 116.26757365 177.65875093]\n",
      "2 ModeResult(mode=array([185], dtype=uint8), count=array([57066])) [180.35752394 116.26757365 177.65875093]\n",
      "\n",
      "0 ModeResult(mode=array([255], dtype=uint8), count=array([53276])) [182.47191397 118.28340733 178.13871588]\n",
      "1 ModeResult(mode=array([112], dtype=uint8), count=array([50632])) [182.47191397 118.28340733 178.13871588]\n",
      "2 ModeResult(mode=array([181], dtype=uint8), count=array([56966])) [182.47191397 118.28340733 178.13871588]\n",
      "\n",
      "0 ModeResult(mode=array([196], dtype=uint8), count=array([116305])) [191.46941712 143.62979821 186.87924311]\n",
      "1 ModeResult(mode=array([159], dtype=uint8), count=array([101186])) [191.46941712 143.62979821 186.87924311]\n",
      "2 ModeResult(mode=array([190], dtype=uint8), count=array([106207])) [191.46941712 143.62979821 186.87924311]\n",
      "\n",
      "0 ModeResult(mode=array([255], dtype=uint8), count=array([55807])) [180.15113894 118.86326195 177.40609718]\n",
      "1 ModeResult(mode=array([111], dtype=uint8), count=array([48809])) [180.15113894 118.86326195 177.40609718]\n",
      "2 ModeResult(mode=array([185], dtype=uint8), count=array([58541])) [180.15113894 118.86326195 177.40609718]\n",
      "\n",
      "0 ModeResult(mode=array([255], dtype=uint8), count=array([50693])) [177.86975558 116.79057749 174.90558162]\n",
      "1 ModeResult(mode=array([114], dtype=uint8), count=array([52551])) [177.86975558 116.79057749 174.90558162]\n",
      "2 ModeResult(mode=array([179], dtype=uint8), count=array([55221])) [177.86975558 116.79057749 174.90558162]\n",
      "\n",
      "0 ModeResult(mode=array([195], dtype=uint8), count=array([59476])) [180.55593765 129.04847566 176.43559842]\n",
      "1 ModeResult(mode=array([128], dtype=uint8), count=array([51661])) [180.55593765 129.04847566 176.43559842]\n",
      "2 ModeResult(mode=array([182], dtype=uint8), count=array([66081])) [180.55593765 129.04847566 176.43559842]\n",
      "\n",
      "0 ModeResult(mode=array([198], dtype=uint8), count=array([185762])) [197.02521043 160.54380642 195.28438165]\n",
      "1 ModeResult(mode=array([159], dtype=uint8), count=array([156041])) [197.02521043 160.54380642 195.28438165]\n",
      "2 ModeResult(mode=array([192], dtype=uint8), count=array([142624])) [197.02521043 160.54380642 195.28438165]\n",
      "\n"
     ]
    },
    {
     "data": {
      "image/png": "[encoded data removed]",
      "text/plain": [
       "<Figure size 720x216 with 3 Axes>"
      ]
     },
     "metadata": {
      "needs_background": "light"
     },
     "output_type": "display_data"
    }
   ],
   "source": [
    "arr = []\n",
    "figure(figsize=[10,3])\n",
    "ax1 = subplot(131)\n",
    "ax2 = subplot(132)\n",
    "ax3 = subplot(133)\n",
    "ax={0:ax1, 1:ax2, 2:ax3}\n",
    "for k in glob.glob(r'D:\\2025QPSC\\data\\to_del\\_2\\*.tif'):\n",
    "    data = imread(k)\n",
    "    \n",
    "    for ch in range(3):\n",
    "        print(ch, stats.mode(data[:,:,ch].ravel()),np.mean(data,(0,1)))\n",
    "        arr.append(data.ravel())\n",
    "        ax[ch].hist(data[:,:,ch].ravel(),bins=256)\n",
    "    print()"
   ]
  },
  {
   "cell_type": "code",
   "execution_count": 25,
   "id": "d52df28b",
   "metadata": {},
   "outputs": [],
   "source": []
  },
  {
   "cell_type": "code",
   "execution_count": 12,
   "id": "0c02ff5e",
   "metadata": {},
   "outputs": [
    {
     "name": "stdout",
     "output_type": "stream",
     "text": [
      "-5.0\\0.tif ModeResult(mode=array([101], dtype=uint8), count=array([173769]))\n",
      "-5.0\\1.tif ModeResult(mode=array([100], dtype=uint8), count=array([171791]))\n",
      "-5.0\\2.tif ModeResult(mode=array([109], dtype=uint8), count=array([161624]))\n",
      "-5.0\\3.tif ModeResult(mode=array([121], dtype=uint8), count=array([158688]))\n",
      "-5.0\\4.tif ModeResult(mode=array([120], dtype=uint8), count=array([152868]))\n",
      "-5.0\\5.tif ModeResult(mode=array([106], dtype=uint8), count=array([171624]))\n",
      "-5.0\\6.tif ModeResult(mode=array([117], dtype=uint8), count=array([189444]))\n",
      "-5.0\\7.tif ModeResult(mode=array([130], dtype=uint8), count=array([137965]))\n",
      "-5.0\\8.tif ModeResult(mode=array([118], dtype=uint8), count=array([163135]))\n"
     ]
    },
    {
     "data": {
      "image/png": "[encoded data removed]",
      "text/plain": [
       "<Figure size 432x288 with 1 Axes>"
      ]
     },
     "metadata": {
      "needs_background": "light"
     },
     "output_type": "display_data"
    }
   ],
   "source": [
    "arr = []\n",
    "for k in glob.glob(r'D:\\2025QPSC\\data\\test1892\\ppm_10x_2\\Raw\\bounds\\-5.0\\*.tif'):\n",
    "    #print(k)\n",
    "    data = tf.imread(k)\n",
    "    hist(data.ravel(),bins=256)\n",
    "    print(k[-10:],stats.mode(data.ravel()))\n",
    "    arr.append(data)\n",
    "yscale('log')"
   ]
  },
  {
   "cell_type": "code",
   "execution_count": null,
   "id": "7c5ff9af",
   "metadata": {},
   "outputs": [],
   "source": []
  },
  {
   "cell_type": "code",
   "execution_count": 9,
   "id": "e6ca1239",
   "metadata": {},
   "outputs": [
    {
     "name": "stdout",
     "output_type": "stream",
     "text": [
      "D:\\2025QPSC\\data\\test1892\\ppm_10x_2\\Raw\\bounds\\-5.0\\0.tif (1544, 2064, 3)\n",
      "0 ModeResult(mode=array([105], dtype=uint8), count=array([73921])) [100.85912648  71.26655665 104.11481805]\n",
      "1 ModeResult(mode=array([70], dtype=uint8), count=array([91539])) [100.85912648  71.26655665 104.11481805]\n",
      "2 ModeResult(mode=array([103], dtype=uint8), count=array([89856])) [100.85912648  71.26655665 104.11481805]\n",
      "\n",
      "D:\\2025QPSC\\data\\test1892\\ppm_10x_2\\Raw\\bounds\\-5.0\\1.tif (1544, 2064, 3)\n",
      "0 ModeResult(mode=array([105], dtype=uint8), count=array([71457])) [101.85316378  67.96494275 100.84067389]\n",
      "1 ModeResult(mode=array([66], dtype=uint8), count=array([94936])) [101.85316378  67.96494275 100.84067389]\n",
      "2 ModeResult(mode=array([100], dtype=uint8), count=array([92872])) [101.85316378  67.96494275 100.84067389]\n",
      "\n",
      "D:\\2025QPSC\\data\\test1892\\ppm_10x_2\\Raw\\bounds\\-5.0\\2.tif (1544, 2064, 3)\n",
      "0 ModeResult(mode=array([112], dtype=uint8), count=array([72138])) [109.35407724  71.87278933 108.51342092]\n",
      "1 ModeResult(mode=array([71], dtype=uint8), count=array([86028])) [109.35407724  71.87278933 108.51342092]\n",
      "2 ModeResult(mode=array([109], dtype=uint8), count=array([86571])) [109.35407724  71.87278933 108.51342092]\n",
      "\n",
      "D:\\2025QPSC\\data\\test1892\\ppm_10x_2\\Raw\\bounds\\-5.0\\3.tif (1544, 2064, 3)\n",
      "0 ModeResult(mode=array([124], dtype=uint8), count=array([75242])) [115.28139748  75.63893397 115.7850265 ]\n",
      "1 ModeResult(mode=array([72], dtype=uint8), count=array([79809])) [115.28139748  75.63893397 115.7850265 ]\n",
      "2 ModeResult(mode=array([120], dtype=uint8), count=array([89832])) [115.28139748  75.63893397 115.7850265 ]\n",
      "\n",
      "D:\\2025QPSC\\data\\test1892\\ppm_10x_2\\Raw\\bounds\\-5.0\\4.tif (1544, 2064, 3)\n",
      "0 ModeResult(mode=array([127], dtype=uint8), count=array([64210])) [123.20288307  80.49346181 119.38489954]\n",
      "1 ModeResult(mode=array([78], dtype=uint8), count=array([82497])) [123.20288307  80.49346181 119.38489954]\n",
      "2 ModeResult(mode=array([120], dtype=uint8), count=array([84624])) [123.20288307  80.49346181 119.38489954]\n",
      "\n",
      "D:\\2025QPSC\\data\\test1892\\ppm_10x_2\\Raw\\bounds\\-5.0\\5.tif (1544, 2064, 3)\n",
      "0 ModeResult(mode=array([108], dtype=uint8), count=array([72780])) [106.67820106  72.9940621  107.50724391]\n",
      "1 ModeResult(mode=array([70], dtype=uint8), count=array([86105])) [106.67820106  72.9940621  107.50724391]\n",
      "2 ModeResult(mode=array([106], dtype=uint8), count=array([89783])) [106.67820106  72.9940621  107.50724391]\n",
      "\n",
      "D:\\2025QPSC\\data\\test1892\\ppm_10x_2\\Raw\\bounds\\-5.0\\6.tif (1544, 2064, 3)\n",
      "0 ModeResult(mode=array([111], dtype=uint8), count=array([103013])) [110.03443845  73.32259534 105.47137707]\n",
      "1 ModeResult(mode=array([68], dtype=uint8), count=array([88314])) [110.03443845  73.32259534 105.47137707]\n",
      "2 ModeResult(mode=array([117], dtype=uint8), count=array([93501])) [110.03443845  73.32259534 105.47137707]\n",
      "\n",
      "D:\\2025QPSC\\data\\test1892\\ppm_10x_2\\Raw\\bounds\\-5.0\\7.tif (1544, 2064, 3)\n",
      "0 ModeResult(mode=array([142], dtype=uint8), count=array([65596])) [138.21816289  88.54672909 126.91028381]\n",
      "1 ModeResult(mode=array([86], dtype=uint8), count=array([81811])) [138.21816289  88.54672909 126.91028381]\n",
      "2 ModeResult(mode=array([126], dtype=uint8), count=array([83208])) [138.21816289  88.54672909 126.91028381]\n",
      "\n",
      "D:\\2025QPSC\\data\\test1892\\ppm_10x_2\\Raw\\bounds\\-5.0\\8.tif (1544, 2064, 3)\n",
      "0 ModeResult(mode=array([121], dtype=uint8), count=array([71989])) [117.12853707  77.23393412 116.80876524]\n",
      "1 ModeResult(mode=array([73], dtype=uint8), count=array([79682])) [117.12853707  77.23393412 116.80876524]\n",
      "2 ModeResult(mode=array([118], dtype=uint8), count=array([87468])) [117.12853707  77.23393412 116.80876524]\n",
      "\n"
     ]
    },
    {
     "data": {
      "image/png": "[encoded data removed]",
      "text/plain": [
       "<Figure size 720x216 with 3 Axes>"
      ]
     },
     "metadata": {
      "needs_background": "light"
     },
     "output_type": "display_data"
    }
   ],
   "source": [
    "arr = []\n",
    "figure(figsize=[10,3])\n",
    "ax1 = subplot(131)\n",
    "ax2 = subplot(132)\n",
    "ax3 = subplot(133)\n",
    "ax={0:ax1, 1:ax2, 2:ax3}\n",
    "for k in glob.glob(r'D:\\2025QPSC\\data\\test1892\\ppm_10x_2\\Raw\\bounds\\-5.0\\*.tif'):\n",
    "    data = tf.imread(k)\n",
    "    print(k,data.shape)\n",
    "    for ch in range(3):\n",
    "        print(ch, stats.mode(data[:,:,ch].ravel()),np.mean(data,(0,1)))\n",
    "        arr.append(data)\n",
    "        ax[ch].hist(data[:,:,ch].ravel(),bins=256)\n",
    "    print()"
   ]
  },
  {
   "cell_type": "code",
   "execution_count": 13,
   "id": "ada274d7",
   "metadata": {},
   "outputs": [
    {
     "ename": "AttributeError",
     "evalue": "'list' object has no attribute 'shape'",
     "output_type": "error",
     "traceback": [
      "\u001b[1;31m---------------------------------------------------------------------------\u001b[0m",
      "\u001b[1;31mAttributeError\u001b[0m                            Traceback (most recent call last)",
      "\u001b[1;32m~\\AppData\\Local\\Temp/ipykernel_89316/464376922.py\u001b[0m in \u001b[0;36m<module>\u001b[1;34m\u001b[0m\n\u001b[1;32m----> 1\u001b[1;33m \u001b[0marr\u001b[0m\u001b[1;33m.\u001b[0m\u001b[0mshape\u001b[0m\u001b[1;33m\u001b[0m\u001b[1;33m\u001b[0m\u001b[0m\n\u001b[0m",
      "\u001b[1;31mAttributeError\u001b[0m: 'list' object has no attribute 'shape'"
     ]
    }
   ],
   "source": [
    "arr.shape"
   ]
  },
  {
   "cell_type": "code",
   "execution_count": null,
   "id": "84cf066d",
   "metadata": {},
   "outputs": [],
   "source": []
  }
 ],
 "metadata": {
  "kernelspec": {
   "display_name": "Python 3 (ipykernel)",
   "language": "python",
   "name": "python3"
  },
  "language_info": {
   "codemirror_mode": {
    "name": "ipython",
    "version": 3
   },
   "file_extension": ".py",
   "mimetype": "text/x-python",
   "name": "python",
   "nbconvert_exporter": "python",
   "pygments_lexer": "ipython3",
   "version": "3.8.5"
  }
 },
 "nbformat": 4,
 "nbformat_minor": 5
}
