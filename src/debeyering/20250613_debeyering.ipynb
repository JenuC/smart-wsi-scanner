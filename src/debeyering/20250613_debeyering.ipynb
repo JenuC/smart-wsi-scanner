{
 "cells": [
  {
   "cell_type": "code",
   "execution_count": 1,
   "id": "f298e09b-74cc-4e17-a2cd-286be3d1d33c",
   "metadata": {},
   "outputs": [],
   "source": [
    "import pycromanager as pyc"
   ]
  },
  {
   "cell_type": "code",
   "execution_count": 2,
   "id": "ba3df17a-8dbe-49fa-b3c8-fd28c4f31fdb",
   "metadata": {},
   "outputs": [],
   "source": [
    "from pycromanager import Core,Studio"
   ]
  },
  {
   "cell_type": "code",
   "execution_count": 3,
   "id": "21cf781d-3644-4f4e-ac20-078c2324d644",
   "metadata": {},
   "outputs": [],
   "source": [
    "core = Core()"
   ]
  },
  {
   "cell_type": "code",
   "execution_count": 4,
   "id": "cf4561f6-6442-4df7-9548-65b3250c93aa",
   "metadata": {},
   "outputs": [
    {
     "data": {
      "text/plain": [
       "-146"
      ]
     },
     "execution_count": 4,
     "metadata": {},
     "output_type": "execute_result"
    }
   ],
   "source": [
    "core.get_position()"
   ]
  },
  {
   "cell_type": "code",
   "execution_count": 5,
   "id": "8f28d453-cea5-426b-9255-ba82644a3543",
   "metadata": {},
   "outputs": [
    {
     "data": {
      "text/plain": [
       "95.996"
      ]
     },
     "execution_count": 5,
     "metadata": {},
     "output_type": "execute_result"
    }
   ],
   "source": [
    "brushless = \"KBD101_Thor_Rotation\"\n",
    "core.get_position(brushless)"
   ]
  },
  {
   "cell_type": "code",
   "execution_count": 6,
   "id": "e8126f8c-a145-43c0-950e-47b0e7f44ac7",
   "metadata": {},
   "outputs": [],
   "source": [
    "def ppm_to_thor(angle):\n",
    "    return (-2*angle + 276)\n",
    "\n",
    "def thor_to_ppm(kinesis_pos):\n",
    "    return (276 - kinesis_pos) / 2"
   ]
  },
  {
   "cell_type": "code",
   "execution_count": 7,
   "id": "b97e0bec-e8c9-4ced-a061-abd3041c06df",
   "metadata": {},
   "outputs": [
    {
     "data": {
      "text/plain": [
       "121.5"
      ]
     },
     "execution_count": 7,
     "metadata": {},
     "output_type": "execute_result"
    }
   ],
   "source": [
    "thor_to_ppm(33)"
   ]
  },
  {
   "cell_type": "code",
   "execution_count": 8,
   "id": "0ffc4691-9881-4db6-8d49-848dd77afd60",
   "metadata": {},
   "outputs": [],
   "source": [
    "def set_angle(theta):\n",
    "    theta = ppm_to_thor(theta)\n",
    "    core.set_position(brushless,theta)\n",
    "    core.wait_for_device(brushless)\n",
    "set_angle(0)"
   ]
  },
  {
   "cell_type": "code",
   "execution_count": 9,
   "id": "e254c309-ea74-4acf-ab88-015af59e59f2",
   "metadata": {},
   "outputs": [],
   "source": [
    "from typing import Tuple,Dict,Any\n",
    "import numpy as np\n",
    "def snap_image() -> Tuple[np.ndarray, Dict[str, Any]]:\n",
    "    core.snap_image()\n",
    "    img = core.get_image()\n",
    "    tags = {\n",
    "        \"Width\": core.get_image_width(),\n",
    "        \"Height\": core.get_image_height(),\n",
    "        #\"PixelType\": core.get_pixel_type(),\n",
    "        #\"BytesPerPixel\": core.get_bytes_per_pixel(),\n",
    "        #\"BitDepth\": core.get_bitdepth(),\n",
    "    }\n",
    "    # Handle color cameras\n",
    "    camera = core.get_property('Core','Camera')\n",
    "    if camera in [\"QCamera\", \"MicroPublisher6\"]:\n",
    "        if core.get_property(camera,'Color') == \"ON\":\n",
    "            img = np.reshape(img, (tags[\"Height\"], tags[\"Width\"], 4))\n",
    "            img = img[:, :, 0:3]  # Remove alpha\n",
    "            img = np.flip(img, 2)  # Flip channels\n",
    "        else:\n",
    "            img = np.reshape(img, (tags[\"Height\"], tags[\"Width\"]))\n",
    "    else:\n",
    "        img = np.reshape(img, (tags[\"Height\"], tags[\"Width\"]))\n",
    "    return img, tags\n"
   ]
  },
  {
   "cell_type": "code",
   "execution_count": null,
   "id": "0cd22593-8f9f-4853-8780-90e4cd49d1fc",
   "metadata": {},
   "outputs": [],
   "source": [
    "\n"
   ]
  },
  {
   "cell_type": "code",
   "execution_count": 10,
   "id": "861ced97-c50e-43f9-ab53-20d1dee6cffe",
   "metadata": {},
   "outputs": [
    {
     "ename": "Exception",
     "evalue": "java.lang.Exception: This operation can not be executed while sequence acquisition is running.\nmmcorej.MMCoreJJNI.CMMCore_snapImage(Native Method)\nmmcorej.CMMCore.snapImage(CMMCore.java:976)\nsun.reflect.NativeMethodAccessorImpl.invoke0(Native Method)\nsun.reflect.NativeMethodAccessorImpl.invoke(NativeMethodAccessorImpl.java:62)\nsun.reflect.DelegatingMethodAccessorImpl.invoke(DelegatingMethodAccessorImpl.java:43)\njava.lang.reflect.Method.invoke(Method.java:498)\norg.micromanager.pyjavaz.ZMQServer.runMethod(ZMQServer.java:431)\norg.micromanager.pyjavaz.ZMQServer.parseAndExecuteCommand(ZMQServer.java:511)\norg.micromanager.pyjavaz.ZMQServer.lambda$initialize$2(ZMQServer.java:121)\njava.util.concurrent.Executors$RunnableAdapter.call(Executors.java:511)\njava.util.concurrent.FutureTask.run(FutureTask.java:266)\njava.util.concurrent.ThreadPoolExecutor.runWorker(ThreadPoolExecutor.java:1149)\njava.util.concurrent.ThreadPoolExecutor$Worker.run(ThreadPoolExecutor.java:624)\njava.lang.Thread.run(Thread.java:748)\n",
     "output_type": "error",
     "traceback": [
      "\u001b[31m---------------------------------------------------------------------------\u001b[39m",
      "\u001b[31mException\u001b[39m                                 Traceback (most recent call last)",
      "\u001b[36mCell\u001b[39m\u001b[36m \u001b[39m\u001b[32mIn[10]\u001b[39m\u001b[32m, line 1\u001b[39m\n\u001b[32m----> \u001b[39m\u001b[32m1\u001b[39m img,tags = \u001b[43msnap_image\u001b[49m\u001b[43m(\u001b[49m\u001b[43m)\u001b[49m\n",
      "\u001b[36mCell\u001b[39m\u001b[36m \u001b[39m\u001b[32mIn[9]\u001b[39m\u001b[32m, line 4\u001b[39m, in \u001b[36msnap_image\u001b[39m\u001b[34m()\u001b[39m\n\u001b[32m      3\u001b[39m \u001b[38;5;28;01mdef\u001b[39;00m\u001b[38;5;250m \u001b[39m\u001b[34msnap_image\u001b[39m() -> Tuple[np.ndarray, Dict[\u001b[38;5;28mstr\u001b[39m, Any]]:\n\u001b[32m----> \u001b[39m\u001b[32m4\u001b[39m     \u001b[43mcore\u001b[49m\u001b[43m.\u001b[49m\u001b[43msnap_image\u001b[49m\u001b[43m(\u001b[49m\u001b[43m)\u001b[49m\n\u001b[32m      5\u001b[39m     img = core.get_image()\n\u001b[32m      6\u001b[39m     tags = {\n\u001b[32m      7\u001b[39m         \u001b[33m\"\u001b[39m\u001b[33mWidth\u001b[39m\u001b[33m\"\u001b[39m: core.get_image_width(),\n\u001b[32m      8\u001b[39m         \u001b[33m\"\u001b[39m\u001b[33mHeight\u001b[39m\u001b[33m\"\u001b[39m: core.get_image_height(),\n\u001b[32m   (...)\u001b[39m\u001b[32m     11\u001b[39m         \u001b[38;5;66;03m#\"BitDepth\": core.get_bitdepth(),\u001b[39;00m\n\u001b[32m     12\u001b[39m     }\n",
      "\u001b[36mFile \u001b[39m\u001b[32mc:\\Users\\lociuser\\Codes\\smartpath\\smart-wsi-scanner\\.venv\\Lib\\site-packages\\pyjavaz\\bridge.py:615\u001b[39m, in \u001b[36m_JavaClassFactory.create.<locals>.<lambda>\u001b[39m\u001b[34m(instance, signatures_list, *args)\u001b[39m\n\u001b[32m    609\u001b[39m params, methods_with_name, method_name_modified = _parse_arg_names(\n\u001b[32m    610\u001b[39m     methodSpecs, method_name, convert_camel_case\n\u001b[32m    611\u001b[39m )\n\u001b[32m    612\u001b[39m return_type = methods_with_name[\u001b[32m0\u001b[39m][\u001b[33m\"\u001b[39m\u001b[33mreturn-type\u001b[39m\u001b[33m\"\u001b[39m]\n\u001b[32m    613\u001b[39m fn = \u001b[38;5;28;01mlambda\u001b[39;00m instance, *args, signatures_list=\u001b[38;5;28mtuple\u001b[39m(\n\u001b[32m    614\u001b[39m     methods_with_name\n\u001b[32m--> \u001b[39m\u001b[32m615\u001b[39m ): \u001b[43minstance\u001b[49m\u001b[43m.\u001b[49m\u001b[43m_translate_call\u001b[49m\u001b[43m(\u001b[49m\n\u001b[32m    616\u001b[39m \u001b[43m    \u001b[49m\u001b[43msignatures_list\u001b[49m\u001b[43m,\u001b[49m\u001b[43m \u001b[49m\u001b[43margs\u001b[49m\u001b[43m,\u001b[49m\u001b[43m \u001b[49m\u001b[43mstatic\u001b[49m\u001b[43m=\u001b[49m\u001b[43m_java_class\u001b[49m\u001b[43m \u001b[49m\u001b[43m==\u001b[49m\u001b[43m \u001b[49m\u001b[33;43m\"\u001b[39;49m\u001b[33;43mjava.lang.Class\u001b[39;49m\u001b[33;43m\"\u001b[39;49m\n\u001b[32m    617\u001b[39m \u001b[43m\u001b[49m\u001b[43m)\u001b[49m\n\u001b[32m    618\u001b[39m fn.\u001b[34m__name__\u001b[39m = method_name_modified\n\u001b[32m    619\u001b[39m fn.\u001b[34m__doc__\u001b[39m = \u001b[33m\"\u001b[39m\u001b[38;5;132;01m{}\u001b[39;00m\u001b[33m.\u001b[39m\u001b[38;5;132;01m{}\u001b[39;00m\u001b[33m: A dynamically generated Java method.\u001b[39m\u001b[33m\"\u001b[39m.format(\n\u001b[32m    620\u001b[39m     _java_class, method_name_modified\n\u001b[32m    621\u001b[39m )\n",
      "\u001b[36mFile \u001b[39m\u001b[32mc:\\Users\\lociuser\\Codes\\smartpath\\smart-wsi-scanner\\.venv\\Lib\\site-packages\\pyjavaz\\bridge.py:780\u001b[39m, in \u001b[36m_JavaObjectShadow._translate_call\u001b[39m\u001b[34m(self, method_specs, fn_args, static)\u001b[39m\n\u001b[32m    774\u001b[39m \u001b[38;5;66;03m# args are good, make call through socket, casting the correct type if needed (e.g. int to float)\u001b[39;00m\n\u001b[32m    775\u001b[39m message = {\u001b[33m\"\u001b[39m\u001b[33mcommand\u001b[39m\u001b[33m\"\u001b[39m: \u001b[33m\"\u001b[39m\u001b[33mrun-method\u001b[39m\u001b[33m\"\u001b[39m, \u001b[33m\"\u001b[39m\u001b[33mstatic\u001b[39m\u001b[33m\"\u001b[39m: static, \u001b[33m\"\u001b[39m\u001b[33mhash-code\u001b[39m\u001b[33m\"\u001b[39m: \u001b[38;5;28mself\u001b[39m._hash_code,\n\u001b[32m    776\u001b[39m            \u001b[33m\"\u001b[39m\u001b[33mjava_class_name\u001b[39m\u001b[33m\"\u001b[39m: \u001b[38;5;28mself\u001b[39m._java_class, \u001b[33m\"\u001b[39m\u001b[33mname\u001b[39m\u001b[33m\"\u001b[39m: valid_method_spec[\u001b[33m\"\u001b[39m\u001b[33mname\u001b[39m\u001b[33m\"\u001b[39m],\n\u001b[32m    777\u001b[39m            \u001b[33m\"\u001b[39m\u001b[33margument-types\u001b[39m\u001b[33m\"\u001b[39m: valid_method_spec[\u001b[33m\"\u001b[39m\u001b[33marguments\u001b[39m\u001b[33m\"\u001b[39m],\n\u001b[32m    778\u001b[39m            \u001b[33m\"\u001b[39m\u001b[33margument-deserialization-types\u001b[39m\u001b[33m\"\u001b[39m: deserialize_types,\n\u001b[32m    779\u001b[39m            \u001b[33m\"\u001b[39m\u001b[33marguments\u001b[39m\u001b[33m\"\u001b[39m: _package_arguments(valid_method_spec, fn_args)}\n\u001b[32m--> \u001b[39m\u001b[32m780\u001b[39m reply = \u001b[38;5;28;43mself\u001b[39;49m\u001b[43m.\u001b[49m\u001b[43m_send_and_receive\u001b[49m\u001b[43m(\u001b[49m\u001b[43mmessage\u001b[49m\u001b[43m)\u001b[49m\n\u001b[32m    781\u001b[39m \u001b[38;5;28;01mreturn\u001b[39;00m \u001b[38;5;28mself\u001b[39m._deserialize(reply)\n",
      "\u001b[36mFile \u001b[39m\u001b[32mc:\\Users\\lociuser\\Codes\\smartpath\\smart-wsi-scanner\\.venv\\Lib\\site-packages\\pyjavaz\\bridge.py:722\u001b[39m, in \u001b[36m_JavaObjectShadow._send_and_receive\u001b[39m\u001b[34m(self, message, give_up_condition)\u001b[39m\n\u001b[32m    718\u001b[39m \u001b[38;5;28;01mdef\u001b[39;00m\u001b[38;5;250m \u001b[39m\u001b[34m_send_and_receive\u001b[39m(\u001b[38;5;28mself\u001b[39m, message, give_up_condition=\u001b[38;5;28;01mNone\u001b[39;00m):\n\u001b[32m    719\u001b[39m \u001b[38;5;250m    \u001b[39m\u001b[33;03m\"\"\"\u001b[39;00m\n\u001b[32m    720\u001b[39m \u001b[33;03m    Send message over the appropriate Bridge, and return the response\u001b[39;00m\n\u001b[32m    721\u001b[39m \u001b[33;03m    \"\"\"\u001b[39;00m\n\u001b[32m--> \u001b[39m\u001b[32m722\u001b[39m     \u001b[38;5;28;01mreturn\u001b[39;00m \u001b[38;5;28;43mself\u001b[39;49m\u001b[43m.\u001b[49m\u001b[43m_bridge\u001b[49m\u001b[43m.\u001b[49m\u001b[43msend_and_receive\u001b[49m\u001b[43m(\u001b[49m\u001b[43mmessage\u001b[49m\u001b[43m,\u001b[49m\u001b[43m \u001b[49m\u001b[43mgive_up_condition\u001b[49m\u001b[43m=\u001b[49m\u001b[43mgive_up_condition\u001b[49m\u001b[43m)\u001b[49m\n",
      "\u001b[36mFile \u001b[39m\u001b[32mc:\\Users\\lociuser\\Codes\\smartpath\\smart-wsi-scanner\\.venv\\Lib\\site-packages\\pyjavaz\\bridge.py:447\u001b[39m, in \u001b[36mBridge.send_and_receive\u001b[39m\u001b[34m(self, message, timeout, give_up_condition)\u001b[39m\n\u001b[32m    445\u001b[39m     \u001b[38;5;28;01mcontinue\u001b[39;00m\n\u001b[32m    446\u001b[39m \u001b[38;5;28;01mif\u001b[39;00m \u001b[38;5;28misinstance\u001b[39m(response, \u001b[38;5;167;01mException\u001b[39;00m):\n\u001b[32m--> \u001b[39m\u001b[32m447\u001b[39m     \u001b[38;5;28;01mraise\u001b[39;00m response\n\u001b[32m    448\u001b[39m \u001b[38;5;28;01mreturn\u001b[39;00m response\n",
      "\u001b[36mFile \u001b[39m\u001b[32mc:\\Users\\lociuser\\Codes\\smartpath\\smart-wsi-scanner\\.venv\\Lib\\site-packages\\pyjavaz\\bridge.py:366\u001b[39m, in \u001b[36mBridge._run_socket_thread\u001b[39m\u001b[34m(self)\u001b[39m\n\u001b[32m    364\u001b[39m         \u001b[38;5;28;01mcontinue\u001b[39;00m\n\u001b[32m    365\u001b[39m     socket.send(message)\n\u001b[32m--> \u001b[39m\u001b[32m366\u001b[39m     response = \u001b[43msocket\u001b[49m\u001b[43m.\u001b[49m\u001b[43mreceive\u001b[49m\u001b[43m(\u001b[49m\u001b[43m)\u001b[49m\n\u001b[32m    367\u001b[39m     \u001b[38;5;28mself\u001b[39m._response_queue.put(response)\n\u001b[32m    368\u001b[39m \u001b[38;5;28;01mexcept\u001b[39;00m Empty:\n",
      "\u001b[36mFile \u001b[39m\u001b[32mc:\\Users\\lociuser\\Codes\\smartpath\\smart-wsi-scanner\\.venv\\Lib\\site-packages\\pyjavaz\\bridge.py:191\u001b[39m, in \u001b[36m_DataSocket.receive\u001b[39m\u001b[34m(self, timeout, suppress_debug_message)\u001b[39m\n\u001b[32m    189\u001b[39m \u001b[38;5;28;01mif\u001b[39;00m \u001b[38;5;28mself\u001b[39m._debug \u001b[38;5;129;01mand\u001b[39;00m \u001b[38;5;129;01mnot\u001b[39;00m suppress_debug_message:\n\u001b[32m    190\u001b[39m     logger.debug(\u001b[33m\"\u001b[39m\u001b[33mreceived: \u001b[39m\u001b[38;5;132;01m{}\u001b[39;00m\u001b[33m\"\u001b[39m.format(message))\n\u001b[32m--> \u001b[39m\u001b[32m191\u001b[39m \u001b[38;5;28;43mself\u001b[39;49m\u001b[43m.\u001b[49m\u001b[43m_check_exception\u001b[49m\u001b[43m(\u001b[49m\u001b[43mmessage\u001b[49m\u001b[43m)\u001b[49m\n\u001b[32m    192\u001b[39m \u001b[38;5;28;01mreturn\u001b[39;00m message\n",
      "\u001b[36mFile \u001b[39m\u001b[32mc:\\Users\\lociuser\\Codes\\smartpath\\smart-wsi-scanner\\.venv\\Lib\\site-packages\\pyjavaz\\bridge.py:196\u001b[39m, in \u001b[36m_DataSocket._check_exception\u001b[39m\u001b[34m(self, response)\u001b[39m\n\u001b[32m    194\u001b[39m \u001b[38;5;28;01mdef\u001b[39;00m\u001b[38;5;250m \u001b[39m\u001b[34m_check_exception\u001b[39m(\u001b[38;5;28mself\u001b[39m, response):\n\u001b[32m    195\u001b[39m     \u001b[38;5;28;01mif\u001b[39;00m \u001b[33m\"\u001b[39m\u001b[33mtype\u001b[39m\u001b[33m\"\u001b[39m \u001b[38;5;129;01min\u001b[39;00m response \u001b[38;5;129;01mand\u001b[39;00m response[\u001b[33m\"\u001b[39m\u001b[33mtype\u001b[39m\u001b[33m\"\u001b[39m] == \u001b[33m\"\u001b[39m\u001b[33mexception\u001b[39m\u001b[33m\"\u001b[39m:\n\u001b[32m--> \u001b[39m\u001b[32m196\u001b[39m         \u001b[38;5;28;01mraise\u001b[39;00m \u001b[38;5;167;01mException\u001b[39;00m(response[\u001b[33m\"\u001b[39m\u001b[33mvalue\u001b[39m\u001b[33m\"\u001b[39m])\n",
      "\u001b[31mException\u001b[39m: java.lang.Exception: This operation can not be executed while sequence acquisition is running.\nmmcorej.MMCoreJJNI.CMMCore_snapImage(Native Method)\nmmcorej.CMMCore.snapImage(CMMCore.java:976)\nsun.reflect.NativeMethodAccessorImpl.invoke0(Native Method)\nsun.reflect.NativeMethodAccessorImpl.invoke(NativeMethodAccessorImpl.java:62)\nsun.reflect.DelegatingMethodAccessorImpl.invoke(DelegatingMethodAccessorImpl.java:43)\njava.lang.reflect.Method.invoke(Method.java:498)\norg.micromanager.pyjavaz.ZMQServer.runMethod(ZMQServer.java:431)\norg.micromanager.pyjavaz.ZMQServer.parseAndExecuteCommand(ZMQServer.java:511)\norg.micromanager.pyjavaz.ZMQServer.lambda$initialize$2(ZMQServer.java:121)\njava.util.concurrent.Executors$RunnableAdapter.call(Executors.java:511)\njava.util.concurrent.FutureTask.run(FutureTask.java:266)\njava.util.concurrent.ThreadPoolExecutor.runWorker(ThreadPoolExecutor.java:1149)\njava.util.concurrent.ThreadPoolExecutor$Worker.run(ThreadPoolExecutor.java:624)\njava.lang.Thread.run(Thread.java:748)\n"
     ]
    }
   ],
   "source": [
    "img,tags = snap_image()"
   ]
  },
  {
   "cell_type": "code",
   "execution_count": 11,
   "id": "c1e18364-1223-4cc2-b80f-799074e7f2b2",
   "metadata": {},
   "outputs": [],
   "source": [
    "import matplotlib.pyplot as plt"
   ]
  },
  {
   "cell_type": "code",
   "execution_count": 28,
   "id": "84b16e74-2bbb-40a8-974f-9a834fbbf9c4",
   "metadata": {},
   "outputs": [],
   "source": [
    "#plt.imshow(img,cmap='gray')\n",
    "#plt.colorbar()"
   ]
  },
  {
   "cell_type": "code",
   "execution_count": 29,
   "id": "0b822ca4-bf61-4b9a-bb85-7c10df975e5f",
   "metadata": {},
   "outputs": [
    {
     "data": {
      "text/plain": [
       "dtype('uint16')"
      ]
     },
     "execution_count": 29,
     "metadata": {},
     "output_type": "execute_result"
    }
   ],
   "source": [
    "img.dtype"
   ]
  },
  {
   "cell_type": "code",
   "execution_count": 30,
   "id": "53bf0768-dfca-4b5a-94b8-a57820d75e7a",
   "metadata": {},
   "outputs": [
    {
     "data": {
      "text/plain": [
       "(2200, 2688)"
      ]
     },
     "execution_count": 30,
     "metadata": {},
     "output_type": "execute_result"
    }
   ],
   "source": [
    "img.shape"
   ]
  },
  {
   "cell_type": "code",
   "execution_count": 12,
   "id": "30f7dae8-33e2-4658-83b2-a28586d9941a",
   "metadata": {},
   "outputs": [],
   "source": [
    "import tifffile as tf"
   ]
  },
  {
   "cell_type": "markdown",
   "id": "f8ad619d-c13f-4a41-9b96-394d9c7c61bf",
   "metadata": {},
   "source": [
    "# pure_calibration"
   ]
  },
  {
   "cell_type": "code",
   "execution_count": 38,
   "id": "72fdbaeb-f73d-44a5-be2e-e3f9505a05a4",
   "metadata": {},
   "outputs": [
    {
     "data": {
      "text/plain": [
       "'C:\\\\Users\\\\lociuser\\\\Codes\\\\smartpath'"
      ]
     },
     "execution_count": 38,
     "metadata": {},
     "output_type": "execute_result"
    }
   ],
   "source": [
    "import os\n",
    "os.getcwd()"
   ]
  },
  {
   "cell_type": "code",
   "execution_count": 13,
   "id": "6c104e5f-46f6-4acd-9259-ff52ffbaddee",
   "metadata": {},
   "outputs": [],
   "source": [
    "from fastprogress import progress_bar"
   ]
  },
  {
   "cell_type": "code",
   "execution_count": 15,
   "id": "990ea55f",
   "metadata": {},
   "outputs": [],
   "source": [
    "core.set_exposure(500)"
   ]
  },
  {
   "cell_type": "code",
   "execution_count": 16,
   "id": "ffda94e5-3f5a-4640-be8d-99048bdcb7b0",
   "metadata": {},
   "outputs": [
    {
     "data": {
      "text/html": [
       "\n",
       "<style>\n",
       "    /* Turns off some styling */\n",
       "    progress {\n",
       "        /* gets rid of default border in Firefox and Opera. */\n",
       "        border: none;\n",
       "        /* Needs to be in here for Safari polyfill so background images work as expected. */\n",
       "        background-size: auto;\n",
       "    }\n",
       "    progress:not([value]), progress:not([value])::-webkit-progress-bar {\n",
       "        background: repeating-linear-gradient(45deg, #7e7e7e, #7e7e7e 10px, #5c5c5c 10px, #5c5c5c 20px);\n",
       "    }\n",
       "    .progress-bar-interrupted, .progress-bar-interrupted::-webkit-progress-bar {\n",
       "        background: #F44336;\n",
       "    }\n",
       "</style>\n"
      ],
      "text/plain": [
       "<IPython.core.display.HTML object>"
      ]
     },
     "metadata": {},
     "output_type": "display_data"
    },
    {
     "data": {
      "text/html": [
       "\n",
       "    <div>\n",
       "      <progress value='4' class='' max='4' style='width:300px; height:20px; vertical-align: middle;'></progress>\n",
       "      100.00% [4/4 00:04&lt;00:00]\n",
       "    </div>\n",
       "    "
      ],
      "text/plain": [
       "<IPython.core.display.HTML object>"
      ]
     },
     "metadata": {},
     "output_type": "display_data"
    }
   ],
   "source": [
    "for k in progress_bar([0,-5,5,90]):\n",
    "    set_angle(k)\n",
    "    if k == 90:\n",
    "        core.set_exposure(10)\n",
    "    else:\n",
    "        core.set_exposure(500)\n",
    "        \n",
    "    theta = core.get_position(brushless)\n",
    "    img,tags = snap_image()\n",
    "    filename = rf'Micropublishertrial{k:.03f}_.tiff'\n",
    "    tf.imwrite(filename,img.astype(np.uint16))    \n"
   ]
  },
  {
   "cell_type": "code",
   "execution_count": 54,
   "id": "43ed99d0-16d5-43a1-8953-9f5a1e131141",
   "metadata": {},
   "outputs": [
    {
     "data": {
      "text/html": [
       "\n",
       "<style>\n",
       "    /* Turns off some styling */\n",
       "    progress {\n",
       "        /* gets rid of default border in Firefox and Opera. */\n",
       "        border: none;\n",
       "        /* Needs to be in here for Safari polyfill so background images work as expected. */\n",
       "        background-size: auto;\n",
       "    }\n",
       "    progress:not([value]), progress:not([value])::-webkit-progress-bar {\n",
       "        background: repeating-linear-gradient(45deg, #7e7e7e, #7e7e7e 10px, #5c5c5c 10px, #5c5c5c 20px);\n",
       "    }\n",
       "    .progress-bar-interrupted, .progress-bar-interrupted::-webkit-progress-bar {\n",
       "        background: #F44336;\n",
       "    }\n",
       "</style>\n"
      ],
      "text/plain": [
       "<IPython.core.display.HTML object>"
      ]
     },
     "metadata": {},
     "output_type": "display_data"
    },
    {
     "data": {
      "text/html": [
       "\n",
       "    <div>\n",
       "      <progress value='360' class='' max='360' style='width:300px; height:20px; vertical-align: middle;'></progress>\n",
       "      100.00% [360/360 04:18&lt;00:00]\n",
       "    </div>\n",
       "    "
      ],
      "text/plain": [
       "<IPython.core.display.HTML object>"
      ]
     },
     "metadata": {},
     "output_type": "display_data"
    }
   ],
   "source": [
    "for k in progress_bar(range(0,360),total=360):\n",
    "    set_angle(k)\n",
    "    theta = core.get_position(brushless)\n",
    "    img,tags = snap_image()\n",
    "    filename = rf'D:\\UserData\\MichealNelson\\debeyer_data_calibration_20xPolp5NA\\Calibration_angle{k:03}.tif'\n",
    "    tf.imwrite(filename,img.astype(np.uint16))    \n",
    "    with open('log.txt','a') as fid:\n",
    "        fid.write(str([k, theta, img.mean()]))"
   ]
  },
  {
   "cell_type": "markdown",
   "id": "d672bca0-c47f-4b26-9ad5-c6fc8d5ea35f",
   "metadata": {},
   "source": [
    "# 3 mins for full 360 deg calibration with 150 ms exposure"
   ]
  },
  {
   "cell_type": "code",
   "execution_count": null,
   "id": "01a49cf0-0980-4835-b10c-1c9d068b5e89",
   "metadata": {},
   "outputs": [],
   "source": []
  },
  {
   "cell_type": "code",
   "execution_count": null,
   "id": "ce5aa9ac-ff00-469c-9e1b-824a77ed5f6c",
   "metadata": {},
   "outputs": [],
   "source": []
  },
  {
   "cell_type": "code",
   "execution_count": null,
   "id": "b498f544-064a-44b4-8fd8-7ebdb6a4b7fe",
   "metadata": {},
   "outputs": [],
   "source": []
  },
  {
   "cell_type": "code",
   "execution_count": null,
   "id": "7bfb56dc-c0d8-4aa7-8109-59bfd5f8cb49",
   "metadata": {},
   "outputs": [],
   "source": []
  },
  {
   "cell_type": "code",
   "execution_count": null,
   "id": "72e0c7ed-3c82-4c54-acc7-2fa1eb40e230",
   "metadata": {},
   "outputs": [],
   "source": []
  }
 ],
 "metadata": {
  "kernelspec": {
   "display_name": "smart-wsi-scanner2",
   "language": "python",
   "name": "python3"
  },
  "language_info": {
   "codemirror_mode": {
    "name": "ipython",
    "version": 3
   },
   "file_extension": ".py",
   "mimetype": "text/x-python",
   "name": "python",
   "nbconvert_exporter": "python",
   "pygments_lexer": "ipython3",
   "version": "3.12.10"
  }
 },
 "nbformat": 4,
 "nbformat_minor": 5
}
