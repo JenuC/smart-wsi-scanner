{
 "cells": [
  {
   "cell_type": "code",
   "execution_count": 1,
   "id": "f298e09b-74cc-4e17-a2cd-286be3d1d33c",
   "metadata": {},
   "outputs": [],
   "source": [
    "import pycromanager as pyc"
   ]
  },
  {
   "cell_type": "code",
   "execution_count": 2,
   "id": "ba3df17a-8dbe-49fa-b3c8-fd28c4f31fdb",
   "metadata": {},
   "outputs": [],
   "source": [
    "from pycromanager import Core,Studio"
   ]
  },
  {
   "cell_type": "code",
   "execution_count": 3,
   "id": "21cf781d-3644-4f4e-ac20-078c2324d644",
   "metadata": {},
   "outputs": [],
   "source": [
    "core = Core()"
   ]
  },
  {
   "cell_type": "code",
   "execution_count": 4,
   "id": "cf4561f6-6442-4df7-9548-65b3250c93aa",
   "metadata": {},
   "outputs": [
    {
     "data": {
      "text/plain": [
       "-61.6"
      ]
     },
     "execution_count": 4,
     "metadata": {},
     "output_type": "execute_result"
    }
   ],
   "source": [
    "core.get_position()"
   ]
  },
  {
   "cell_type": "code",
   "execution_count": 5,
   "id": "8f28d453-cea5-426b-9255-ba82644a3543",
   "metadata": {},
   "outputs": [
    {
     "data": {
      "text/plain": [
       "32.9145"
      ]
     },
     "execution_count": 5,
     "metadata": {},
     "output_type": "execute_result"
    }
   ],
   "source": [
    "brushless = \"KBD101_Thor_Rotation\"\n",
    "core.get_position(brushless)"
   ]
  },
  {
   "cell_type": "code",
   "execution_count": 6,
   "id": "e8126f8c-a145-43c0-950e-47b0e7f44ac7",
   "metadata": {},
   "outputs": [],
   "source": [
    "def ppm_to_thor(angle):\n",
    "    return (-2*angle + 276)\n",
    "\n",
    "def thor_to_ppm(kinesis_pos):\n",
    "    return (276 - kinesis_pos) / 2"
   ]
  },
  {
   "cell_type": "code",
   "execution_count": 7,
   "id": "b97e0bec-e8c9-4ced-a061-abd3041c06df",
   "metadata": {},
   "outputs": [
    {
     "data": {
      "text/plain": [
       "121.5"
      ]
     },
     "execution_count": 7,
     "metadata": {},
     "output_type": "execute_result"
    }
   ],
   "source": [
    "thor_to_ppm(33)"
   ]
  },
  {
   "cell_type": "code",
   "execution_count": 33,
   "id": "0ffc4691-9881-4db6-8d49-848dd77afd60",
   "metadata": {},
   "outputs": [],
   "source": [
    "def set_angle(theta):\n",
    "    theta = ppm_to_thor(theta)\n",
    "    core.set_position(brushless,theta)\n",
    "    core.wait_for_device(brushless)\n",
    "set_angle(0)"
   ]
  },
  {
   "cell_type": "code",
   "execution_count": 20,
   "id": "e254c309-ea74-4acf-ab88-015af59e59f2",
   "metadata": {},
   "outputs": [],
   "source": [
    "from typing import Tuple,Dict,Any\n",
    "import numpy as np\n",
    "def snap_image() -> Tuple[np.ndarray, Dict[str, Any]]:\n",
    "    core.snap_image()\n",
    "    img = core.get_image()\n",
    "    tags = {\n",
    "        \"Width\": core.get_image_width(),\n",
    "        \"Height\": core.get_image_height(),\n",
    "        #\"PixelType\": core.get_pixel_type(),\n",
    "        #\"BytesPerPixel\": core.get_bytes_per_pixel(),\n",
    "        #\"BitDepth\": core.get_bitdepth(),\n",
    "    }\n",
    "    # Handle color cameras\n",
    "    camera = core.get_property('Core','Camera')\n",
    "    if camera in [\"QCamera\", \"MicroPublisher6\"]:\n",
    "        if core.get_property(camera,'Color') == \"ON\":\n",
    "            img = np.reshape(img, (tags[\"Height\"], tags[\"Width\"], 4))\n",
    "            img = img[:, :, 0:3]  # Remove alpha\n",
    "            img = np.flip(img, 2)  # Flip channels\n",
    "        else:\n",
    "            img = np.reshape(img, (tags[\"Height\"], tags[\"Width\"]))\n",
    "    else:\n",
    "        img = np.reshape(img, (tags[\"Height\"], tags[\"Width\"]))\n",
    "    return img, tags\n"
   ]
  },
  {
   "cell_type": "code",
   "execution_count": null,
   "id": "0cd22593-8f9f-4853-8780-90e4cd49d1fc",
   "metadata": {},
   "outputs": [],
   "source": [
    "\n"
   ]
  },
  {
   "cell_type": "code",
   "execution_count": 21,
   "id": "861ced97-c50e-43f9-ab53-20d1dee6cffe",
   "metadata": {},
   "outputs": [],
   "source": [
    "img,tags = snap_image()"
   ]
  },
  {
   "cell_type": "code",
   "execution_count": 22,
   "id": "c1e18364-1223-4cc2-b80f-799074e7f2b2",
   "metadata": {},
   "outputs": [],
   "source": [
    "import matplotlib.pyplot as plt"
   ]
  },
  {
   "cell_type": "code",
   "execution_count": 28,
   "id": "84b16e74-2bbb-40a8-974f-9a834fbbf9c4",
   "metadata": {},
   "outputs": [],
   "source": [
    "#plt.imshow(img,cmap='gray')\n",
    "#plt.colorbar()"
   ]
  },
  {
   "cell_type": "code",
   "execution_count": 29,
   "id": "0b822ca4-bf61-4b9a-bb85-7c10df975e5f",
   "metadata": {},
   "outputs": [
    {
     "data": {
      "text/plain": [
       "dtype('uint16')"
      ]
     },
     "execution_count": 29,
     "metadata": {},
     "output_type": "execute_result"
    }
   ],
   "source": [
    "img.dtype"
   ]
  },
  {
   "cell_type": "code",
   "execution_count": 30,
   "id": "53bf0768-dfca-4b5a-94b8-a57820d75e7a",
   "metadata": {},
   "outputs": [
    {
     "data": {
      "text/plain": [
       "(2200, 2688)"
      ]
     },
     "execution_count": 30,
     "metadata": {},
     "output_type": "execute_result"
    }
   ],
   "source": [
    "img.shape"
   ]
  },
  {
   "cell_type": "code",
   "execution_count": 31,
   "id": "30f7dae8-33e2-4658-83b2-a28586d9941a",
   "metadata": {},
   "outputs": [],
   "source": [
    "import tifffile as tf"
   ]
  },
  {
   "cell_type": "markdown",
   "id": "f8ad619d-c13f-4a41-9b96-394d9c7c61bf",
   "metadata": {},
   "source": [
    "# pure_calibration"
   ]
  },
  {
   "cell_type": "code",
   "execution_count": 38,
   "id": "72fdbaeb-f73d-44a5-be2e-e3f9505a05a4",
   "metadata": {},
   "outputs": [
    {
     "data": {
      "text/plain": [
       "'C:\\\\Users\\\\lociuser\\\\Codes\\\\smartpath'"
      ]
     },
     "execution_count": 38,
     "metadata": {},
     "output_type": "execute_result"
    }
   ],
   "source": [
    "import os\n",
    "os.getcwd()"
   ]
  },
  {
   "cell_type": "code",
   "execution_count": 51,
   "id": "6c104e5f-46f6-4acd-9259-ff52ffbaddee",
   "metadata": {},
   "outputs": [],
   "source": [
    "from fastprogress import progress_bar"
   ]
  },
  {
   "cell_type": "code",
   "execution_count": null,
   "id": "ffda94e5-3f5a-4640-be8d-99048bdcb7b0",
   "metadata": {},
   "outputs": [],
   "source": []
  },
  {
   "cell_type": "code",
   "execution_count": 54,
   "id": "43ed99d0-16d5-43a1-8953-9f5a1e131141",
   "metadata": {},
   "outputs": [
    {
     "data": {
      "text/html": [
       "\n",
       "<style>\n",
       "    /* Turns off some styling */\n",
       "    progress {\n",
       "        /* gets rid of default border in Firefox and Opera. */\n",
       "        border: none;\n",
       "        /* Needs to be in here for Safari polyfill so background images work as expected. */\n",
       "        background-size: auto;\n",
       "    }\n",
       "    progress:not([value]), progress:not([value])::-webkit-progress-bar {\n",
       "        background: repeating-linear-gradient(45deg, #7e7e7e, #7e7e7e 10px, #5c5c5c 10px, #5c5c5c 20px);\n",
       "    }\n",
       "    .progress-bar-interrupted, .progress-bar-interrupted::-webkit-progress-bar {\n",
       "        background: #F44336;\n",
       "    }\n",
       "</style>\n"
      ],
      "text/plain": [
       "<IPython.core.display.HTML object>"
      ]
     },
     "metadata": {},
     "output_type": "display_data"
    },
    {
     "data": {
      "text/html": [
       "\n",
       "    <div>\n",
       "      <progress value='360' class='' max='360' style='width:300px; height:20px; vertical-align: middle;'></progress>\n",
       "      100.00% [360/360 04:18&lt;00:00]\n",
       "    </div>\n",
       "    "
      ],
      "text/plain": [
       "<IPython.core.display.HTML object>"
      ]
     },
     "metadata": {},
     "output_type": "display_data"
    }
   ],
   "source": [
    "for k in progress_bar(range(0,360),total=360):\n",
    "    set_angle(k)\n",
    "    theta = core.get_position(brushless)\n",
    "    img,tags = snap_image()\n",
    "    filename = rf'D:\\UserData\\MichealNelson\\debeyer_data_calibration_20xPolp5NA\\Calibration_angle{k:03}.tif'\n",
    "    tf.imwrite(filename,img.astype(np.uint16))    \n",
    "    with open('log.txt','a') as fid:\n",
    "        fid.write(str([k, theta, img.mean()]))"
   ]
  },
  {
   "cell_type": "markdown",
   "id": "d672bca0-c47f-4b26-9ad5-c6fc8d5ea35f",
   "metadata": {},
   "source": [
    "# 3 mins for full 360 deg calibration with 150 ms exposure"
   ]
  },
  {
   "cell_type": "code",
   "execution_count": null,
   "id": "01a49cf0-0980-4835-b10c-1c9d068b5e89",
   "metadata": {},
   "outputs": [],
   "source": []
  },
  {
   "cell_type": "code",
   "execution_count": null,
   "id": "ce5aa9ac-ff00-469c-9e1b-824a77ed5f6c",
   "metadata": {},
   "outputs": [],
   "source": []
  },
  {
   "cell_type": "code",
   "execution_count": null,
   "id": "b498f544-064a-44b4-8fd8-7ebdb6a4b7fe",
   "metadata": {},
   "outputs": [],
   "source": []
  },
  {
   "cell_type": "code",
   "execution_count": null,
   "id": "7bfb56dc-c0d8-4aa7-8109-59bfd5f8cb49",
   "metadata": {},
   "outputs": [],
   "source": []
  },
  {
   "cell_type": "code",
   "execution_count": null,
   "id": "72e0c7ed-3c82-4c54-acc7-2fa1eb40e230",
   "metadata": {},
   "outputs": [],
   "source": []
  }
 ],
 "metadata": {
  "kernelspec": {
   "display_name": "Python 3 (ipykernel)",
   "language": "python",
   "name": "python3"
  },
  "language_info": {
   "codemirror_mode": {
    "name": "ipython",
    "version": 3
   },
   "file_extension": ".py",
   "mimetype": "text/x-python",
   "name": "python",
   "nbconvert_exporter": "python",
   "pygments_lexer": "ipython3",
   "version": "3.12.10"
  }
 },
 "nbformat": 4,
 "nbformat_minor": 5
}
