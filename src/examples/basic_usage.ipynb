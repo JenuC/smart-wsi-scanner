{
 "cells": [
  {
   "cell_type": "code",
   "execution_count": 1,
   "metadata": {},
   "outputs": [],
   "source": [
    "import smart_wsi_scanner as sws"
   ]
  },
  {
   "cell_type": "code",
   "execution_count": 2,
   "metadata": {},
   "outputs": [],
   "source": [
    "from smart_wsi_scanner.smartpath import init_pycromanager\n",
    "core, studio = init_pycromanager()"
   ]
  },
  {
   "cell_type": "code",
   "execution_count": 3,
   "metadata": {},
   "outputs": [],
   "source": [
    "from smart_wsi_scanner.smartpath import init_pycromanager\n",
    "core, studio = init_pycromanager()\n",
    "if core.get_property(\"MicroPublisher6\",\"Color\")==\"OFF\":\n",
    "    core.set_property(\"MicroPublisher6\",\"Color\",\"ON\")\n",
    "if core.get_property(\"MicroPublisher6\",\"Color - Algorithm CFA\") != \"G-R-B-G\":\n",
    "    core.set_property(\"MicroPublisher6\",\"Color - Algorithm CFA\", \"G-R-B-G\")\n"
   ]
  },
  {
   "cell_type": "code",
   "execution_count": 5,
   "metadata": {},
   "outputs": [
    {
     "data": {
      "text/plain": [
       "296"
      ]
     },
     "execution_count": 5,
     "metadata": {},
     "output_type": "execute_result"
    }
   ],
   "source": [
    "brushless = \"KBD101_Thor_Rotation\"\n",
    "core.get_position(brushless)"
   ]
  },
  {
   "cell_type": "code",
   "execution_count": 7,
   "metadata": {},
   "outputs": [
    {
     "name": "stdout",
     "output_type": "stream",
     "text": [
      "New angle calculated 296...\n"
     ]
    },
    {
     "data": {
      "text/plain": [
       "296"
      ]
     },
     "execution_count": 7,
     "metadata": {},
     "output_type": "execute_result"
    }
   ],
   "source": [
    "\n",
    "angle = -10\n",
    "def ppm_to_thor(angle):\n",
    "    return (-2*angle + 276)\n",
    "\n",
    "newAngle = ppm_to_thor(angle)\n",
    "core.set_position(brushless, newAngle)\n",
    "core.get_position(brushless)"
   ]
  },
  {
   "cell_type": "code",
   "execution_count": 10,
   "metadata": {},
   "outputs": [
    {
     "name": "stdout",
     "output_type": "stream",
     "text": [
      "Capture Failed: SP doesn't recognize : tags['Core-Camera']='MicroPublisher6'\n"
     ]
    }
   ],
   "source": [
    "import smart_wsi_scanner.smartpath as sp\n",
    "x,y = sp.snap(core)"
   ]
  },
  {
   "cell_type": "code",
   "execution_count": null,
   "metadata": {},
   "outputs": [],
   "source": []
  },
  {
   "cell_type": "code",
   "execution_count": 27,
   "metadata": {},
   "outputs": [],
   "source": [
    "import csv\n",
    "from dataclasses import dataclass\n",
    "from typing import List\n",
    "\n",
    "@dataclass\n",
    "class ColorPreset:\n",
    "    name: str\n",
    "    color: str\n",
    "    color_algorithm_cfa: str\n",
    "    color_blue_scale: float\n",
    "    color_green_scale: float\n",
    "    color_red_scale: float\n",
    "    exposure: float\n",
    "    objective_label: str\n",
    "    \n",
    "    def apply_to_camera(self, core, device=\"MicroPublisher6\", objective_device=\"DObjective\"):\n",
    "            # Apply color and algorithm\n",
    "            core.set_property(device, \"Color\", self.color)\n",
    "            core.set_property(device, \"Color - Algorithm CFA\", self.color_algorithm_cfa)\n",
    "            core.set_property(device, \"Color - Blue scale\", self.color_blue_scale)\n",
    "            core.set_property(device, \"Color - Green scale\", self.color_green_scale)\n",
    "            core.set_property(device, \"Color - Red scale\", self.color_red_scale)\n",
    "            core.set_property(device, \"Exposure\", self.exposure)\n",
    "            core.set_property(objective_device, \"Label\", self.objective_label)\n",
    "\n",
    "def parse_all_presets(cfg_path: str) -> List[ColorPreset]:\n",
    "    presets = []\n",
    "    current_name = None\n",
    "    current_values = {}\n",
    "    with open(cfg_path, newline='') as csvfile:\n",
    "        for line in csvfile:\n",
    "            line = line.strip()\n",
    "            if not line:\n",
    "                continue\n",
    "            # Detect preset header\n",
    "            if line.startswith(\"#\") or (line.startswith(\"[\") and line.endswith(\"]\")):\n",
    "                # Save previous preset if exists\n",
    "                if current_name and current_values:\n",
    "                    try:\n",
    "                        presets.append(ColorPreset(name=current_name, **current_values))\n",
    "                    except Exception as e:\n",
    "                        print(f\"Skipping preset {current_name} due to error: {e}\")\n",
    "                # Start new preset\n",
    "                current_name = line.strip(\"#[] \").strip()\n",
    "                current_values = {}\n",
    "                continue\n",
    "            # Parse CSV line\n",
    "            row = next(csv.reader([line]))\n",
    "            if len(row) < 6:\n",
    "                continue\n",
    "            prop = row[4].lower().replace(\" \", \"_\").replace(\"-\", \"_\")\n",
    "            value = row[5]\n",
    "            # Map config property to dataclass field\n",
    "            if prop == \"color\":\n",
    "                current_values[\"color\"] = value\n",
    "            elif prop == \"color___algorithm_cfa\":\n",
    "                current_values[\"color_algorithm_cfa\"] = value\n",
    "            elif prop == \"color___blue_scale\":\n",
    "                current_values[\"color_blue_scale\"] = float(value)\n",
    "            elif prop == \"color___green_scale\":\n",
    "                current_values[\"color_green_scale\"] = float(value)\n",
    "            elif prop == \"color___red_scale\":\n",
    "                current_values[\"color_red_scale\"] = float(value)\n",
    "            elif prop == \"exposure\":\n",
    "                current_values[\"exposure\"] = float(value)\n",
    "            elif prop == \"label\":\n",
    "                current_values[\"objective_label\"] = value\n",
    "        # Save last preset\n",
    "        if current_name and current_values:\n",
    "            try:\n",
    "                presets.append(ColorPreset(name=current_name, **current_values))\n",
    "            except Exception as e:\n",
    "                print(f\"Skipping preset {current_name} due to error: {e}\")\n",
    "    return presets\n"
   ]
  },
  {
   "cell_type": "code",
   "execution_count": 28,
   "metadata": {},
   "outputs": [
    {
     "name": "stdout",
     "output_type": "stream",
     "text": [
      "Skipping preset Preset: Startup due to error: ColorPreset.__init__() missing 5 required positional arguments: 'color_algorithm_cfa', 'color_blue_scale', 'color_green_scale', 'color_red_scale', and 'exposure'\n",
      "Skipping preset Preset: 10x 0.3 due to error: ColorPreset.__init__() missing 6 required positional arguments: 'color', 'color_algorithm_cfa', 'color_blue_scale', 'color_green_scale', 'color_red_scale', and 'exposure'\n",
      "Skipping preset Preset: 40x 0.5 red Pol due to error: ColorPreset.__init__() missing 6 required positional arguments: 'color', 'color_algorithm_cfa', 'color_blue_scale', 'color_green_scale', 'color_red_scale', and 'exposure'\n",
      "Skipping preset Preset: 20x 0.5 due to error: ColorPreset.__init__() missing 6 required positional arguments: 'color', 'color_algorithm_cfa', 'color_blue_scale', 'color_green_scale', 'color_red_scale', and 'exposure'\n",
      "Skipping preset Preset: 40x 0.75 due to error: ColorPreset.__init__() missing 6 required positional arguments: 'color', 'color_algorithm_cfa', 'color_blue_scale', 'color_green_scale', 'color_red_scale', and 'exposure'\n",
      "Skipping preset Preset: 20x 0.5 red Pol due to error: ColorPreset.__init__() missing 6 required positional arguments: 'color', 'color_algorithm_cfa', 'color_blue_scale', 'color_green_scale', 'color_red_scale', and 'exposure'\n",
      "Skipping preset Preset: 40xAdapter0.5 due to error: ColorPreset.__init__() missing 6 required positional arguments: 'color', 'color_algorithm_cfa', 'color_blue_scale', 'color_green_scale', 'color_red_scale', and 'exposure'\n"
     ]
    },
    {
     "data": {
      "text/plain": [
       "[ColorPreset(name='Preset: ColorOn 10x 5deg', color='ON', color_algorithm_cfa='G-B-R-G', color_blue_scale=2.4344, color_green_scale=1.0, color_red_scale=1.1621, exposure=200.0, objective_label='10x 0.3'),\n",
       " ColorPreset(name='Preset: ColorOn 20x 0deg', color='ON', color_algorithm_cfa='G-B-R-G', color_blue_scale=2.2428, color_green_scale=1.014, color_red_scale=1.0, exposure=200.0, objective_label='20x 0.5'),\n",
       " ColorPreset(name='Preset: ColorOn 10x 0deg', color='ON', color_algorithm_cfa='G-R-B-G', color_blue_scale=1.0, color_green_scale=1.1691, color_red_scale=1.8056, exposure=500.0, objective_label='10x 0.3'),\n",
       " ColorPreset(name='Preset: ColorOn 40x 5deg', color='ON', color_algorithm_cfa='G-B-R-G', color_blue_scale=2.8488, color_green_scale=1.2352, color_red_scale=1.0, exposure=500.0, objective_label='40x 0.75'),\n",
       " ColorPreset(name='Preset: ColorOn 10x 50deg', color='ON', color_algorithm_cfa='G-B-R-G', color_blue_scale=3.7246, color_green_scale=1.0, color_red_scale=1.0712, exposure=4.0, objective_label='10x 0.3'),\n",
       " ColorPreset(name='Preset: ColorOn 40x 50deg', color='ON', color_algorithm_cfa='G-B-R-G', color_blue_scale=4.0219, color_green_scale=1.0, color_red_scale=1.0146, exposure=10.0, objective_label='40x 0.75'),\n",
       " ColorPreset(name='Preset: ColorOn 40x 0deg', color='ON', color_algorithm_cfa='G-B-R-G', color_blue_scale=2.2428, color_green_scale=1.014, color_red_scale=1.0, exposure=1000.0, objective_label='20x 0.5'),\n",
       " ColorPreset(name='Preset: ColorOn 20x 50deg', color='ON', color_algorithm_cfa='G-B-R-G', color_blue_scale=4.1121, color_green_scale=1.1278, color_red_scale=1.0, exposure=3.5, objective_label='20x 0.5'),\n",
       " ColorPreset(name='Preset: Raw', color='OFF', color_algorithm_cfa='G-R-B-G', color_blue_scale=1.0, color_green_scale=1.0, color_red_scale=1.0, exposure=131.0, objective_label='20x 0.5'),\n",
       " ColorPreset(name='Preset: ColorOn 20x 5deg', color='ON', color_algorithm_cfa='G-B-R-G', color_blue_scale=2.6719, color_green_scale=1.1167, color_red_scale=1.0, exposure=150.0, objective_label='20x 0.5')]"
      ]
     },
     "execution_count": 28,
     "metadata": {},
     "output_type": "execute_result"
    }
   ],
   "source": [
    "# Usage\n",
    "presets = parse_all_presets(\"../smart_wsi_scanner/configurations/config_PPM.cfg\")\n",
    "#for preset in presets:\n",
    "#    print(preset)\n",
    "presets"
   ]
  },
  {
   "cell_type": "code",
   "execution_count": 29,
   "metadata": {},
   "outputs": [
    {
     "name": "stdout",
     "output_type": "stream",
     "text": [
      "0 Preset: ColorOn 10x 5deg\n",
      "1 Preset: ColorOn 20x 0deg\n",
      "2 Preset: ColorOn 10x 0deg\n",
      "3 Preset: ColorOn 40x 5deg\n",
      "4 Preset: ColorOn 10x 50deg\n",
      "5 Preset: ColorOn 40x 50deg\n",
      "6 Preset: ColorOn 40x 0deg\n",
      "7 Preset: ColorOn 20x 50deg\n",
      "8 Preset: Raw\n",
      "9 Preset: ColorOn 20x 5deg\n"
     ]
    }
   ],
   "source": [
    "for kx,k in enumerate(presets):\n",
    "    print(kx, k.name)"
   ]
  },
  {
   "cell_type": "code",
   "execution_count": 31,
   "metadata": {},
   "outputs": [],
   "source": [
    "presets[1].apply_to_camera(core)"
   ]
  },
  {
   "cell_type": "code",
   "execution_count": null,
   "metadata": {},
   "outputs": [],
   "source": [
    "\"\""
   ]
  },
  {
   "cell_type": "code",
   "execution_count": null,
   "metadata": {},
   "outputs": [],
   "source": []
  },
  {
   "cell_type": "code",
   "execution_count": 4,
   "metadata": {},
   "outputs": [
    {
     "data": {
      "text/plain": [
       "-55.1"
      ]
     },
     "execution_count": 4,
     "metadata": {},
     "output_type": "execute_result"
    }
   ],
   "source": [
    "core.get_position()"
   ]
  },
  {
   "cell_type": "code",
   "execution_count": 3,
   "metadata": {},
   "outputs": [
    {
     "ename": "Exception",
     "evalue": "java.lang.Exception: No device with label \"KBD101_Thor_Rotation\"\nmmcorej.MMCoreJJNI.CMMCore_getPosition__SWIG_0(Native Method)\nmmcorej.CMMCore.getPosition(CMMCore.java:1236)\nsun.reflect.NativeMethodAccessorImpl.invoke0(Native Method)\nsun.reflect.NativeMethodAccessorImpl.invoke(NativeMethodAccessorImpl.java:62)\nsun.reflect.DelegatingMethodAccessorImpl.invoke(DelegatingMethodAccessorImpl.java:43)\njava.lang.reflect.Method.invoke(Method.java:498)\norg.micromanager.pyjavaz.ZMQServer.runMethod(ZMQServer.java:431)\norg.micromanager.pyjavaz.ZMQServer.parseAndExecuteCommand(ZMQServer.java:511)\norg.micromanager.pyjavaz.ZMQServer.lambda$initialize$2(ZMQServer.java:121)\njava.util.concurrent.Executors$RunnableAdapter.call(Executors.java:511)\njava.util.concurrent.FutureTask.run(FutureTask.java:266)\njava.util.concurrent.ThreadPoolExecutor.runWorker(ThreadPoolExecutor.java:1149)\njava.util.concurrent.ThreadPoolExecutor$Worker.run(ThreadPoolExecutor.java:624)\njava.lang.Thread.run(Thread.java:748)\n",
     "output_type": "error",
     "traceback": [
      "\u001b[31m---------------------------------------------------------------------------\u001b[39m",
      "\u001b[31mException\u001b[39m                                 Traceback (most recent call last)",
      "\u001b[36mCell\u001b[39m\u001b[36m \u001b[39m\u001b[32mIn[3]\u001b[39m\u001b[32m, line 1\u001b[39m\n\u001b[32m----> \u001b[39m\u001b[32m1\u001b[39m core.get_position(), \u001b[43mcore\u001b[49m\u001b[43m.\u001b[49m\u001b[43mget_position\u001b[49m\u001b[43m(\u001b[49m\u001b[33;43m\"\u001b[39;49m\u001b[33;43mKBD101_Thor_Rotation\u001b[39;49m\u001b[33;43m\"\u001b[39;49m\u001b[43m)\u001b[49m\n",
      "\u001b[36mFile \u001b[39m\u001b[32mc:\\Users\\lociuser\\Codes\\smartpath\\smart-wsi-scanner2\\.venv\\Lib\\site-packages\\pyjavaz\\bridge.py:615\u001b[39m, in \u001b[36m_JavaClassFactory.create.<locals>.<lambda>\u001b[39m\u001b[34m(instance, signatures_list, *args)\u001b[39m\n\u001b[32m    609\u001b[39m params, methods_with_name, method_name_modified = _parse_arg_names(\n\u001b[32m    610\u001b[39m     methodSpecs, method_name, convert_camel_case\n\u001b[32m    611\u001b[39m )\n\u001b[32m    612\u001b[39m return_type = methods_with_name[\u001b[32m0\u001b[39m][\u001b[33m\"\u001b[39m\u001b[33mreturn-type\u001b[39m\u001b[33m\"\u001b[39m]\n\u001b[32m    613\u001b[39m fn = \u001b[38;5;28;01mlambda\u001b[39;00m instance, *args, signatures_list=\u001b[38;5;28mtuple\u001b[39m(\n\u001b[32m    614\u001b[39m     methods_with_name\n\u001b[32m--> \u001b[39m\u001b[32m615\u001b[39m ): \u001b[43minstance\u001b[49m\u001b[43m.\u001b[49m\u001b[43m_translate_call\u001b[49m\u001b[43m(\u001b[49m\n\u001b[32m    616\u001b[39m \u001b[43m    \u001b[49m\u001b[43msignatures_list\u001b[49m\u001b[43m,\u001b[49m\u001b[43m \u001b[49m\u001b[43margs\u001b[49m\u001b[43m,\u001b[49m\u001b[43m \u001b[49m\u001b[43mstatic\u001b[49m\u001b[43m=\u001b[49m\u001b[43m_java_class\u001b[49m\u001b[43m \u001b[49m\u001b[43m==\u001b[49m\u001b[43m \u001b[49m\u001b[33;43m\"\u001b[39;49m\u001b[33;43mjava.lang.Class\u001b[39;49m\u001b[33;43m\"\u001b[39;49m\n\u001b[32m    617\u001b[39m \u001b[43m\u001b[49m\u001b[43m)\u001b[49m\n\u001b[32m    618\u001b[39m fn.\u001b[34m__name__\u001b[39m = method_name_modified\n\u001b[32m    619\u001b[39m fn.\u001b[34m__doc__\u001b[39m = \u001b[33m\"\u001b[39m\u001b[38;5;132;01m{}\u001b[39;00m\u001b[33m.\u001b[39m\u001b[38;5;132;01m{}\u001b[39;00m\u001b[33m: A dynamically generated Java method.\u001b[39m\u001b[33m\"\u001b[39m.format(\n\u001b[32m    620\u001b[39m     _java_class, method_name_modified\n\u001b[32m    621\u001b[39m )\n",
      "\u001b[36mFile \u001b[39m\u001b[32mc:\\Users\\lociuser\\Codes\\smartpath\\smart-wsi-scanner2\\.venv\\Lib\\site-packages\\pyjavaz\\bridge.py:780\u001b[39m, in \u001b[36m_JavaObjectShadow._translate_call\u001b[39m\u001b[34m(self, method_specs, fn_args, static)\u001b[39m\n\u001b[32m    774\u001b[39m \u001b[38;5;66;03m# args are good, make call through socket, casting the correct type if needed (e.g. int to float)\u001b[39;00m\n\u001b[32m    775\u001b[39m message = {\u001b[33m\"\u001b[39m\u001b[33mcommand\u001b[39m\u001b[33m\"\u001b[39m: \u001b[33m\"\u001b[39m\u001b[33mrun-method\u001b[39m\u001b[33m\"\u001b[39m, \u001b[33m\"\u001b[39m\u001b[33mstatic\u001b[39m\u001b[33m\"\u001b[39m: static, \u001b[33m\"\u001b[39m\u001b[33mhash-code\u001b[39m\u001b[33m\"\u001b[39m: \u001b[38;5;28mself\u001b[39m._hash_code,\n\u001b[32m    776\u001b[39m            \u001b[33m\"\u001b[39m\u001b[33mjava_class_name\u001b[39m\u001b[33m\"\u001b[39m: \u001b[38;5;28mself\u001b[39m._java_class, \u001b[33m\"\u001b[39m\u001b[33mname\u001b[39m\u001b[33m\"\u001b[39m: valid_method_spec[\u001b[33m\"\u001b[39m\u001b[33mname\u001b[39m\u001b[33m\"\u001b[39m],\n\u001b[32m    777\u001b[39m            \u001b[33m\"\u001b[39m\u001b[33margument-types\u001b[39m\u001b[33m\"\u001b[39m: valid_method_spec[\u001b[33m\"\u001b[39m\u001b[33marguments\u001b[39m\u001b[33m\"\u001b[39m],\n\u001b[32m    778\u001b[39m            \u001b[33m\"\u001b[39m\u001b[33margument-deserialization-types\u001b[39m\u001b[33m\"\u001b[39m: deserialize_types,\n\u001b[32m    779\u001b[39m            \u001b[33m\"\u001b[39m\u001b[33marguments\u001b[39m\u001b[33m\"\u001b[39m: _package_arguments(valid_method_spec, fn_args)}\n\u001b[32m--> \u001b[39m\u001b[32m780\u001b[39m reply = \u001b[38;5;28;43mself\u001b[39;49m\u001b[43m.\u001b[49m\u001b[43m_send_and_receive\u001b[49m\u001b[43m(\u001b[49m\u001b[43mmessage\u001b[49m\u001b[43m)\u001b[49m\n\u001b[32m    781\u001b[39m \u001b[38;5;28;01mreturn\u001b[39;00m \u001b[38;5;28mself\u001b[39m._deserialize(reply)\n",
      "\u001b[36mFile \u001b[39m\u001b[32mc:\\Users\\lociuser\\Codes\\smartpath\\smart-wsi-scanner2\\.venv\\Lib\\site-packages\\pyjavaz\\bridge.py:722\u001b[39m, in \u001b[36m_JavaObjectShadow._send_and_receive\u001b[39m\u001b[34m(self, message, give_up_condition)\u001b[39m\n\u001b[32m    718\u001b[39m \u001b[38;5;28;01mdef\u001b[39;00m\u001b[38;5;250m \u001b[39m\u001b[34m_send_and_receive\u001b[39m(\u001b[38;5;28mself\u001b[39m, message, give_up_condition=\u001b[38;5;28;01mNone\u001b[39;00m):\n\u001b[32m    719\u001b[39m \u001b[38;5;250m    \u001b[39m\u001b[33;03m\"\"\"\u001b[39;00m\n\u001b[32m    720\u001b[39m \u001b[33;03m    Send message over the appropriate Bridge, and return the response\u001b[39;00m\n\u001b[32m    721\u001b[39m \u001b[33;03m    \"\"\"\u001b[39;00m\n\u001b[32m--> \u001b[39m\u001b[32m722\u001b[39m     \u001b[38;5;28;01mreturn\u001b[39;00m \u001b[38;5;28;43mself\u001b[39;49m\u001b[43m.\u001b[49m\u001b[43m_bridge\u001b[49m\u001b[43m.\u001b[49m\u001b[43msend_and_receive\u001b[49m\u001b[43m(\u001b[49m\u001b[43mmessage\u001b[49m\u001b[43m,\u001b[49m\u001b[43m \u001b[49m\u001b[43mgive_up_condition\u001b[49m\u001b[43m=\u001b[49m\u001b[43mgive_up_condition\u001b[49m\u001b[43m)\u001b[49m\n",
      "\u001b[36mFile \u001b[39m\u001b[32mc:\\Users\\lociuser\\Codes\\smartpath\\smart-wsi-scanner2\\.venv\\Lib\\site-packages\\pyjavaz\\bridge.py:447\u001b[39m, in \u001b[36mBridge.send_and_receive\u001b[39m\u001b[34m(self, message, timeout, give_up_condition)\u001b[39m\n\u001b[32m    445\u001b[39m     \u001b[38;5;28;01mcontinue\u001b[39;00m\n\u001b[32m    446\u001b[39m \u001b[38;5;28;01mif\u001b[39;00m \u001b[38;5;28misinstance\u001b[39m(response, \u001b[38;5;167;01mException\u001b[39;00m):\n\u001b[32m--> \u001b[39m\u001b[32m447\u001b[39m     \u001b[38;5;28;01mraise\u001b[39;00m response\n\u001b[32m    448\u001b[39m \u001b[38;5;28;01mreturn\u001b[39;00m response\n",
      "\u001b[36mFile \u001b[39m\u001b[32mc:\\Users\\lociuser\\Codes\\smartpath\\smart-wsi-scanner2\\.venv\\Lib\\site-packages\\pyjavaz\\bridge.py:366\u001b[39m, in \u001b[36mBridge._run_socket_thread\u001b[39m\u001b[34m(self)\u001b[39m\n\u001b[32m    364\u001b[39m         \u001b[38;5;28;01mcontinue\u001b[39;00m\n\u001b[32m    365\u001b[39m     socket.send(message)\n\u001b[32m--> \u001b[39m\u001b[32m366\u001b[39m     response = \u001b[43msocket\u001b[49m\u001b[43m.\u001b[49m\u001b[43mreceive\u001b[49m\u001b[43m(\u001b[49m\u001b[43m)\u001b[49m\n\u001b[32m    367\u001b[39m     \u001b[38;5;28mself\u001b[39m._response_queue.put(response)\n\u001b[32m    368\u001b[39m \u001b[38;5;28;01mexcept\u001b[39;00m Empty:\n",
      "\u001b[36mFile \u001b[39m\u001b[32mc:\\Users\\lociuser\\Codes\\smartpath\\smart-wsi-scanner2\\.venv\\Lib\\site-packages\\pyjavaz\\bridge.py:191\u001b[39m, in \u001b[36m_DataSocket.receive\u001b[39m\u001b[34m(self, timeout, suppress_debug_message)\u001b[39m\n\u001b[32m    189\u001b[39m \u001b[38;5;28;01mif\u001b[39;00m \u001b[38;5;28mself\u001b[39m._debug \u001b[38;5;129;01mand\u001b[39;00m \u001b[38;5;129;01mnot\u001b[39;00m suppress_debug_message:\n\u001b[32m    190\u001b[39m     logger.debug(\u001b[33m\"\u001b[39m\u001b[33mreceived: \u001b[39m\u001b[38;5;132;01m{}\u001b[39;00m\u001b[33m\"\u001b[39m.format(message))\n\u001b[32m--> \u001b[39m\u001b[32m191\u001b[39m \u001b[38;5;28;43mself\u001b[39;49m\u001b[43m.\u001b[49m\u001b[43m_check_exception\u001b[49m\u001b[43m(\u001b[49m\u001b[43mmessage\u001b[49m\u001b[43m)\u001b[49m\n\u001b[32m    192\u001b[39m \u001b[38;5;28;01mreturn\u001b[39;00m message\n",
      "\u001b[36mFile \u001b[39m\u001b[32mc:\\Users\\lociuser\\Codes\\smartpath\\smart-wsi-scanner2\\.venv\\Lib\\site-packages\\pyjavaz\\bridge.py:196\u001b[39m, in \u001b[36m_DataSocket._check_exception\u001b[39m\u001b[34m(self, response)\u001b[39m\n\u001b[32m    194\u001b[39m \u001b[38;5;28;01mdef\u001b[39;00m\u001b[38;5;250m \u001b[39m\u001b[34m_check_exception\u001b[39m(\u001b[38;5;28mself\u001b[39m, response):\n\u001b[32m    195\u001b[39m     \u001b[38;5;28;01mif\u001b[39;00m \u001b[33m\"\u001b[39m\u001b[33mtype\u001b[39m\u001b[33m\"\u001b[39m \u001b[38;5;129;01min\u001b[39;00m response \u001b[38;5;129;01mand\u001b[39;00m response[\u001b[33m\"\u001b[39m\u001b[33mtype\u001b[39m\u001b[33m\"\u001b[39m] == \u001b[33m\"\u001b[39m\u001b[33mexception\u001b[39m\u001b[33m\"\u001b[39m:\n\u001b[32m--> \u001b[39m\u001b[32m196\u001b[39m         \u001b[38;5;28;01mraise\u001b[39;00m \u001b[38;5;167;01mException\u001b[39;00m(response[\u001b[33m\"\u001b[39m\u001b[33mvalue\u001b[39m\u001b[33m\"\u001b[39m])\n",
      "\u001b[31mException\u001b[39m: java.lang.Exception: No device with label \"KBD101_Thor_Rotation\"\nmmcorej.MMCoreJJNI.CMMCore_getPosition__SWIG_0(Native Method)\nmmcorej.CMMCore.getPosition(CMMCore.java:1236)\nsun.reflect.NativeMethodAccessorImpl.invoke0(Native Method)\nsun.reflect.NativeMethodAccessorImpl.invoke(NativeMethodAccessorImpl.java:62)\nsun.reflect.DelegatingMethodAccessorImpl.invoke(DelegatingMethodAccessorImpl.java:43)\njava.lang.reflect.Method.invoke(Method.java:498)\norg.micromanager.pyjavaz.ZMQServer.runMethod(ZMQServer.java:431)\norg.micromanager.pyjavaz.ZMQServer.parseAndExecuteCommand(ZMQServer.java:511)\norg.micromanager.pyjavaz.ZMQServer.lambda$initialize$2(ZMQServer.java:121)\njava.util.concurrent.Executors$RunnableAdapter.call(Executors.java:511)\njava.util.concurrent.FutureTask.run(FutureTask.java:266)\njava.util.concurrent.ThreadPoolExecutor.runWorker(ThreadPoolExecutor.java:1149)\njava.util.concurrent.ThreadPoolExecutor$Worker.run(ThreadPoolExecutor.java:624)\njava.lang.Thread.run(Thread.java:748)\n"
     ]
    }
   ],
   "source": [
    "core.get_position(\"KBD101_Thor_Rotation\")\n",
    "stage_name = \"KBD101_28253598\""
   ]
  },
  {
   "cell_type": "code",
   "execution_count": null,
   "metadata": {},
   "outputs": [],
   "source": [
    "brushless = \"KBD101_Thor_Rotation\";\n",
    "print(\"Homing \" + brushless + \"...\");\n",
    "mmc.home(brushless);\n",
    "mmc.waitForDevice(brushless);\n",
    "// One more time, in case it failed the first time.\n",
    "mmc.home(brushless);\n",
    "mmc.waitForDevice(brushless);\n",
    "print(\"Motor homed at: \" + mmc.getPosition(brushless));"
   ]
  },
  {
   "cell_type": "code",
   "execution_count": null,
   "metadata": {},
   "outputs": [],
   "source": []
  },
  {
   "cell_type": "code",
   "execution_count": null,
   "metadata": {},
   "outputs": [],
   "source": []
  },
  {
   "cell_type": "code",
   "execution_count": null,
   "metadata": {},
   "outputs": [],
   "source": []
  },
  {
   "cell_type": "code",
   "execution_count": 12,
   "metadata": {},
   "outputs": [
    {
     "name": "stdout",
     "output_type": "stream",
     "text": [
      "not running\n"
     ]
    }
   ],
   "source": [
    "import platform\n",
    "import psutil\n",
    "\n",
    "if platform.system() != \"Windows\":\n",
    "    print(platform)\n",
    "\n",
    "for proc in psutil.process_iter(['name']):\n",
    "    try:\n",
    "        if \"ImageJ.exe\" in proc.info['name'] or \"Micro-Manager\" in proc.info['name']:\n",
    "            print(\"runing\")\n",
    "    except (psutil.NoSuchProcess, psutil.AccessDenied, psutil.ZombieProcess):\n",
    "        pass\n"
   ]
  },
  {
   "cell_type": "code",
   "execution_count": 21,
   "metadata": {},
   "outputs": [
    {
     "name": "stdout",
     "output_type": "stream",
     "text": [
      "javaw.exe\n"
     ]
    }
   ],
   "source": [
    "for proc in psutil.process_iter(['name']):\n",
    "    name = proc.info['name']\n",
    "    if name.startswith('j'):print(name); break\n",
    "    "
   ]
  },
  {
   "cell_type": "code",
   "execution_count": 30,
   "metadata": {},
   "outputs": [
    {
     "data": {
      "text/plain": [
       "True"
      ]
     },
     "execution_count": 30,
     "metadata": {},
     "output_type": "execute_result"
    }
   ],
   "source": []
  },
  {
   "cell_type": "code",
   "execution_count": null,
   "metadata": {},
   "outputs": [],
   "source": []
  }
 ],
 "metadata": {
  "kernelspec": {
   "display_name": ".venv",
   "language": "python",
   "name": "python3"
  },
  "language_info": {
   "codemirror_mode": {
    "name": "ipython",
    "version": 3
   },
   "file_extension": ".py",
   "mimetype": "text/x-python",
   "name": "python",
   "nbconvert_exporter": "python",
   "pygments_lexer": "ipython3",
   "version": "3.12.8"
  }
 },
 "nbformat": 4,
 "nbformat_minor": 2
}
