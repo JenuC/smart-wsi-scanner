{
 "cells": [
  {
   "cell_type": "code",
   "execution_count": 1,
   "metadata": {},
   "outputs": [],
   "source": [
    "import smart_wsi_scanner as sws"
   ]
  },
  {
   "cell_type": "code",
   "execution_count": 2,
   "metadata": {},
   "outputs": [],
   "source": [
    "from smart_wsi_scanner.smartpath import init_pycromanager\n",
    "core, studio = init_pycromanager()"
   ]
  },
  {
   "cell_type": "code",
   "execution_count": 10,
   "metadata": {},
   "outputs": [],
   "source": [
    "if core.get_property(\"MicroPublisher6\",\"Color\")==\"OFF\":\n",
    "    core.set_property(\"MicroPublisher6\",\"Color\",\"ON\")\n",
    "if core.get_property(\"MicroPublisher6\",\"Color - Algorithm CFA\") != \"G-R-B-G\":\n",
    "    core.set_property(\"MicroPublisher6\",\"Color - Algorithm CFA\", \"G-R-B-G\")\n"
   ]
  },
  {
   "cell_type": "code",
   "execution_count": null,
   "metadata": {},
   "outputs": [],
   "source": [
    "## setting one mode of operation : 0deg, 10x \n",
    "\n",
    "ConfigGroup,ColorCam,ColorOn 10x 0deg,MicroPublisher6,Color - Blue scale,1.0000\n",
    "ConfigGroup,ColorCam,ColorOn 10x 0deg,MicroPublisher6,Color - Green scale,1.1691\n",
    "ConfigGroup,ColorCam,ColorOn 10x 0deg,MicroPublisher6,Color - Red scale,1.8056\n",
    "ConfigGroup,ColorCam,ColorOn 10x 0deg,MicroPublisher6,Exposure,500.0000\n",
    "ConfigGroup,ColorCam,ColorOn 10x 0deg,DObjective,Label,10x 0.3"
   ]
  },
  {
   "cell_type": "code",
   "execution_count": null,
   "metadata": {},
   "outputs": [],
   "source": []
  },
  {
   "cell_type": "code",
   "execution_count": null,
   "metadata": {},
   "outputs": [],
   "source": []
  },
  {
   "cell_type": "code",
   "execution_count": null,
   "metadata": {},
   "outputs": [],
   "source": []
  },
  {
   "cell_type": "code",
   "execution_count": null,
   "metadata": {},
   "outputs": [],
   "source": []
  },
  {
   "cell_type": "code",
   "execution_count": null,
   "metadata": {},
   "outputs": [],
   "source": []
  },
  {
   "cell_type": "code",
   "execution_count": null,
   "metadata": {},
   "outputs": [],
   "source": []
  },
  {
   "cell_type": "code",
   "execution_count": 12,
   "metadata": {},
   "outputs": [
    {
     "name": "stdout",
     "output_type": "stream",
     "text": [
      "not running\n"
     ]
    }
   ],
   "source": [
    "import platform\n",
    "import psutil\n",
    "\n",
    "if platform.system() != \"Windows\":\n",
    "    print(platform)\n",
    "\n",
    "for proc in psutil.process_iter(['name']):\n",
    "    try:\n",
    "        if \"ImageJ.exe\" in proc.info['name'] or \"Micro-Manager\" in proc.info['name']:\n",
    "            print(\"runing\")\n",
    "    except (psutil.NoSuchProcess, psutil.AccessDenied, psutil.ZombieProcess):\n",
    "        pass\n"
   ]
  },
  {
   "cell_type": "code",
   "execution_count": 21,
   "metadata": {},
   "outputs": [
    {
     "name": "stdout",
     "output_type": "stream",
     "text": [
      "javaw.exe\n"
     ]
    }
   ],
   "source": [
    "for proc in psutil.process_iter(['name']):\n",
    "    name = proc.info['name']\n",
    "    if name.startswith('j'):print(name); break\n",
    "    "
   ]
  },
  {
   "cell_type": "code",
   "execution_count": 30,
   "metadata": {},
   "outputs": [
    {
     "data": {
      "text/plain": [
       "True"
      ]
     },
     "execution_count": 30,
     "metadata": {},
     "output_type": "execute_result"
    }
   ],
   "source": []
  },
  {
   "cell_type": "code",
   "execution_count": null,
   "metadata": {},
   "outputs": [],
   "source": []
  }
 ],
 "metadata": {
  "kernelspec": {
   "display_name": ".venv",
   "language": "python",
   "name": "python3"
  },
  "language_info": {
   "codemirror_mode": {
    "name": "ipython",
    "version": 3
   },
   "file_extension": ".py",
   "mimetype": "text/x-python",
   "name": "python",
   "nbconvert_exporter": "python",
   "pygments_lexer": "ipython3",
   "version": "3.12.10"
  }
 },
 "nbformat": 4,
 "nbformat_minor": 2
}
