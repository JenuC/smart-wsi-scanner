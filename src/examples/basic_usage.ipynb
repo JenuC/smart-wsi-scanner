{
 "cells": [
  {
   "cell_type": "code",
   "execution_count": 1,
   "metadata": {},
   "outputs": [],
   "source": [
    "import smart_wsi_scanner as sws"
   ]
  },
  {
   "cell_type": "code",
   "execution_count": 2,
   "metadata": {},
   "outputs": [],
   "source": [
    "from smart_wsi_scanner.smartpath import init_pycromanager\n",
    "core, studio = init_pycromanager()"
   ]
  },
  {
   "cell_type": "code",
   "execution_count": 10,
   "metadata": {},
   "outputs": [],
   "source": [
    "from smart_wsi_scanner.smartpath import init_pycromanager\n",
    "core, studio = init_pycromanager()\n",
    "if core.get_property(\"MicroPublisher6\",\"Color\")==\"OFF\":\n",
    "    core.set_property(\"MicroPublisher6\",\"Color\",\"ON\")\n",
    "if core.get_property(\"MicroPublisher6\",\"Color - Algorithm CFA\") != \"G-R-B-G\":\n",
    "    core.set_property(\"MicroPublisher6\",\"Color - Algorithm CFA\", \"G-R-B-G\")\n"
   ]
  },
  {
   "cell_type": "code",
   "execution_count": null,
   "metadata": {},
   "outputs": [],
   "source": [
    "## setting one mode of operation : 0deg, 10x \n",
    "\n",
    "ConfigGroup,ColorCam,ColorOn 10x 0deg,MicroPublisher6,Color - Blue scale,1.0000\n",
    "ConfigGroup,ColorCam,ColorOn 10x 0deg,MicroPublisher6,Color - Green scale,1.1691\n",
    "ConfigGroup,ColorCam,ColorOn 10x 0deg,MicroPublisher6,Color - Red scale,1.8056\n",
    "ConfigGroup,ColorCam,ColorOn 10x 0deg,MicroPublisher6,Exposure,500.0000\n",
    "ConfigGroup,ColorCam,ColorOn 10x 0deg,DObjective,Label,10x 0.3"
   ]
  },
  {
   "cell_type": "code",
   "execution_count": 5,
   "metadata": {},
   "outputs": [
    {
     "name": "stdout",
     "output_type": "stream",
     "text": [
      "Skipping preset Preset: Startup due to error: ColorPreset.__init__() missing 5 required positional arguments: 'color_algorithm_cfa', 'color_blue_scale', 'color_green_scale', 'color_red_scale', and 'exposure'\n",
      "Skipping preset Preset: 10x 0.3 due to error: ColorPreset.__init__() missing 6 required positional arguments: 'color', 'color_algorithm_cfa', 'color_blue_scale', 'color_green_scale', 'color_red_scale', and 'exposure'\n",
      "Skipping preset Preset: 40x 0.5 red Pol due to error: ColorPreset.__init__() missing 6 required positional arguments: 'color', 'color_algorithm_cfa', 'color_blue_scale', 'color_green_scale', 'color_red_scale', and 'exposure'\n",
      "Skipping preset Preset: 20x 0.5 due to error: ColorPreset.__init__() missing 6 required positional arguments: 'color', 'color_algorithm_cfa', 'color_blue_scale', 'color_green_scale', 'color_red_scale', and 'exposure'\n",
      "Skipping preset Preset: 40x 0.75 due to error: ColorPreset.__init__() missing 6 required positional arguments: 'color', 'color_algorithm_cfa', 'color_blue_scale', 'color_green_scale', 'color_red_scale', and 'exposure'\n",
      "Skipping preset Preset: 20x 0.5 red Pol due to error: ColorPreset.__init__() missing 6 required positional arguments: 'color', 'color_algorithm_cfa', 'color_blue_scale', 'color_green_scale', 'color_red_scale', and 'exposure'\n",
      "Skipping preset Preset: 40xAdapter0.5 due to error: ColorPreset.__init__() missing 6 required positional arguments: 'color', 'color_algorithm_cfa', 'color_blue_scale', 'color_green_scale', 'color_red_scale', and 'exposure'\n",
      "ColorPreset(name='Preset: ColorOn 10x 5deg', color='ON', color_algorithm_cfa='G-B-R-G', color_blue_scale=2.4344, color_green_scale=1.0, color_red_scale=1.1621, exposure=200.0, objective_label='10x 0.3')\n",
      "ColorPreset(name='Preset: ColorOn 20x 0deg', color='ON', color_algorithm_cfa='G-B-R-G', color_blue_scale=2.2428, color_green_scale=1.014, color_red_scale=1.0, exposure=200.0, objective_label='20x 0.5')\n",
      "ColorPreset(name='Preset: ColorOn 10x 0deg', color='ON', color_algorithm_cfa='G-R-B-G', color_blue_scale=1.0, color_green_scale=1.1691, color_red_scale=1.8056, exposure=500.0, objective_label='10x 0.3')\n",
      "ColorPreset(name='Preset: ColorOn 40x 5deg', color='ON', color_algorithm_cfa='G-B-R-G', color_blue_scale=2.8488, color_green_scale=1.2352, color_red_scale=1.0, exposure=500.0, objective_label='40x 0.75')\n",
      "ColorPreset(name='Preset: ColorOn 10x 50deg', color='ON', color_algorithm_cfa='G-B-R-G', color_blue_scale=3.7246, color_green_scale=1.0, color_red_scale=1.0712, exposure=4.0, objective_label='10x 0.3')\n",
      "ColorPreset(name='Preset: ColorOn 40x 50deg', color='ON', color_algorithm_cfa='G-B-R-G', color_blue_scale=4.0219, color_green_scale=1.0, color_red_scale=1.0146, exposure=10.0, objective_label='40x 0.75')\n",
      "ColorPreset(name='Preset: ColorOn 40x 0deg', color='ON', color_algorithm_cfa='G-B-R-G', color_blue_scale=2.2428, color_green_scale=1.014, color_red_scale=1.0, exposure=1000.0, objective_label='20x 0.5')\n",
      "ColorPreset(name='Preset: ColorOn 20x 50deg', color='ON', color_algorithm_cfa='G-B-R-G', color_blue_scale=4.1121, color_green_scale=1.1278, color_red_scale=1.0, exposure=3.5, objective_label='20x 0.5')\n",
      "ColorPreset(name='Preset: Raw', color='OFF', color_algorithm_cfa='G-R-B-G', color_blue_scale=1.0, color_green_scale=1.0, color_red_scale=1.0, exposure=131.0, objective_label='20x 0.5')\n",
      "ColorPreset(name='Preset: ColorOn 20x 5deg', color='ON', color_algorithm_cfa='G-B-R-G', color_blue_scale=2.6719, color_green_scale=1.1167, color_red_scale=1.0, exposure=150.0, objective_label='20x 0.5')\n"
     ]
    }
   ],
   "source": [
    "import csv\n",
    "from dataclasses import dataclass\n",
    "from typing import List\n",
    "\n",
    "@dataclass\n",
    "class ColorPreset:\n",
    "    name: str\n",
    "    color: str\n",
    "    color_algorithm_cfa: str\n",
    "    color_blue_scale: float\n",
    "    color_green_scale: float\n",
    "    color_red_scale: float\n",
    "    exposure: float\n",
    "    objective_label: str\n",
    "\n",
    "def parse_all_presets(cfg_path: str) -> List[ColorPreset]:\n",
    "    presets = []\n",
    "    current_name = None\n",
    "    current_values = {}\n",
    "    with open(cfg_path, newline='') as csvfile:\n",
    "        for line in csvfile:\n",
    "            line = line.strip()\n",
    "            if not line:\n",
    "                continue\n",
    "            # Detect preset header\n",
    "            if line.startswith(\"#\") or (line.startswith(\"[\") and line.endswith(\"]\")):\n",
    "                # Save previous preset if exists\n",
    "                if current_name and current_values:\n",
    "                    try:\n",
    "                        presets.append(ColorPreset(name=current_name, **current_values))\n",
    "                    except Exception as e:\n",
    "                        print(f\"Skipping preset {current_name} due to error: {e}\")\n",
    "                # Start new preset\n",
    "                current_name = line.strip(\"#[] \").strip()\n",
    "                current_values = {}\n",
    "                continue\n",
    "            # Parse CSV line\n",
    "            row = next(csv.reader([line]))\n",
    "            if len(row) < 6:\n",
    "                continue\n",
    "            prop = row[4].lower().replace(\" \", \"_\").replace(\"-\", \"_\")\n",
    "            value = row[5]\n",
    "            # Map config property to dataclass field\n",
    "            if prop == \"color\":\n",
    "                current_values[\"color\"] = value\n",
    "            elif prop == \"color___algorithm_cfa\":\n",
    "                current_values[\"color_algorithm_cfa\"] = value\n",
    "            elif prop == \"color___blue_scale\":\n",
    "                current_values[\"color_blue_scale\"] = float(value)\n",
    "            elif prop == \"color___green_scale\":\n",
    "                current_values[\"color_green_scale\"] = float(value)\n",
    "            elif prop == \"color___red_scale\":\n",
    "                current_values[\"color_red_scale\"] = float(value)\n",
    "            elif prop == \"exposure\":\n",
    "                current_values[\"exposure\"] = float(value)\n",
    "            elif prop == \"label\":\n",
    "                current_values[\"objective_label\"] = value\n",
    "        # Save last preset\n",
    "        if current_name and current_values:\n",
    "            try:\n",
    "                presets.append(ColorPreset(name=current_name, **current_values))\n",
    "            except Exception as e:\n",
    "                print(f\"Skipping preset {current_name} due to error: {e}\")\n",
    "    return presets\n",
    "\n",
    "# Usage\n",
    "presets = parse_all_presets(\"../smart_wsi_scanner/configurations/config_PPM.cfg\")\n",
    "for preset in presets:\n",
    "    print(preset)"
   ]
  },
  {
   "cell_type": "code",
   "execution_count": 6,
   "metadata": {},
   "outputs": [
    {
     "data": {
      "text/plain": [
       "[ColorPreset(name='Preset: ColorOn 10x 5deg', color='ON', color_algorithm_cfa='G-B-R-G', color_blue_scale=2.4344, color_green_scale=1.0, color_red_scale=1.1621, exposure=200.0, objective_label='10x 0.3'),\n",
       " ColorPreset(name='Preset: ColorOn 20x 0deg', color='ON', color_algorithm_cfa='G-B-R-G', color_blue_scale=2.2428, color_green_scale=1.014, color_red_scale=1.0, exposure=200.0, objective_label='20x 0.5'),\n",
       " ColorPreset(name='Preset: ColorOn 10x 0deg', color='ON', color_algorithm_cfa='G-R-B-G', color_blue_scale=1.0, color_green_scale=1.1691, color_red_scale=1.8056, exposure=500.0, objective_label='10x 0.3'),\n",
       " ColorPreset(name='Preset: ColorOn 40x 5deg', color='ON', color_algorithm_cfa='G-B-R-G', color_blue_scale=2.8488, color_green_scale=1.2352, color_red_scale=1.0, exposure=500.0, objective_label='40x 0.75'),\n",
       " ColorPreset(name='Preset: ColorOn 10x 50deg', color='ON', color_algorithm_cfa='G-B-R-G', color_blue_scale=3.7246, color_green_scale=1.0, color_red_scale=1.0712, exposure=4.0, objective_label='10x 0.3'),\n",
       " ColorPreset(name='Preset: ColorOn 40x 50deg', color='ON', color_algorithm_cfa='G-B-R-G', color_blue_scale=4.0219, color_green_scale=1.0, color_red_scale=1.0146, exposure=10.0, objective_label='40x 0.75'),\n",
       " ColorPreset(name='Preset: ColorOn 40x 0deg', color='ON', color_algorithm_cfa='G-B-R-G', color_blue_scale=2.2428, color_green_scale=1.014, color_red_scale=1.0, exposure=1000.0, objective_label='20x 0.5'),\n",
       " ColorPreset(name='Preset: ColorOn 20x 50deg', color='ON', color_algorithm_cfa='G-B-R-G', color_blue_scale=4.1121, color_green_scale=1.1278, color_red_scale=1.0, exposure=3.5, objective_label='20x 0.5'),\n",
       " ColorPreset(name='Preset: Raw', color='OFF', color_algorithm_cfa='G-R-B-G', color_blue_scale=1.0, color_green_scale=1.0, color_red_scale=1.0, exposure=131.0, objective_label='20x 0.5'),\n",
       " ColorPreset(name='Preset: ColorOn 20x 5deg', color='ON', color_algorithm_cfa='G-B-R-G', color_blue_scale=2.6719, color_green_scale=1.1167, color_red_scale=1.0, exposure=150.0, objective_label='20x 0.5')]"
      ]
     },
     "execution_count": 6,
     "metadata": {},
     "output_type": "execute_result"
    }
   ],
   "source": [
    "presets"
   ]
  },
  {
   "cell_type": "code",
   "execution_count": null,
   "metadata": {},
   "outputs": [],
   "source": []
  },
  {
   "cell_type": "code",
   "execution_count": null,
   "metadata": {},
   "outputs": [],
   "source": []
  },
  {
   "cell_type": "code",
   "execution_count": null,
   "metadata": {},
   "outputs": [],
   "source": []
  },
  {
   "cell_type": "code",
   "execution_count": null,
   "metadata": {},
   "outputs": [],
   "source": []
  },
  {
   "cell_type": "code",
   "execution_count": 12,
   "metadata": {},
   "outputs": [
    {
     "name": "stdout",
     "output_type": "stream",
     "text": [
      "not running\n"
     ]
    }
   ],
   "source": [
    "import platform\n",
    "import psutil\n",
    "\n",
    "if platform.system() != \"Windows\":\n",
    "    print(platform)\n",
    "\n",
    "for proc in psutil.process_iter(['name']):\n",
    "    try:\n",
    "        if \"ImageJ.exe\" in proc.info['name'] or \"Micro-Manager\" in proc.info['name']:\n",
    "            print(\"runing\")\n",
    "    except (psutil.NoSuchProcess, psutil.AccessDenied, psutil.ZombieProcess):\n",
    "        pass\n"
   ]
  },
  {
   "cell_type": "code",
   "execution_count": 21,
   "metadata": {},
   "outputs": [
    {
     "name": "stdout",
     "output_type": "stream",
     "text": [
      "javaw.exe\n"
     ]
    }
   ],
   "source": [
    "for proc in psutil.process_iter(['name']):\n",
    "    name = proc.info['name']\n",
    "    if name.startswith('j'):print(name); break\n",
    "    "
   ]
  },
  {
   "cell_type": "code",
   "execution_count": 30,
   "metadata": {},
   "outputs": [
    {
     "data": {
      "text/plain": [
       "True"
      ]
     },
     "execution_count": 30,
     "metadata": {},
     "output_type": "execute_result"
    }
   ],
   "source": []
  },
  {
   "cell_type": "code",
   "execution_count": null,
   "metadata": {},
   "outputs": [],
   "source": []
  }
 ],
 "metadata": {
  "kernelspec": {
   "display_name": ".venv",
   "language": "python",
   "name": "python3"
  },
  "language_info": {
   "codemirror_mode": {
    "name": "ipython",
    "version": 3
   },
   "file_extension": ".py",
   "mimetype": "text/x-python",
   "name": "python",
   "nbconvert_exporter": "python",
   "pygments_lexer": "ipython3",
   "version": "3.12.8"
  }
 },
 "nbformat": 4,
 "nbformat_minor": 2
}
