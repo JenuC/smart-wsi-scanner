{
 "cells": [
  {
   "cell_type": "code",
   "execution_count": 1,
   "id": "4592f2b0-8392-436c-8be2-61dfc3e5d694",
   "metadata": {},
   "outputs": [],
   "source": [
    "from pycromanager import Core, Studio\n",
    "from smartpath_libraries.sp_acquisition import SPAcquisition"
   ]
  },
  {
   "cell_type": "code",
   "execution_count": 2,
   "id": "cbc25286-645b-4511-903f-e1ba342c9673",
   "metadata": {},
   "outputs": [],
   "source": [
    "def init_pycromanager():\n",
    "    from pycromanager import Core, Studio\n",
    "    core = Core()\n",
    "    studio = Studio()\n",
    "    core.set_timeout_ms(20000)\n",
    "    return core, studio\n",
    "core,studio = init_pycromanager()"
   ]
  },
  {
   "cell_type": "code",
   "execution_count": 3,
   "id": "2ab78b49-6ca6-4f28-8c2b-987cd63a50b3",
   "metadata": {},
   "outputs": [],
   "source": [
    "## config : default config only:  changed will be saved to expt folder\n",
    "import yaml\n",
    "## read image: background correction\n",
    "from skimage import io as skio\n",
    "# pos list\n",
    "import pickle"
   ]
  },
  {
   "cell_type": "code",
   "execution_count": 4,
   "id": "7e8b49e6-f4d7-4923-b855-edc7e3a53979",
   "metadata": {},
   "outputs": [],
   "source": [
    "## Config Loading\n",
    "config = yaml.load(open(\"config.yaml\", \"r\"), Loader=yaml.FullLoader)\n",
    "config = {**config['user_config'], **config['model_config'], **config['hard_config']}\n",
    "lsm_pixel_size_base = config['pixel-size-shg-base']\n",
    "bf_4x_pixel_size_base = config['pixel-size-bf-4x']\n",
    "bf_20x_pixel_size_base = config['pixel-size-bf-20x']\n",
    "camera_resolution_base = config['camera-resolution']"
   ]
  },
  {
   "cell_type": "code",
   "execution_count": 5,
   "id": "9de4975b-d07f-467e-8629-b672ddaa11d5",
   "metadata": {},
   "outputs": [],
   "source": [
    "## User configuration block\n",
    "save_path = 'data/acquisition' # do not change\n",
    "acq_name = 'fail_test2' # current session name No Spaces in name! Use - or _ No `ome` in name!\n",
    "slide_box = [5000, 9000, 9000, 14000] # [bottom left corner, and top right corner]\n",
    "brightfield_4x_background_fname = 'data/presets/BG_4x.tiff' # give a default 4x background image\n",
    "brightfield_20x_background_fname = 'data/presets/BG_20x.tiff' # give a default 20x background image"
   ]
  },
  {
   "cell_type": "code",
   "execution_count": 6,
   "id": "8cebaeee-55b6-4ca6-868d-38365de4319f",
   "metadata": {},
   "outputs": [
    {
     "name": "stdout",
     "output_type": "stream",
     "text": [
      "Loaded LSM presets.\n"
     ]
    }
   ],
   "source": [
    "sp_acq = SPAcquisition(\n",
    "    config=config,\n",
    "    mmcore=core, \n",
    "    mmstudio=studio,\n",
    "    bf_4x_bg=skio.imread(brightfield_4x_background_fname), \n",
    "    bf_20x_bg=skio.imread(brightfield_20x_background_fname), \n",
    "    )"
   ]
  },
  {
   "cell_type": "code",
   "execution_count": 11,
   "id": "0deb3647-a6b2-4c13-9179-983e65640b1b",
   "metadata": {},
   "outputs": [],
   "source": [
    "slide_box = [25000, 16000, 28000, 20000]\n",
    "sp_acq.update_slide_box(slide_box)\n",
    "position_list_4x = sp_acq.generate_grid(mag='4x', overlap=50)\n",
    "sp_acq.position_list_4x = position_list_4x"
   ]
  },
  {
   "cell_type": "code",
   "execution_count": 13,
   "id": "b762eb17-0370-4217-80e0-86f85753346f",
   "metadata": {},
   "outputs": [
    {
     "data": {
      "text/plain": [
       "array([[[25000.  , 16000.  ],\n",
       "        [26482.91, 16000.  ]],\n",
       "\n",
       "       [[26482.91, 17093.95],\n",
       "        [25000.  , 17093.95]],\n",
       "\n",
       "       [[25000.  , 18187.9 ],\n",
       "        [26482.91, 18187.9 ]]])"
      ]
     },
     "execution_count": 13,
     "metadata": {},
     "output_type": "execute_result"
    }
   ],
   "source": [
    "position_list_4x"
   ]
  },
  {
   "cell_type": "code",
   "execution_count": 14,
   "id": "b856a81c-7a89-4ca4-9c15-d52f064fc8b4",
   "metadata": {},
   "outputs": [
    {
     "data": {
      "text/plain": [
       "3"
      ]
     },
     "execution_count": 14,
     "metadata": {},
     "output_type": "execute_result"
    }
   ],
   "source": [
    "position_list_4x.ndim"
   ]
  },
  {
   "cell_type": "code",
   "execution_count": 15,
   "id": "0faddf33-556a-4a89-a8ef-329154c2c208",
   "metadata": {},
   "outputs": [
    {
     "name": "stdout",
     "output_type": "stream",
     "text": [
      "Imaging objective set as 4x\n",
      "Imaging objective set as 4x\n",
      "Imaging mode set as Brightfield\n"
     ]
    }
   ],
   "source": [
    "acq_name_4x = acq_name + '-4x-bf' \n",
    "sp_acq.switch_objective(mag='4x')\n",
    "sp_acq.switch_mod(mod='bf')"
   ]
  },
  {
   "cell_type": "code",
   "execution_count": 16,
   "id": "a3443091-dd8a-4940-bb66-65e1a5600843",
   "metadata": {},
   "outputs": [],
   "source": [
    "sp_acq.update_focus_presets(mag='4x', mod='bf') # update focus preset\n",
    "sp_acq.config['autofocus-speed'] = 4 # default is 4 ## `1-6`, the larger the faster, but potentially worse autofocusing resuls."
   ]
  },
  {
   "cell_type": "code",
   "execution_count": 17,
   "id": "dce50896-5cf0-4fb2-86c7-8776417559c0",
   "metadata": {},
   "outputs": [],
   "source": [
    "core.set_shutter_open(True)\n",
    "core.set_auto_shutter(False)\n",
    "core.set_shutter_open(True)"
   ]
  },
  {
   "cell_type": "code",
   "execution_count": 18,
   "id": "f03068b1-fcd5-4748-8d04-f5d0121ca12c",
   "metadata": {},
   "outputs": [
    {
     "name": "stderr",
     "output_type": "stream",
     "text": [
      "100%|██████████| 6/6 [00:13<00:00,  2.29s/it]"
     ]
    },
    {
     "name": "stdout",
     "output_type": "stream",
     "text": [
      " 6/6 tiles done"
     ]
    },
    {
     "name": "stderr",
     "output_type": "stream",
     "text": [
      "\n"
     ]
    }
   ],
   "source": [
    "results_4x = sp_acq.whole_slide_bf_scan(\n",
    "    save_path, \n",
    "    acq_name_4x, \n",
    "    position_list_4x.reshape(position_list_4x.shape[0]*position_list_4x.shape[1], -1), \n",
    "    mag='4x',\n",
    "    focus_dive=True,\n",
    "    estimate_background=False,\n",
    "    )"
   ]
  },
  {
   "cell_type": "code",
   "execution_count": 19,
   "id": "b44fb30f-4e24-432b-b0a6-b950fec1dd62",
   "metadata": {},
   "outputs": [],
   "source": [
    "stitch_folder = r'C:\\Users\\lociuser\\Codes\\smart-wsi-scanner\\data\\acquisition\\fail_test2-4x-bf_1'\n",
    "position_list = position_list_4x\n",
    "pixel_size = config['pixel-size-bf-4x']"
   ]
  },
  {
   "cell_type": "code",
   "execution_count": 17,
   "id": "299fe867-8964-42d2-9261-a1d2f0a2c035",
   "metadata": {},
   "outputs": [],
   "source": [
    "import os"
   ]
  },
  {
   "cell_type": "code",
   "execution_count": null,
   "id": "8266a305-26e8-468e-ba3b-1e8c209f2056",
   "metadata": {},
   "outputs": [],
   "source": []
  },
  {
   "cell_type": "code",
   "execution_count": 28,
   "id": "b9ddb4f6-0bd6-4f1e-9151-42872b3703d4",
   "metadata": {},
   "outputs": [
    {
     "data": {
      "text/plain": [
       "(4, 2, 2)"
      ]
     },
     "execution_count": 28,
     "metadata": {},
     "output_type": "execute_result"
    }
   ],
   "source": [
    "position_list.shape"
   ]
  },
  {
   "cell_type": "code",
   "execution_count": 37,
   "id": "0590f718-2b88-40fc-b1e7-07dc94c3e3ee",
   "metadata": {},
   "outputs": [],
   "source": [
    "import numpy as np\n",
    "position_list = np.reshape(position_list,[4*2,2])"
   ]
  },
  {
   "cell_type": "code",
   "execution_count": 20,
   "id": "3b315dd2-c229-416e-9e28-5f573062224e",
   "metadata": {},
   "outputs": [
    {
     "name": "stdout",
     "output_type": "stream",
     "text": [
      "[[25000.   16000.  ]\n",
      " [26482.91 16000.  ]]\n",
      "[[26482.91 17093.95]\n",
      " [25000.   17093.95]]\n",
      "[[25000.   18187.9 ]\n",
      " [26482.91 18187.9 ]]\n"
     ]
    }
   ],
   "source": [
    "for pos in range(position_list.shape[0]):\n",
    "    #x = int(position_list[pos][0] / pixel_size)\n",
    "    #y = int(position_list[pos][1] / pixel_size)\n",
    "    #print('{}.tiff; ; ({}, {})'.format(pos, x, y), file=text_file)\n",
    "    print(position_list[pos])"
   ]
  },
  {
   "cell_type": "code",
   "execution_count": 21,
   "id": "6acaa0de-9dee-44e8-873c-2e0157aa7eaa",
   "metadata": {},
   "outputs": [],
   "source": [
    "import glob\n",
    "import pathlib\n",
    "import shutil"
   ]
  },
  {
   "cell_type": "code",
   "execution_count": 22,
   "id": "c62139a8-4b4c-4a90-bff2-4abd0428684b",
   "metadata": {},
   "outputs": [],
   "source": [
    "for fn in glob.glob(r'C:\\Users\\lociuser\\Codes\\smart-wsi-scanner\\data\\acquisition\\fail_test2-4x-bf_1\\*.tif'):\n",
    "    fname = pathlib.Path(fn).name\n",
    "    nfname = fname.split('-')[0]+'.tif'\n",
    "    #print(nfname)\n",
    "    nfn = fn.replace(fname,nfname)\n",
    "    shutil.copy(fn,nfn)"
   ]
  },
  {
   "cell_type": "code",
   "execution_count": 30,
   "id": "cb727fee",
   "metadata": {},
   "outputs": [],
   "source": [
    "import os\n",
    "import numpy as np"
   ]
  },
  {
   "cell_type": "code",
   "execution_count": 28,
   "id": "df623e67",
   "metadata": {},
   "outputs": [
    {
     "data": {
      "text/plain": [
       "array([[[25000.  , 16000.  ],\n",
       "        [26482.91, 16000.  ]],\n",
       "\n",
       "       [[26482.91, 17093.95],\n",
       "        [25000.  , 17093.95]],\n",
       "\n",
       "       [[25000.  , 18187.9 ],\n",
       "        [26482.91, 18187.9 ]]])"
      ]
     },
     "execution_count": 28,
     "metadata": {},
     "output_type": "execute_result"
    }
   ],
   "source": [
    "position_list"
   ]
  },
  {
   "cell_type": "code",
   "execution_count": 31,
   "id": "84c71ae7",
   "metadata": {},
   "outputs": [],
   "source": [
    "if position_list.ndim == 3:\n",
    "    p1, p2, p3 = position_list.shape\n",
    "    position_list = np.reshape(position_list, [p1 * p2, p3])"
   ]
  },
  {
   "cell_type": "code",
   "execution_count": 32,
   "id": "b5992c62-fb10-4ea1-bf78-bb25149b793b",
   "metadata": {},
   "outputs": [],
   "source": [
    "with open(os.path.join(stitch_folder, \"TileConfiguration.txt\"), \"w\") as text_file:\n",
    "    print(\"dim = {}\".format(2), file=text_file)\n",
    "    for pos in range(position_list.shape[0]):\n",
    "        x = int(position_list[pos][0] / pixel_size)\n",
    "        y = int(position_list[pos][1] / pixel_size)\n",
    "        print(\"{}.tif; ; ({}, {})\".format(pos, x, y), file=text_file)"
   ]
  },
  {
   "cell_type": "code",
   "execution_count": 38,
   "id": "eb0c505e",
   "metadata": {},
   "outputs": [
    {
     "data": {
      "text/plain": [
       "'C:\\\\Users\\\\lociuser\\\\Codes\\\\smart-wsi-scanner\\\\data\\\\acquisition\\\\fail_test2-4x-bf_1'"
      ]
     },
     "execution_count": 38,
     "metadata": {},
     "output_type": "execute_result"
    }
   ],
   "source": [
    "stitch_folder"
   ]
  },
  {
   "cell_type": "code",
   "execution_count": 41,
   "id": "37e6a862-c837-4840-b15f-210f1fa62a45",
   "metadata": {},
   "outputs": [
    {
     "name": "stdout",
     "output_type": "stream",
     "text": [
      "6\n"
     ]
    }
   ],
   "source": [
    "image_list = glob.glob(os.path.join(stitch_folder, r'stitch\\*.tif'))\n",
    "if len(image_list) == 0:\n",
    "    if not os.path.exists(os.path.join(stitch_folder, \"stitch\")):\n",
    "        os.mkdir(os.path.join(stitch_folder, \"stitch\"))\n",
    "    shutil.copy(os.path.join(stitch_folder, \"TileConfiguration.txt\"), os.path.join(stitch_folder, \"stitch\\TileConfiguration.txt\"))\n",
    "    for pos in range(position_list.shape[0]):\n",
    "        fnx = f\"{pos}.tif\"\n",
    "        shutil.copy(os.path.join(stitch_folder, fnx), os.path.join(stitch_folder, \"stitch\", fnx))\n",
    "    \n",
    "image_list = glob.glob(os.path.join(stitch_folder, r'stitch\\*.tif'))        \n",
    "print(len(image_list))"
   ]
  },
  {
   "cell_type": "code",
   "execution_count": 34,
   "id": "18d35296-5283-4e24-85f9-79021f983cfc",
   "metadata": {},
   "outputs": [],
   "source": [
    "from skimage import io,  img_as_uint, transform"
   ]
  },
  {
   "cell_type": "code",
   "execution_count": 40,
   "id": "316c8ad9",
   "metadata": {},
   "outputs": [
    {
     "data": {
      "text/plain": [
       "'C:\\\\Users\\\\lociuser\\\\Codes\\\\smart-wsi-scanner\\\\data\\\\acquisition\\\\fail_test2-4x-bf_1'"
      ]
     },
     "execution_count": 40,
     "metadata": {},
     "output_type": "execute_result"
    }
   ],
   "source": [
    "stitch_folder"
   ]
  },
  {
   "cell_type": "code",
   "execution_count": 43,
   "id": "299b27dc-e03b-44a7-a875-562bf7a43494",
   "metadata": {},
   "outputs": [],
   "source": [
    "for pos in range(len(image_list)):\n",
    "        fn = image_list[pos]\n",
    "        fname = pathlib.Path(fn).name\n",
    "\n",
    "        img = io.imread(fn)\n",
    "\n",
    "        correction = False\n",
    "        rotate = False\n",
    "        flip_y = True\n",
    "        flip_x = False\n",
    "\n",
    "        # if correction is True and background_image is not None:\n",
    "        #    img = white_balance(img, background_image)\n",
    "        #    img = flat_field(img, bg_img)\n",
    "\n",
    "        if rotate is not None:\n",
    "            img = transform.rotate(img, rotate)\n",
    "\n",
    "        if flip_y:\n",
    "            img = img[::-1, :]\n",
    "\n",
    "        if flip_x:\n",
    "            img = img[:, ::-1]\n",
    "            ##TODO: replace scikit iosave with tifffile with metadata\n",
    "        io.imsave(\n",
    "            stitch_folder + r\"/stitch/{}.tif\".format(pos),\n",
    "            img_as_uint(img),\n",
    "            check_contrast=False,\n",
    "        )"
   ]
  },
  {
   "cell_type": "code",
   "execution_count": null,
   "id": "e314b6e0-851b-4009-b14d-df3b0e482e3a",
   "metadata": {},
   "outputs": [],
   "source": []
  }
 ],
 "metadata": {
  "kernelspec": {
   "display_name": "Python 3 (ipykernel)",
   "language": "python",
   "name": "python3"
  },
  "language_info": {
   "codemirror_mode": {
    "name": "ipython",
    "version": 3
   },
   "file_extension": ".py",
   "mimetype": "text/x-python",
   "name": "python",
   "nbconvert_exporter": "python",
   "pygments_lexer": "ipython3",
   "version": "3.8.17"
  }
 },
 "nbformat": 4,
 "nbformat_minor": 5
}
