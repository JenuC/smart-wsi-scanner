{
 "cells": [
  {
   "cell_type": "markdown",
   "id": "d3fcf429",
   "metadata": {},
   "source": [
    "## import pycromanager"
   ]
  },
  {
   "cell_type": "code",
   "execution_count": 53,
   "id": "4592f2b0-8392-436c-8be2-61dfc3e5d694",
   "metadata": {},
   "outputs": [],
   "source": [
    "from pycromanager import Core, Studio\n",
    "from smartpath_libraries.sp_acquisition import SPAcquisition"
   ]
  },
  {
   "cell_type": "code",
   "execution_count": 54,
   "id": "cbc25286-645b-4511-903f-e1ba342c9673",
   "metadata": {},
   "outputs": [],
   "source": [
    "def init_pycromanager():\n",
    "    from pycromanager import Core, Studio\n",
    "    core = Core()\n",
    "    studio = Studio()\n",
    "    core.set_timeout_ms(20000)\n",
    "    return core, studio\n",
    "core,studio = init_pycromanager()"
   ]
  },
  {
   "cell_type": "code",
   "execution_count": 58,
   "id": "9f4f724f",
   "metadata": {},
   "outputs": [],
   "source": [
    "core.set_auto_shutter(True)"
   ]
  },
  {
   "cell_type": "markdown",
   "id": "9b32d2f2",
   "metadata": {},
   "source": [
    "## get stage position"
   ]
  },
  {
   "cell_type": "code",
   "execution_count": 55,
   "id": "87ded104",
   "metadata": {},
   "outputs": [
    {
     "data": {
      "text/plain": [
       "(19829.2, 11664.91)"
      ]
     },
     "execution_count": 55,
     "metadata": {},
     "output_type": "execute_result"
    }
   ],
   "source": [
    "stage_name = core.get_xy_stage_device()\n",
    "xy = core.get_xy_stage_position()\n",
    "xy.x, xy.y"
   ]
  },
  {
   "cell_type": "code",
   "execution_count": 19,
   "id": "0abf9b9e",
   "metadata": {},
   "outputs": [],
   "source": [
    "#dir(core)"
   ]
  },
  {
   "cell_type": "code",
   "execution_count": 21,
   "id": "f5b956e8",
   "metadata": {},
   "outputs": [
    {
     "data": {
      "text/plain": [
       "0"
      ]
     },
     "execution_count": 21,
     "metadata": {},
     "output_type": "execute_result"
    }
   ],
   "source": [
    "z = core.get_position()\n",
    "z"
   ]
  },
  {
   "cell_type": "code",
   "execution_count": null,
   "id": "39e0ee1e",
   "metadata": {},
   "outputs": [],
   "source": []
  },
  {
   "cell_type": "markdown",
   "id": "3de6926b",
   "metadata": {},
   "source": [
    "### read from tileconfig.txt"
   ]
  },
  {
   "cell_type": "code",
   "execution_count": 4,
   "id": "83c90c95",
   "metadata": {},
   "outputs": [],
   "source": [
    "\n",
    "import re\n",
    "def read_TileConfiguration_coordinates(tile_config_path) -> list:\n",
    "    coordinates = []\n",
    "    with open(tile_config_path, 'r') as file:\n",
    "        for line in file:\n",
    "            # Extract coordinates using regular expression\n",
    "            match = re.search(r'\\((-?\\d+\\.?\\d*), (-?\\d+\\.?\\d*)\\)', line)\n",
    "            if match:\n",
    "                x, y = map(float, match.groups())\n",
    "                coordinates.append([x, y])\n",
    "    return coordinates\n"
   ]
  },
  {
   "cell_type": "code",
   "execution_count": 5,
   "id": "850b0c4d",
   "metadata": {},
   "outputs": [],
   "source": [
    "import numpy as np\n",
    "tile_config_path = r'C:\\Users\\lociuser\\Codes\\temp\\TileConfiguration.txt'\n",
    "coords = read_TileConfiguration_coordinates(tile_config_path)\n",
    "coords = np.array(coords)"
   ]
  },
  {
   "cell_type": "code",
   "execution_count": 6,
   "id": "7cdbe6bc",
   "metadata": {},
   "outputs": [
    {
     "data": {
      "text/plain": [
       "array([[1990., 3981.],\n",
       "       [1990., 4451.],\n",
       "       [1990., 4921.],\n",
       "       [1990., 5391.],\n",
       "       [1990., 5861.]])"
      ]
     },
     "execution_count": 6,
     "metadata": {},
     "output_type": "execute_result"
    }
   ],
   "source": [
    "coords"
   ]
  },
  {
   "cell_type": "markdown",
   "id": "b371106e",
   "metadata": {},
   "source": [
    "### or"
   ]
  },
  {
   "cell_type": "markdown",
   "id": "0d754739",
   "metadata": {},
   "source": [
    "###  simulate 4 cooordinates from current position"
   ]
  },
  {
   "cell_type": "code",
   "execution_count": 48,
   "id": "004f4fff",
   "metadata": {},
   "outputs": [
    {
     "data": {
      "text/plain": [
       "array([[20182.52, 12572.58],\n",
       "       [20682.52, 12572.58],\n",
       "       [20682.52, 13072.58],\n",
       "       [20182.52, 13072.58]])"
      ]
     },
     "execution_count": 48,
     "metadata": {},
     "output_type": "execute_result"
    }
   ],
   "source": [
    "xy = core.get_xy_stage_position()\n",
    "delta_xy = 500\n",
    "X = xy.x \n",
    "Y = xy.y \n",
    "\n",
    "coords = np.array([[X,Y ],\n",
    "                  [X+delta_xy, Y],\n",
    "                  [X+delta_xy, Y+delta_xy], \n",
    "                  [X, Y+delta_xy]])\n",
    "coords"
   ]
  },
  {
   "cell_type": "markdown",
   "id": "7dac8a07",
   "metadata": {},
   "source": [
    "## creating sp-acquisition object"
   ]
  },
  {
   "cell_type": "code",
   "execution_count": 8,
   "id": "9b5dee20",
   "metadata": {},
   "outputs": [],
   "source": [
    "import yaml\n",
    "from skimage import io\n",
    "\n",
    "brightfield_4x_background_fname = (\n",
    "    \"data/presets/BG_4x.tiff\"  # give a default 4x background image\n",
    ")\n",
    "brightfield_20x_background_fname = (\n",
    "    \"data/presets/BG_20x.tiff\"  # give a default 20x background image\n",
    ")"
   ]
  },
  {
   "cell_type": "code",
   "execution_count": 9,
   "id": "77c3624e",
   "metadata": {},
   "outputs": [],
   "source": [
    "config = yaml.load(open(\"config.yaml\", \"r\"), Loader=yaml.FullLoader)\n",
    "config = {**config[\"user_config\"], **config[\"model_config\"], **config[\"hard_config\"]}"
   ]
  },
  {
   "cell_type": "markdown",
   "id": "ceffe1cd",
   "metadata": {},
   "source": [
    "### changing default z values in config"
   ]
  },
  {
   "cell_type": "code",
   "execution_count": 13,
   "id": "4119581c",
   "metadata": {},
   "outputs": [
    {
     "data": {
      "text/plain": [
       "[('Z-stage-20x', -6980),\n",
       " ('Z-stage-laser', -6640),\n",
       " ('Z-stage-4x', 3570),\n",
       " ('Z-bf-offset', -10560),\n",
       " ('Z-laser-offset', 290)]"
      ]
     },
     "execution_count": 13,
     "metadata": {},
     "output_type": "execute_result"
    }
   ],
   "source": [
    "[ (k,config[k]) for k in config.keys() if k.find('Z')>-1]"
   ]
  },
  {
   "cell_type": "code",
   "execution_count": 24,
   "id": "3d3f4f8e",
   "metadata": {},
   "outputs": [],
   "source": [
    "newz = 0.0 # for 4x because we reset the zero\n",
    "config['Z-stage-4x'] = 0.0"
   ]
  },
  {
   "cell_type": "code",
   "execution_count": 25,
   "id": "d0199e56",
   "metadata": {},
   "outputs": [
    {
     "data": {
      "text/plain": [
       "[('Z-stage-20x', -6980),\n",
       " ('Z-stage-laser', -6640),\n",
       " ('Z-stage-4x', 0.0),\n",
       " ('Z-bf-offset', -10560),\n",
       " ('Z-laser-offset', 290)]"
      ]
     },
     "execution_count": 25,
     "metadata": {},
     "output_type": "execute_result"
    }
   ],
   "source": [
    "[ (k,config[k]) for k in config.keys() if k.find('Z')>-1]"
   ]
  },
  {
   "cell_type": "markdown",
   "id": "148c7be8",
   "metadata": {},
   "source": [
    "### changing xy hardlimits "
   ]
  },
  {
   "cell_type": "code",
   "execution_count": 53,
   "id": "c7d6e0dc",
   "metadata": {},
   "outputs": [
    {
     "data": {
      "text/plain": [
       "[('hard-limit-z', [-8500.0, 17000.0]),\n",
       " ('hard-limit-x', [-5000.0, 40000.0]),\n",
       " ('hard-limit-y', [-4200, 25000.0]),\n",
       " ('hard-limit-f', [-19000, 0])]"
      ]
     },
     "execution_count": 53,
     "metadata": {},
     "output_type": "execute_result"
    }
   ],
   "source": [
    "[ (k,config[k]) for k in config.keys() if k.find('hard')>-1]"
   ]
  },
  {
   "cell_type": "code",
   "execution_count": 59,
   "id": "5efcd2f5",
   "metadata": {},
   "outputs": [
    {
     "name": "stdout",
     "output_type": "stream",
     "text": [
      "hard-limit-z   range =  25500.0\n",
      "hard-limit-x   range =  45000.0\n",
      "hard-limit-y   range =  29200.0\n",
      "hard-limit-f   range =  19000\n"
     ]
    }
   ],
   "source": [
    "for name,(x1,x2) in [ (k,config[k]) for k in config.keys() if k.find('hard')>-1]:\n",
    "    print(name, \"  range = \" , abs(x2-x1))"
   ]
  },
  {
   "cell_type": "code",
   "execution_count": 60,
   "id": "798c6048",
   "metadata": {},
   "outputs": [],
   "source": [
    "config['hard-limit-x'] = [0,40000.0]\n",
    "config['hard-limit-y'] = [0,30000.0]"
   ]
  },
  {
   "cell_type": "code",
   "execution_count": 61,
   "id": "bd56f358",
   "metadata": {},
   "outputs": [
    {
     "name": "stdout",
     "output_type": "stream",
     "text": [
      "Loaded LSM presets.\n"
     ]
    }
   ],
   "source": [
    "\n",
    "spacq = SPAcquisition(\n",
    "    config=config,\n",
    "    mmcore=core,\n",
    "    mmstudio=studio,\n",
    "    bf_4x_bg=io.imread(brightfield_4x_background_fname),\n",
    "    bf_20x_bg=io.imread(brightfield_20x_background_fname),\n",
    ")"
   ]
  },
  {
   "cell_type": "markdown",
   "id": "8346680d",
   "metadata": {},
   "source": [
    "slide_box = [5000, 9000, 9000, 14000]\n",
    "spacq.update_slide_box(slide_box)\n",
    "position_list_4x = spacq.generate_grid(mag=\"4x\", overlap=50)\n",
    "#SPAcquisition.position_list_4x = position_list_4x\n",
    "position_list_4x"
   ]
  },
  {
   "cell_type": "markdown",
   "id": "57606cdd",
   "metadata": {},
   "source": [
    "position_list_4x.reshape(position_list_4x.shape[0] * position_list_4x.shape[1], -1),"
   ]
  },
  {
   "cell_type": "code",
   "execution_count": 62,
   "id": "e20389a1",
   "metadata": {},
   "outputs": [],
   "source": [
    "save_path = r'C:\\Users\\lociuser\\Codes\\MikeN\\data\\test_'\n",
    "acq_name = r'FirstScan2'"
   ]
  },
  {
   "cell_type": "code",
   "execution_count": 63,
   "id": "5bb50d2e",
   "metadata": {},
   "outputs": [
    {
     "data": {
      "text/plain": [
       "([-8500.0, 17000.0], [0, 40000.0], [0, 30000.0], [-19000, 0])"
      ]
     },
     "execution_count": 63,
     "metadata": {},
     "output_type": "execute_result"
    }
   ],
   "source": [
    "config['hard-limit-z'] ,config['hard-limit-x'] ,config['hard-limit-y'] ,config['hard-limit-f']"
   ]
  },
  {
   "cell_type": "code",
   "execution_count": 29,
   "id": "3cf9c51e",
   "metadata": {},
   "outputs": [],
   "source": [
    "import matplotlib.pyplot as plt\n",
    "%matplotlib inline"
   ]
  },
  {
   "cell_type": "markdown",
   "id": "6412ee2b",
   "metadata": {},
   "source": [
    "we know on CAMM 2024 - 02 -02\n",
    "stage range : 40mm x 30mm for the current slide holder. \n",
    "at Z at 4x focus , 20x should not hit anything"
   ]
  },
  {
   "cell_type": "code",
   "execution_count": 23,
   "id": "fe6f0146",
   "metadata": {},
   "outputs": [],
   "source": [
    "from matplotlib.patches import Rectangle\n",
    "import matplotlib.pyplot as plt\n",
    "\n",
    "def plot_rectangle(x1,x2,y1,y2):\n",
    "    width = abs(x2-x1)\n",
    "    height = abs(y2-y1)\n",
    "    currentAxis = plt.gca()\n",
    "    currentAxis.add_patch(Rectangle((x1, y1), width, height, \n",
    "                                    facecolor='w',  \n",
    "                                    ec='k', lw=2)\n",
    "                                    )\n"
   ]
  },
  {
   "cell_type": "code",
   "execution_count": 68,
   "id": "09bb2002",
   "metadata": {},
   "outputs": [
    {
     "data": {
      "text/plain": [
       "([0, 40000.0], [0, 30000.0])"
      ]
     },
     "execution_count": 68,
     "metadata": {},
     "output_type": "execute_result"
    }
   ],
   "source": [
    "config['hard-limit-x'] ,config['hard-limit-y']"
   ]
  },
  {
   "cell_type": "code",
   "execution_count": 71,
   "id": "4e415d46",
   "metadata": {},
   "outputs": [],
   "source": [
    "for x0,y0 in coords:\n",
    "    if  config['hard-limit-x'][0] < x0 < config['hard-limit-x'][1]:\n",
    "        pass\n",
    "    else:\n",
    "        print(f'{x0=} is out of range')\n",
    "\n",
    "    if  config['hard-limit-y'][0] < y0 < config['hard-limit-y'][1]:\n",
    "        pass\n",
    "    else:\n",
    "        print(f'{y0=} is out of range')\n"
   ]
  },
  {
   "cell_type": "code",
   "execution_count": 64,
   "id": "6846e109",
   "metadata": {},
   "outputs": [
    {
     "data": {
      "image/png": "[encoded data removed]",
      "text/plain": [
       "<Figure size 640x480 with 1 Axes>"
      ]
     },
     "metadata": {},
     "output_type": "display_data"
    }
   ],
   "source": [
    "plt.figure()\n",
    "for k in coords:\n",
    "    plt.plot(k[0],k[1],'or')\n",
    "\n",
    "plot_rectangle(config['hard-limit-x'][0],config['hard-limit-x'][1],config['hard-limit-y'][0],config['hard-limit-y'][1])\n"
   ]
  },
  {
   "cell_type": "markdown",
   "id": "dc0afec3",
   "metadata": {},
   "source": [
    "## change config limits if coords are outside of the limits"
   ]
  },
  {
   "cell_type": "code",
   "execution_count": 68,
   "id": "705c47f1",
   "metadata": {},
   "outputs": [],
   "source": []
  },
  {
   "cell_type": "code",
   "execution_count": 58,
   "id": "6651fbe7",
   "metadata": {},
   "outputs": [
    {
     "data": {
      "text/plain": [
       "array([[11807.65, -7893.74],\n",
       "       [12307.65, -7893.74],\n",
       "       [12307.65, -7393.74],\n",
       "       [11807.65, -7393.74]])"
      ]
     },
     "execution_count": 58,
     "metadata": {},
     "output_type": "execute_result"
    }
   ],
   "source": [
    "coords"
   ]
  },
  {
   "cell_type": "code",
   "execution_count": 70,
   "id": "4c1d74fb",
   "metadata": {},
   "outputs": [
    {
     "data": {
      "text/plain": [
       "array([[11807.65, -7893.74],\n",
       "       [12307.65, -7893.74],\n",
       "       [12307.65, -7393.74],\n",
       "       [11807.65, -7393.74]])"
      ]
     },
     "execution_count": 70,
     "metadata": {},
     "output_type": "execute_result"
    }
   ],
   "source": [
    "coords"
   ]
  },
  {
   "cell_type": "code",
   "execution_count": 66,
   "id": "4faa7a0f",
   "metadata": {},
   "outputs": [
    {
     "name": "stdout",
     "output_type": "stream",
     "text": [
      "starting Acquisition\n",
      "acq_path C:\\Users\\lociuser\\Codes\\MikeN\\data\\test_\\FirstScan2_2\n"
     ]
    },
    {
     "name": "stderr",
     "output_type": "stream",
     "text": [
      "  0%|          | 0/4 [00:00<?, ?it/s]"
     ]
    },
    {
     "name": "stdout",
     "output_type": "stream",
     "text": [
      " Diving focus at -1Score: 0.012398016145821526, Position -66.67333333333333\n",
      " Diving focus at 0Score: 0.01303081892833071, Position -33.339999999999996\n",
      " Diving focus at 1Score: 0.01162174660522371, Position -0.006666666666660603\n"
     ]
    },
    {
     "name": "stderr",
     "output_type": "stream",
     "text": [
      " 25%|██▌       | 1/4 [00:04<00:12,  4.21s/it]"
     ]
    },
    {
     "name": "stdout",
     "output_type": "stream",
     "text": [
      " 1/4 tiles done"
     ]
    },
    {
     "name": "stderr",
     "output_type": "stream",
     "text": [
      " 50%|█████     | 2/4 [00:06<00:05,  2.83s/it]"
     ]
    },
    {
     "name": "stdout",
     "output_type": "stream",
     "text": [
      " 2/4 tiles done"
     ]
    },
    {
     "name": "stderr",
     "output_type": "stream",
     "text": [
      " 75%|███████▌  | 3/4 [00:08<00:02,  2.46s/it]"
     ]
    },
    {
     "name": "stdout",
     "output_type": "stream",
     "text": [
      " 3/4 tiles done"
     ]
    },
    {
     "name": "stderr",
     "output_type": "stream",
     "text": [
      "100%|██████████| 4/4 [00:09<00:00,  2.47s/it]"
     ]
    },
    {
     "name": "stdout",
     "output_type": "stream",
     "text": [
      " 4/4 tiles done"
     ]
    },
    {
     "name": "stderr",
     "output_type": "stream",
     "text": [
      "\n"
     ]
    }
   ],
   "source": [
    "print(\"starting Acquisition\")\n",
    "results_4x = spacq.whole_slide_bf_scan(\n",
    "    save_path,\n",
    "    acq_name,\n",
    "    coords,\n",
    "    mag=\"4x\",\n",
    "    focus_dive=True,\n",
    "    estimate_background=False,\n",
    ")"
   ]
  },
  {
   "cell_type": "code",
   "execution_count": null,
   "id": "4c923089",
   "metadata": {},
   "outputs": [],
   "source": []
  },
  {
   "cell_type": "code",
   "execution_count": 25,
   "id": "906e72fc",
   "metadata": {},
   "outputs": [
    {
     "name": "stdout",
     "output_type": "stream",
     "text": [
      "17458.69 17049.07\n"
     ]
    }
   ],
   "source": [
    "\n",
    "X = float(f'{xy.x+100}')\n",
    "Y = float(f'{xy.y+100}')\n",
    "print(X,Y)"
   ]
  },
  {
   "cell_type": "code",
   "execution_count": 26,
   "id": "769db323",
   "metadata": {},
   "outputs": [],
   "source": [
    "\n",
    "import yaml\n",
    "config = yaml.load(open(\"config.yaml\", \"r\"), Loader=yaml.FullLoader)\n",
    "config = {**config['user_config'], **config['model_config'], **config['hard_config']}\n",
    "XLIMS = config['hard-limit-x']\n",
    "YLIMS = config['hard-limit-y']"
   ]
  },
  {
   "cell_type": "code",
   "execution_count": 31,
   "id": "26940e78",
   "metadata": {},
   "outputs": [],
   "source": [
    "config_yaml_string = \"\"\"\n",
    "user_config:\n",
    "  exposure-level : \"high\"\n",
    "  snr-level : \"low\"\n",
    "  autofocus-speed : 3\n",
    "  lsm-resolution : 256\n",
    "  lsm-bin-factor : 15\n",
    "  lsm-scan-rate : \"250000.0000\"\n",
    "  lsm-pc-power : 0.4\n",
    "  lsm-pmt-gain : 0.4\n",
    "  slide-box : [-100, 600, 25500.0, 17000.0] \n",
    "  lsm-enhancer : null\n",
    "  bf-enhancer : null\n",
    "  classifier : null\n",
    "model_config:\n",
    "    adv-interval: 3\n",
    "    average-factor: 50\n",
    "    batch-size: 8\n",
    "    blindspot-rate: 0.05\n",
    "    cnn-base-channel: 8\n",
    "    dataset: datasets/PA_2081b\n",
    "    gan-lambda: 5\n",
    "    gpu: true\n",
    "    image-channel: 1\n",
    "    image-extension: tif\n",
    "    iter-per-epoch: 200\n",
    "    iterations: 200000\n",
    "    learning-rate: 0.0001\n",
    "    load-weights: supervised2022-08-07_13-02-52\n",
    "    loss-gain: 1000\n",
    "    norm-range:\n",
    "    - 5420\n",
    "    - 44017\n",
    "    norm-range-target:\n",
    "    - 6265\n",
    "    - 38567\n",
    "    only-pixel-loss: false\n",
    "    percep-lambda: 0.5\n",
    "    resolution: 512\n",
    "    test-interval: 5\n",
    "    threads: 0\n",
    "    up-scale-factor: 2\n",
    "hard_config:\n",
    "    pixel-size-bf-20x : 0.222 # 0.222 micron/pixel at (1392, 1040)\n",
    "    pixel-size-bf-4x : 1.105 # 1.305 micron/pixel at (1392, 1040)\n",
    "    pixel-size-shg-base : 0.509 # 0.509 micron/pixel at 256\n",
    "    pixel-size-shg : 0.509\n",
    "    camera-resolution : [1392, 1040] # (width, height)\n",
    "    lsm-resolution-base : [512, 512]\n",
    "    slide-size : [40000.0, 20000.0] # (width, height) (70000, -20000)\n",
    "    Z-stage-20x : -6980 # -6930 + 290 / 10500\n",
    "    Z-stage-laser : -6640 #-6640 \n",
    "    Z-stage-4x : 3570 # -2300\n",
    "    F-stage-20x : -15800 # 11000\n",
    "    F-stage-laser : -18500 # -17500\n",
    "    F-stage-4x : -1000\n",
    "    Z-bf-offset : -10560\n",
    "    Z-laser-offset : 290\n",
    "    hard-limit-z : [-8500.0, 17000.0]\n",
    "    hard-limit-x : [-5000.0, 40000.0]\n",
    "    hard-limit-y : [-4200, 25000.0] #(-2200, 19000.0)\n",
    "    hard-limit-f : [-19000, 0]\n",
    "    20x-bf-offset : [-600, 10] # 4x + this value to 20x // (-590, 74)\n",
    "    shg-offset : [-580, -280] # 4x + this value to shg // (-580, -172)\n",
    "    led-4x : 4\n",
    "    led-20x : 5\n",
    "    focus-device : 'ZStage:Z:32'\n",
    "    condensor-device : 'ZStage:F:32'\n",
    "    led-device : ['LED-Dev1ao0', 'Voltage']\n",
    "    obj-device : ['Turret:O:35', 'Label']\n",
    "\"\"\"\n",
    "config_yaml = yaml.load(config_yaml_string, Loader=yaml.FullLoader)\n",
    "config_yaml = {**config_yaml['user_config'], **config_yaml['model_config'], **config_yaml['hard_config']}"
   ]
  },
  {
   "cell_type": "code",
   "execution_count": 32,
   "id": "b8cc45e0",
   "metadata": {},
   "outputs": [
    {
     "data": {
      "text/plain": [
       "True"
      ]
     },
     "execution_count": 32,
     "metadata": {},
     "output_type": "execute_result"
    }
   ],
   "source": [
    "config_yaml == config\n"
   ]
  },
  {
   "cell_type": "code",
   "execution_count": 27,
   "id": "c9861345",
   "metadata": {},
   "outputs": [],
   "source": [
    "core.set_xy_position(X,Y)"
   ]
  },
  {
   "cell_type": "code",
   "execution_count": 23,
   "id": "c1b18c90",
   "metadata": {},
   "outputs": [
    {
     "name": "stdout",
     "output_type": "stream",
     "text": [
      "17358.69 16949.07\n"
     ]
    }
   ],
   "source": [
    "\n",
    "#core.set_xy_position(X,Y)\n",
    "_ = core.get_xy_stage_position()\n",
    "print(_.x, _.y)"
   ]
  },
  {
   "cell_type": "code",
   "execution_count": 20,
   "id": "81573392",
   "metadata": {},
   "outputs": [
    {
     "name": "stdout",
     "output_type": "stream",
     "text": [
      "X is within XLIMS\n"
     ]
    }
   ],
   "source": [
    "if XLIMS[0] < X < XLIMS[1]:\n",
    "    pass\n",
    "else:\n",
    "    print(\" X={X} Out of config[hard-limit-x] in yaml {XLIMS}\", file=sys.stderr)\n",
    "    sys.exit(1)\n",
    "if YLIMS[0] < Y < YLIMS[1]:\n",
    "    pass    \n",
    "else:\n",
    "    print(\" Y={Y} Out of config[hard-limit-y] in yaml {YLIMS}\", file=sys.stderr)\n",
    "    sys.exit(1)\n",
    "    \n",
    "core.set_xy_position(X,Y)\n"
   ]
  },
  {
   "cell_type": "code",
   "execution_count": null,
   "id": "f27d43ec",
   "metadata": {},
   "outputs": [],
   "source": []
  },
  {
   "cell_type": "code",
   "execution_count": 15,
   "id": "f718efa9",
   "metadata": {},
   "outputs": [
    {
     "name": "stdout",
     "output_type": "stream",
     "text": [
      "exposure-level\n",
      "snr-level\n",
      "autofocus-speed\n",
      "lsm-resolution\n",
      "lsm-bin-factor\n",
      "lsm-scan-rate\n",
      "lsm-pc-power\n",
      "lsm-pmt-gain\n",
      "slide-box\n",
      "lsm-enhancer\n",
      "bf-enhancer\n",
      "classifier\n",
      "adv-interval\n",
      "average-factor\n",
      "batch-size\n",
      "blindspot-rate\n",
      "cnn-base-channel\n",
      "dataset\n",
      "gan-lambda\n",
      "gpu\n",
      "image-channel\n",
      "image-extension\n",
      "iter-per-epoch\n",
      "iterations\n",
      "learning-rate\n",
      "load-weights\n",
      "loss-gain\n",
      "norm-range\n",
      "norm-range-target\n",
      "only-pixel-loss\n",
      "percep-lambda\n",
      "resolution\n",
      "test-interval\n",
      "threads\n",
      "up-scale-factor\n",
      "pixel-size-bf-20x\n",
      "pixel-size-bf-4x\n",
      "pixel-size-shg-base\n",
      "pixel-size-shg\n",
      "camera-resolution\n",
      "lsm-resolution-base\n",
      "slide-size\n",
      "Z-stage-20x\n",
      "Z-stage-laser\n",
      "Z-stage-4x\n",
      "F-stage-20x\n",
      "F-stage-laser\n",
      "F-stage-4x\n",
      "Z-bf-offset\n",
      "Z-laser-offset\n",
      "hard-limit-z\n",
      "hard-limit-x\n",
      "hard-limit-y\n",
      "hard-limit-f\n",
      "20x-bf-offset\n",
      "shg-offset\n",
      "led-4x\n",
      "led-20x\n",
      "focus-device\n",
      "condensor-device\n",
      "led-device\n",
      "obj-device\n"
     ]
    }
   ],
   "source": [
    "for k in config.keys():\n",
    "    print(k)"
   ]
  },
  {
   "cell_type": "code",
   "execution_count": 12,
   "id": "2ab78b49-6ca6-4f28-8c2b-987cd63a50b3",
   "metadata": {},
   "outputs": [],
   "source": [
    "## config : default config only:  changed will be saved to expt folder\n",
    "import yaml\n",
    "## read image: background correction\n",
    "from skimage import io as skio\n",
    "# pos list\n",
    "import pickle"
   ]
  },
  {
   "cell_type": "code",
   "execution_count": 13,
   "id": "7e8b49e6-f4d7-4923-b855-edc7e3a53979",
   "metadata": {},
   "outputs": [],
   "source": [
    "## Config Loading\n",
    "config = yaml.load(open(\"config.yaml\", \"r\"), Loader=yaml.FullLoader)\n",
    "config = {**config['user_config'], **config['model_config'], **config['hard_config']}\n",
    "lsm_pixel_size_base = config['pixel-size-shg-base']\n",
    "bf_4x_pixel_size_base = config['pixel-size-bf-4x']\n",
    "bf_20x_pixel_size_base = config['pixel-size-bf-20x']\n",
    "camera_resolution_base = config['camera-resolution']"
   ]
  },
  {
   "cell_type": "code",
   "execution_count": 5,
   "id": "9de4975b-d07f-467e-8629-b672ddaa11d5",
   "metadata": {},
   "outputs": [],
   "source": [
    "## User configuration block\n",
    "save_path = 'data/acquisition' # do not change\n",
    "acq_name = 'fail_test2' # current session name No Spaces in name! Use - or _ No `ome` in name!\n",
    "slide_box = [5000, 9000, 9000, 14000] # [bottom left corner, and top right corner]\n",
    "brightfield_4x_background_fname = 'data/presets/BG_4x.tiff' # give a default 4x background image\n",
    "brightfield_20x_background_fname = 'data/presets/BG_20x.tiff' # give a default 20x background image"
   ]
  },
  {
   "cell_type": "code",
   "execution_count": 6,
   "id": "8cebaeee-55b6-4ca6-868d-38365de4319f",
   "metadata": {},
   "outputs": [
    {
     "name": "stdout",
     "output_type": "stream",
     "text": [
      "Loaded LSM presets.\n"
     ]
    }
   ],
   "source": [
    "sp_acq = SPAcquisition(\n",
    "    config=config,\n",
    "    mmcore=core, \n",
    "    mmstudio=studio,\n",
    "    bf_4x_bg=skio.imread(brightfield_4x_background_fname), \n",
    "    bf_20x_bg=skio.imread(brightfield_20x_background_fname), \n",
    "    )"
   ]
  },
  {
   "cell_type": "code",
   "execution_count": 11,
   "id": "0deb3647-a6b2-4c13-9179-983e65640b1b",
   "metadata": {},
   "outputs": [],
   "source": [
    "slide_box = [25000, 16000, 28000, 20000]\n",
    "sp_acq.update_slide_box(slide_box)\n",
    "position_list_4x = sp_acq.generate_grid(mag='4x', overlap=50)\n",
    "sp_acq.position_list_4x = position_list_4x"
   ]
  },
  {
   "cell_type": "code",
   "execution_count": 13,
   "id": "b762eb17-0370-4217-80e0-86f85753346f",
   "metadata": {},
   "outputs": [
    {
     "data": {
      "text/plain": [
       "array([[[25000.  , 16000.  ],\n",
       "        [26482.91, 16000.  ]],\n",
       "\n",
       "       [[26482.91, 17093.95],\n",
       "        [25000.  , 17093.95]],\n",
       "\n",
       "       [[25000.  , 18187.9 ],\n",
       "        [26482.91, 18187.9 ]]])"
      ]
     },
     "execution_count": 13,
     "metadata": {},
     "output_type": "execute_result"
    }
   ],
   "source": [
    "position_list_4x"
   ]
  },
  {
   "cell_type": "code",
   "execution_count": 14,
   "id": "b856a81c-7a89-4ca4-9c15-d52f064fc8b4",
   "metadata": {},
   "outputs": [
    {
     "data": {
      "text/plain": [
       "3"
      ]
     },
     "execution_count": 14,
     "metadata": {},
     "output_type": "execute_result"
    }
   ],
   "source": [
    "position_list_4x.ndim"
   ]
  },
  {
   "cell_type": "code",
   "execution_count": 15,
   "id": "0faddf33-556a-4a89-a8ef-329154c2c208",
   "metadata": {},
   "outputs": [
    {
     "name": "stdout",
     "output_type": "stream",
     "text": [
      "Imaging objective set as 4x\n",
      "Imaging objective set as 4x\n",
      "Imaging mode set as Brightfield\n"
     ]
    }
   ],
   "source": [
    "acq_name_4x = acq_name + '-4x-bf' \n",
    "sp_acq.switch_objective(mag='4x')\n",
    "sp_acq.switch_mod(mod='bf')"
   ]
  },
  {
   "cell_type": "code",
   "execution_count": 16,
   "id": "a3443091-dd8a-4940-bb66-65e1a5600843",
   "metadata": {},
   "outputs": [],
   "source": [
    "sp_acq.update_focus_presets(mag='4x', mod='bf') # update focus preset\n",
    "sp_acq.config['autofocus-speed'] = 4 # default is 4 ## `1-6`, the larger the faster, but potentially worse autofocusing resuls."
   ]
  },
  {
   "cell_type": "code",
   "execution_count": 17,
   "id": "dce50896-5cf0-4fb2-86c7-8776417559c0",
   "metadata": {},
   "outputs": [],
   "source": [
    "core.set_shutter_open(True)\n",
    "core.set_auto_shutter(False)\n",
    "core.set_shutter_open(True)"
   ]
  },
  {
   "cell_type": "code",
   "execution_count": 18,
   "id": "f03068b1-fcd5-4748-8d04-f5d0121ca12c",
   "metadata": {},
   "outputs": [
    {
     "name": "stderr",
     "output_type": "stream",
     "text": [
      "100%|██████████| 6/6 [00:13<00:00,  2.29s/it]"
     ]
    },
    {
     "name": "stdout",
     "output_type": "stream",
     "text": [
      " 6/6 tiles done"
     ]
    },
    {
     "name": "stderr",
     "output_type": "stream",
     "text": [
      "\n"
     ]
    }
   ],
   "source": [
    "results_4x = sp_acq.whole_slide_bf_scan(\n",
    "    save_path, \n",
    "    acq_name_4x, \n",
    "    position_list_4x.reshape(position_list_4x.shape[0]*position_list_4x.shape[1], -1), \n",
    "    mag='4x',\n",
    "    focus_dive=True,\n",
    "    estimate_background=False,\n",
    "    )"
   ]
  },
  {
   "cell_type": "code",
   "execution_count": 19,
   "id": "b44fb30f-4e24-432b-b0a6-b950fec1dd62",
   "metadata": {},
   "outputs": [],
   "source": [
    "stitch_folder = r'C:\\Users\\lociuser\\Codes\\smart-wsi-scanner\\data\\acquisition\\fail_test2-4x-bf_1'\n",
    "position_list = position_list_4x\n",
    "pixel_size = config['pixel-size-bf-4x']"
   ]
  },
  {
   "cell_type": "code",
   "execution_count": 17,
   "id": "299fe867-8964-42d2-9261-a1d2f0a2c035",
   "metadata": {},
   "outputs": [],
   "source": [
    "import os"
   ]
  },
  {
   "cell_type": "code",
   "execution_count": null,
   "id": "8266a305-26e8-468e-ba3b-1e8c209f2056",
   "metadata": {},
   "outputs": [],
   "source": []
  },
  {
   "cell_type": "code",
   "execution_count": 28,
   "id": "b9ddb4f6-0bd6-4f1e-9151-42872b3703d4",
   "metadata": {},
   "outputs": [
    {
     "data": {
      "text/plain": [
       "(4, 2, 2)"
      ]
     },
     "execution_count": 28,
     "metadata": {},
     "output_type": "execute_result"
    }
   ],
   "source": [
    "position_list.shape"
   ]
  },
  {
   "cell_type": "code",
   "execution_count": 37,
   "id": "0590f718-2b88-40fc-b1e7-07dc94c3e3ee",
   "metadata": {},
   "outputs": [],
   "source": [
    "import numpy as np\n",
    "position_list = np.reshape(position_list,[4*2,2])"
   ]
  },
  {
   "cell_type": "code",
   "execution_count": 20,
   "id": "3b315dd2-c229-416e-9e28-5f573062224e",
   "metadata": {},
   "outputs": [
    {
     "name": "stdout",
     "output_type": "stream",
     "text": [
      "[[25000.   16000.  ]\n",
      " [26482.91 16000.  ]]\n",
      "[[26482.91 17093.95]\n",
      " [25000.   17093.95]]\n",
      "[[25000.   18187.9 ]\n",
      " [26482.91 18187.9 ]]\n"
     ]
    }
   ],
   "source": [
    "for pos in range(position_list.shape[0]):\n",
    "    #x = int(position_list[pos][0] / pixel_size)\n",
    "    #y = int(position_list[pos][1] / pixel_size)\n",
    "    #print('{}.tiff; ; ({}, {})'.format(pos, x, y), file=text_file)\n",
    "    print(position_list[pos])"
   ]
  },
  {
   "cell_type": "code",
   "execution_count": 21,
   "id": "6acaa0de-9dee-44e8-873c-2e0157aa7eaa",
   "metadata": {},
   "outputs": [],
   "source": [
    "import glob\n",
    "import pathlib\n",
    "import shutil"
   ]
  },
  {
   "cell_type": "code",
   "execution_count": 22,
   "id": "c62139a8-4b4c-4a90-bff2-4abd0428684b",
   "metadata": {},
   "outputs": [],
   "source": [
    "for fn in glob.glob(r'C:\\Users\\lociuser\\Codes\\smart-wsi-scanner\\data\\acquisition\\fail_test2-4x-bf_1\\*.tif'):\n",
    "    fname = pathlib.Path(fn).name\n",
    "    nfname = fname.split('-')[0]+'.tif'\n",
    "    #print(nfname)\n",
    "    nfn = fn.replace(fname,nfname)\n",
    "    shutil.copy(fn,nfn)"
   ]
  },
  {
   "cell_type": "code",
   "execution_count": 30,
   "id": "cb727fee",
   "metadata": {},
   "outputs": [],
   "source": [
    "import os\n",
    "import numpy as np"
   ]
  },
  {
   "cell_type": "code",
   "execution_count": 28,
   "id": "df623e67",
   "metadata": {},
   "outputs": [
    {
     "data": {
      "text/plain": [
       "array([[[25000.  , 16000.  ],\n",
       "        [26482.91, 16000.  ]],\n",
       "\n",
       "       [[26482.91, 17093.95],\n",
       "        [25000.  , 17093.95]],\n",
       "\n",
       "       [[25000.  , 18187.9 ],\n",
       "        [26482.91, 18187.9 ]]])"
      ]
     },
     "execution_count": 28,
     "metadata": {},
     "output_type": "execute_result"
    }
   ],
   "source": [
    "position_list"
   ]
  },
  {
   "cell_type": "code",
   "execution_count": 31,
   "id": "84c71ae7",
   "metadata": {},
   "outputs": [],
   "source": [
    "if position_list.ndim == 3:\n",
    "    p1, p2, p3 = position_list.shape\n",
    "    position_list = np.reshape(position_list, [p1 * p2, p3])"
   ]
  },
  {
   "cell_type": "code",
   "execution_count": 32,
   "id": "b5992c62-fb10-4ea1-bf78-bb25149b793b",
   "metadata": {},
   "outputs": [],
   "source": [
    "with open(os.path.join(stitch_folder, \"TileConfiguration.txt\"), \"w\") as text_file:\n",
    "    print(\"dim = {}\".format(2), file=text_file)\n",
    "    for pos in range(position_list.shape[0]):\n",
    "        x = int(position_list[pos][0] / pixel_size)\n",
    "        y = int(position_list[pos][1] / pixel_size)\n",
    "        print(\"{}.tif; ; ({}, {})\".format(pos, x, y), file=text_file)"
   ]
  },
  {
   "cell_type": "code",
   "execution_count": 38,
   "id": "eb0c505e",
   "metadata": {},
   "outputs": [
    {
     "data": {
      "text/plain": [
       "'C:\\\\Users\\\\lociuser\\\\Codes\\\\smart-wsi-scanner\\\\data\\\\acquisition\\\\fail_test2-4x-bf_1'"
      ]
     },
     "execution_count": 38,
     "metadata": {},
     "output_type": "execute_result"
    }
   ],
   "source": [
    "stitch_folder"
   ]
  },
  {
   "cell_type": "code",
   "execution_count": 41,
   "id": "37e6a862-c837-4840-b15f-210f1fa62a45",
   "metadata": {},
   "outputs": [
    {
     "name": "stdout",
     "output_type": "stream",
     "text": [
      "6\n"
     ]
    }
   ],
   "source": [
    "image_list = glob.glob(os.path.join(stitch_folder, r'stitch\\*.tif'))\n",
    "if len(image_list) == 0:\n",
    "    if not os.path.exists(os.path.join(stitch_folder, \"stitch\")):\n",
    "        os.mkdir(os.path.join(stitch_folder, \"stitch\"))\n",
    "    shutil.copy(os.path.join(stitch_folder, \"TileConfiguration.txt\"), os.path.join(stitch_folder, \"stitch\\TileConfiguration.txt\"))\n",
    "    for pos in range(position_list.shape[0]):\n",
    "        fnx = f\"{pos}.tif\"\n",
    "        shutil.copy(os.path.join(stitch_folder, fnx), os.path.join(stitch_folder, \"stitch\", fnx))\n",
    "    \n",
    "image_list = glob.glob(os.path.join(stitch_folder, r'stitch\\*.tif'))        \n",
    "print(len(image_list))"
   ]
  },
  {
   "cell_type": "code",
   "execution_count": 34,
   "id": "18d35296-5283-4e24-85f9-79021f983cfc",
   "metadata": {},
   "outputs": [],
   "source": [
    "from skimage import io,  img_as_uint, transform"
   ]
  },
  {
   "cell_type": "code",
   "execution_count": 40,
   "id": "316c8ad9",
   "metadata": {},
   "outputs": [
    {
     "data": {
      "text/plain": [
       "'C:\\\\Users\\\\lociuser\\\\Codes\\\\smart-wsi-scanner\\\\data\\\\acquisition\\\\fail_test2-4x-bf_1'"
      ]
     },
     "execution_count": 40,
     "metadata": {},
     "output_type": "execute_result"
    }
   ],
   "source": [
    "stitch_folder"
   ]
  },
  {
   "cell_type": "code",
   "execution_count": 43,
   "id": "299b27dc-e03b-44a7-a875-562bf7a43494",
   "metadata": {},
   "outputs": [],
   "source": [
    "for pos in range(len(image_list)):\n",
    "        fn = image_list[pos]\n",
    "        fname = pathlib.Path(fn).name\n",
    "\n",
    "        img = io.imread(fn)\n",
    "\n",
    "        correction = False\n",
    "        rotate = False\n",
    "        flip_y = True\n",
    "        flip_x = False\n",
    "\n",
    "        # if correction is True and background_image is not None:\n",
    "        #    img = white_balance(img, background_image)\n",
    "        #    img = flat_field(img, bg_img)\n",
    "\n",
    "        if rotate is not None:\n",
    "            img = transform.rotate(img, rotate)\n",
    "\n",
    "        if flip_y:\n",
    "            img = img[::-1, :]\n",
    "\n",
    "        if flip_x:\n",
    "            img = img[:, ::-1]\n",
    "            ##TODO: replace scikit iosave with tifffile with metadata\n",
    "        io.imsave(\n",
    "            stitch_folder + r\"/stitch/{}.tif\".format(pos),\n",
    "            img_as_uint(img),\n",
    "            check_contrast=False,\n",
    "        )"
   ]
  },
  {
   "cell_type": "code",
   "execution_count": null,
   "id": "e314b6e0-851b-4009-b14d-df3b0e482e3a",
   "metadata": {},
   "outputs": [],
   "source": []
  },
  {
   "cell_type": "markdown",
   "id": "90e2886c",
   "metadata": {},
   "source": [
    "## check qupath tile-configurations"
   ]
  },
  {
   "cell_type": "code",
   "execution_count": 2,
   "id": "9817367e",
   "metadata": {},
   "outputs": [],
   "source": [
    "import os\n",
    "import glob\n",
    "import pathlib"
   ]
  },
  {
   "cell_type": "code",
   "execution_count": 49,
   "id": "1f909f0e",
   "metadata": {},
   "outputs": [],
   "source": []
  },
  {
   "cell_type": "code",
   "execution_count": 50,
   "id": "e02b498a",
   "metadata": {},
   "outputs": [
    {
     "name": "stdout",
     "output_type": "stream",
     "text": [
      "C:\\Users\\lociuser\\Codes\\MikeN\\data\\slides\\First_Test\\4x_bf_1\\2473_1638\\TileConfiguration.txt\n"
     ]
    }
   ],
   "source": [
    "tc_files= r'C:\\Users\\lociuser\\Codes\\MikeN\\data\\slides\\First_Test_tilesizecheck\\4x_bf_1\\2447_1631'\n",
    "tc_files = r'C:\\Users\\lociuser\\Codes\\MikeN\\data\\slides\\First_Test\\4x_bf_1\\2473_1638'\n",
    "tc_files = glob.glob(os.path.join(tc_files,'*.txt'))\n",
    "for k in tc_files:\n",
    "    print(k)\n",
    "    with open(k,'rt') as fid:\n",
    "        data = fid.readlines()[1:]\n",
    "    XY = np.array([(float(j.split(\"(\")[1].split(\",\")[0]),float(j.split(\")\")[0].split(\",\")[1])) for j in data])\n",
    "    break"
   ]
  },
  {
   "cell_type": "code",
   "execution_count": 44,
   "id": "587e9eeb",
   "metadata": {},
   "outputs": [],
   "source": [
    "from scipy import stats\n",
    "def get_fov(XY):\n",
    "    xs = np.ediff1d(sorted(XY[:,0]))\n",
    "    xs= xs[xs>0]\n",
    "    ys = np.ediff1d(sorted(XY[:,1]))\n",
    "    ys= ys[ys>0]\n",
    "    #print(xs)\n",
    "    #print(ys)\n",
    "    return (stats.mode(xs,keepdims=True)[0][0],stats.mode(ys,keepdims=True)[0][0])"
   ]
  },
  {
   "cell_type": "code",
   "execution_count": 39,
   "id": "756c8a0a",
   "metadata": {},
   "outputs": [
    {
     "name": "stdout",
     "output_type": "stream",
     "text": [
      "[1260.]\n",
      "[941. 941. 942. 941. 941. 941.]\n"
     ]
    },
    {
     "data": {
      "text/plain": [
       "(1260.0, 941.0)"
      ]
     },
     "execution_count": 39,
     "metadata": {},
     "output_type": "execute_result"
    }
   ],
   "source": [
    "get_fov(XY)"
   ]
  },
  {
   "cell_type": "code",
   "execution_count": null,
   "id": "12bc7ed1",
   "metadata": {},
   "outputs": [],
   "source": [
    "np.ediff1d(sorted(XY[:,1]))"
   ]
  },
  {
   "cell_type": "code",
   "execution_count": 48,
   "id": "2a14cc91",
   "metadata": {},
   "outputs": [
    {
     "name": "stdout",
     "output_type": "stream",
     "text": [
      "C:\\Users\\lociuser\\Codes\\MikeN\\data\\slides\\First_Test_tilesizecheck\\4x_bf_1\\2447_1631\\TileConfiguration.txt\n",
      "1260.0 941.0\n",
      "C:\\Users\\lociuser\\Codes\\MikeN\\data\\slides\\First_Test_tilesizecheck\\4x_bf_1\\2447_1631\\TileConfiguration_QP.txt\n",
      "213.6333333333332 159.6111111111111\n",
      "C:\\Users\\lociuser\\Codes\\MikeN\\data\\slides\\First_Test_tilesizecheck\\4x_bf_1\\2447_1631\\TileConfiguration_transformed.txt\n",
      "1392.0 1040.0\n"
     ]
    },
    {
     "data": {
      "image/png": "[encoded data removed]",
      "text/plain": [
       "<Figure size 640x480 with 1 Axes>"
      ]
     },
     "metadata": {},
     "output_type": "display_data"
    },
    {
     "data": {
      "image/png": "[encoded data removed]",
      "text/plain": [
       "<Figure size 640x480 with 1 Axes>"
      ]
     },
     "metadata": {},
     "output_type": "display_data"
    },
    {
     "data": {
      "image/png": "[encoded data removed]",
      "text/plain": [
       "<Figure size 640x480 with 1 Axes>"
      ]
     },
     "metadata": {},
     "output_type": "display_data"
    }
   ],
   "source": [
    "for k in tc_files:\n",
    "    figure()\n",
    "    print(k)\n",
    "    with open(k,'rt') as fid:\n",
    "        data = fid.read()\n",
    "    data = data[data.find('0.tif;'):].splitlines()\n",
    "    XY = np.array([(float(j.split(\"(\")[1].split(\",\")[0]),float(j.split(\")\")[0].split(\",\")[1])) for j in data])\n",
    "    #break\n",
    "    fovx,fovy = get_fov(XY)\n",
    "    print(fovx,fovy)\n",
    "    for k1,k2 in XY:\n",
    "        plot(k1,k2,'or')\n",
    "        plot_rectangle(k1,k1+fovx, k2,k2+fovy)\n",
    "    axis('equal')"
   ]
  },
  {
   "cell_type": "code",
   "execution_count": 51,
   "id": "62f0e93a",
   "metadata": {},
   "outputs": [
    {
     "name": "stdout",
     "output_type": "stream",
     "text": [
      "C:\\Users\\lociuser\\Codes\\MikeN\\data\\slides\\First_Test\\4x_bf_1\\2473_1638\\TileConfiguration.txt\n",
      "1392.0 1040.0\n",
      "C:\\Users\\lociuser\\Codes\\MikeN\\data\\slides\\First_Test\\4x_bf_1\\2473_1638\\TileConfiguration_QP.txt\n",
      "224.8771929824561 168.0116959064328\n",
      "C:\\Users\\lociuser\\Codes\\MikeN\\data\\slides\\First_Test\\4x_bf_1\\2473_1638\\TileConfiguration_transformed.txt\n",
      "1392.0 1040.0\n"
     ]
    },
    {
     "data": {
      "image/png": "[encoded data removed]",
      "text/plain": [
       "<Figure size 640x480 with 1 Axes>"
      ]
     },
     "metadata": {},
     "output_type": "display_data"
    },
    {
     "data": {
      "image/png": "[encoded data removed]",
      "text/plain": [
       "<Figure size 640x480 with 1 Axes>"
      ]
     },
     "metadata": {},
     "output_type": "display_data"
    },
    {
     "data": {
      "image/png": "[encoded data removed]",
      "text/plain": [
       "<Figure size 640x480 with 1 Axes>"
      ]
     },
     "metadata": {},
     "output_type": "display_data"
    }
   ],
   "source": [
    "for k in tc_files:\n",
    "    figure()\n",
    "    print(k)\n",
    "    with open(k,'rt') as fid:\n",
    "        data = fid.read()\n",
    "    data = data[data.find('0.tif;'):].splitlines()\n",
    "    XY = np.array([(float(j.split(\"(\")[1].split(\",\")[0]),float(j.split(\")\")[0].split(\",\")[1])) for j in data])\n",
    "    #break\n",
    "    fovx,fovy = get_fov(XY)\n",
    "    print(fovx,fovy)\n",
    "    for k1,k2 in XY:\n",
    "        plot(k1,k2,'or')\n",
    "        plot_rectangle(k1,k1+fovx, k2,k2+fovy)\n",
    "    axis('equal')"
   ]
  },
  {
   "cell_type": "code",
   "execution_count": 52,
   "id": "8872330d",
   "metadata": {},
   "outputs": [
    {
     "name": "stdout",
     "output_type": "stream",
     "text": [
      "C:\\Users\\lociuser\\Codes\\MikeN\\data\\slides\\First_Test2\\4x_bf_1\\2447_1631\\TileConfiguration.txt\n",
      "1538.0 1149.0\n",
      "C:\\Users\\lociuser\\Codes\\MikeN\\data\\slides\\First_Test2\\4x_bf_1\\2447_1631\\TileConfiguration_QP.txt\n",
      "213.6333333333332 159.6111111111111\n"
     ]
    },
    {
     "name": "stdout",
     "output_type": "stream",
     "text": [
      "C:\\Users\\lociuser\\Codes\\MikeN\\data\\slides\\First_Test2\\4x_bf_1\\2447_1631\\TileConfiguration_transformed.txt\n",
      "1538.1599999999962 1149.2000000000007\n"
     ]
    },
    {
     "data": {
      "image/png": "[encoded data removed]",
      "text/plain": [
       "<Figure size 640x480 with 1 Axes>"
      ]
     },
     "metadata": {},
     "output_type": "display_data"
    },
    {
     "data": {
      "image/png": "[encoded data removed]",
      "text/plain": [
       "<Figure size 640x480 with 1 Axes>"
      ]
     },
     "metadata": {},
     "output_type": "display_data"
    },
    {
     "data": {
      "image/png": "[encoded data removed]",
      "text/plain": [
       "<Figure size 640x480 with 1 Axes>"
      ]
     },
     "metadata": {},
     "output_type": "display_data"
    }
   ],
   "source": [
    "tc_files = r'C:\\Users\\lociuser\\Codes\\MikeN\\data\\slides\\First_Test2\\4x_bf_1\\2447_1631'\n",
    "\n",
    "tc_files = glob.glob(os.path.join(tc_files,'*.txt'))\n",
    "\n",
    "for k in tc_files:\n",
    "    figure()\n",
    "    print(k)\n",
    "    with open(k,'rt') as fid:\n",
    "        data = fid.read()\n",
    "    data = data[data.find('0.tif;'):].splitlines()\n",
    "    XY = np.array([(float(j.split(\"(\")[1].split(\",\")[0]),float(j.split(\")\")[0].split(\",\")[1])) for j in data])\n",
    "    #break\n",
    "    fovx,fovy = get_fov(XY)\n",
    "    print(fovx,fovy)\n",
    "    for k1,k2 in XY:\n",
    "        plot(k1,k2,'or')\n",
    "        plot_rectangle(k1,k1+fovx, k2,k2+fovy)\n",
    "    axis('equal')"
   ]
  },
  {
   "cell_type": "code",
   "execution_count": null,
   "id": "0e6a1721",
   "metadata": {},
   "outputs": [],
   "source": []
  },
  {
   "cell_type": "code",
   "execution_count": null,
   "id": "3ea39d48",
   "metadata": {},
   "outputs": [],
   "source": []
  },
  {
   "cell_type": "code",
   "execution_count": 12,
   "id": "0cdf7965",
   "metadata": {},
   "outputs": [],
   "source": [
    "from matplotlib.pyplot import *\n",
    "%matplotlib inline"
   ]
  },
  {
   "cell_type": "code",
   "execution_count": null,
   "id": "0e3e8855",
   "metadata": {},
   "outputs": [],
   "source": []
  },
  {
   "cell_type": "code",
   "execution_count": null,
   "id": "2ab7afce",
   "metadata": {},
   "outputs": [],
   "source": []
  }
 ],
 "metadata": {
  "kernelspec": {
   "display_name": "Python 3 (ipykernel)",
   "language": "python",
   "name": "python3"
  },
  "language_info": {
   "codemirror_mode": {
    "name": "ipython",
    "version": 3
   },
   "file_extension": ".py",
   "mimetype": "text/x-python",
   "name": "python",
   "nbconvert_exporter": "python",
   "pygments_lexer": "ipython3",
   "version": "3.8.3"
  }
 },
 "nbformat": 4,
 "nbformat_minor": 5
}
